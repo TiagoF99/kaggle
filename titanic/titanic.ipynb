{
 "cells": [
  {
   "cell_type": "code",
   "execution_count": 1,
   "metadata": {},
   "outputs": [],
   "source": [
    "import numpy as np\n",
    "import pandas as pd\n",
    "\n",
    "import matplotlib.pyplot as plt\n",
    "import seaborn as sns\n",
    "#sns.set_style('whitegrid')\n",
    "\n",
    "%matplotlib inline"
   ]
  },
  {
   "cell_type": "code",
   "execution_count": 2,
   "metadata": {},
   "outputs": [],
   "source": [
    "train = pd.read_csv('data/train.csv')"
   ]
  },
  {
   "cell_type": "markdown",
   "metadata": {},
   "source": [
    "### Exploratory Data Analysis\n",
    "Data Exploration and Cleaning - Adesh"
   ]
  },
  {
   "cell_type": "code",
   "execution_count": 3,
   "metadata": {},
   "outputs": [
    {
     "data": {
      "text/html": [
       "<div>\n",
       "<style scoped>\n",
       "    .dataframe tbody tr th:only-of-type {\n",
       "        vertical-align: middle;\n",
       "    }\n",
       "\n",
       "    .dataframe tbody tr th {\n",
       "        vertical-align: top;\n",
       "    }\n",
       "\n",
       "    .dataframe thead th {\n",
       "        text-align: right;\n",
       "    }\n",
       "</style>\n",
       "<table border=\"1\" class=\"dataframe\">\n",
       "  <thead>\n",
       "    <tr style=\"text-align: right;\">\n",
       "      <th></th>\n",
       "      <th>PassengerId</th>\n",
       "      <th>Survived</th>\n",
       "      <th>Pclass</th>\n",
       "      <th>Name</th>\n",
       "      <th>Sex</th>\n",
       "      <th>Age</th>\n",
       "      <th>SibSp</th>\n",
       "      <th>Parch</th>\n",
       "      <th>Ticket</th>\n",
       "      <th>Fare</th>\n",
       "      <th>Cabin</th>\n",
       "      <th>Embarked</th>\n",
       "    </tr>\n",
       "  </thead>\n",
       "  <tbody>\n",
       "    <tr>\n",
       "      <th>0</th>\n",
       "      <td>1</td>\n",
       "      <td>0</td>\n",
       "      <td>3</td>\n",
       "      <td>Braund, Mr. Owen Harris</td>\n",
       "      <td>male</td>\n",
       "      <td>22.0</td>\n",
       "      <td>1</td>\n",
       "      <td>0</td>\n",
       "      <td>A/5 21171</td>\n",
       "      <td>7.2500</td>\n",
       "      <td>NaN</td>\n",
       "      <td>S</td>\n",
       "    </tr>\n",
       "    <tr>\n",
       "      <th>1</th>\n",
       "      <td>2</td>\n",
       "      <td>1</td>\n",
       "      <td>1</td>\n",
       "      <td>Cumings, Mrs. John Bradley (Florence Briggs Th...</td>\n",
       "      <td>female</td>\n",
       "      <td>38.0</td>\n",
       "      <td>1</td>\n",
       "      <td>0</td>\n",
       "      <td>PC 17599</td>\n",
       "      <td>71.2833</td>\n",
       "      <td>C85</td>\n",
       "      <td>C</td>\n",
       "    </tr>\n",
       "    <tr>\n",
       "      <th>2</th>\n",
       "      <td>3</td>\n",
       "      <td>1</td>\n",
       "      <td>3</td>\n",
       "      <td>Heikkinen, Miss. Laina</td>\n",
       "      <td>female</td>\n",
       "      <td>26.0</td>\n",
       "      <td>0</td>\n",
       "      <td>0</td>\n",
       "      <td>STON/O2. 3101282</td>\n",
       "      <td>7.9250</td>\n",
       "      <td>NaN</td>\n",
       "      <td>S</td>\n",
       "    </tr>\n",
       "    <tr>\n",
       "      <th>3</th>\n",
       "      <td>4</td>\n",
       "      <td>1</td>\n",
       "      <td>1</td>\n",
       "      <td>Futrelle, Mrs. Jacques Heath (Lily May Peel)</td>\n",
       "      <td>female</td>\n",
       "      <td>35.0</td>\n",
       "      <td>1</td>\n",
       "      <td>0</td>\n",
       "      <td>113803</td>\n",
       "      <td>53.1000</td>\n",
       "      <td>C123</td>\n",
       "      <td>S</td>\n",
       "    </tr>\n",
       "    <tr>\n",
       "      <th>4</th>\n",
       "      <td>5</td>\n",
       "      <td>0</td>\n",
       "      <td>3</td>\n",
       "      <td>Allen, Mr. William Henry</td>\n",
       "      <td>male</td>\n",
       "      <td>35.0</td>\n",
       "      <td>0</td>\n",
       "      <td>0</td>\n",
       "      <td>373450</td>\n",
       "      <td>8.0500</td>\n",
       "      <td>NaN</td>\n",
       "      <td>S</td>\n",
       "    </tr>\n",
       "  </tbody>\n",
       "</table>\n",
       "</div>"
      ],
      "text/plain": [
       "   PassengerId  Survived  Pclass  \\\n",
       "0            1         0       3   \n",
       "1            2         1       1   \n",
       "2            3         1       3   \n",
       "3            4         1       1   \n",
       "4            5         0       3   \n",
       "\n",
       "                                                Name     Sex   Age  SibSp  \\\n",
       "0                            Braund, Mr. Owen Harris    male  22.0      1   \n",
       "1  Cumings, Mrs. John Bradley (Florence Briggs Th...  female  38.0      1   \n",
       "2                             Heikkinen, Miss. Laina  female  26.0      0   \n",
       "3       Futrelle, Mrs. Jacques Heath (Lily May Peel)  female  35.0      1   \n",
       "4                           Allen, Mr. William Henry    male  35.0      0   \n",
       "\n",
       "   Parch            Ticket     Fare Cabin Embarked  \n",
       "0      0         A/5 21171   7.2500   NaN        S  \n",
       "1      0          PC 17599  71.2833   C85        C  \n",
       "2      0  STON/O2. 3101282   7.9250   NaN        S  \n",
       "3      0            113803  53.1000  C123        S  \n",
       "4      0            373450   8.0500   NaN        S  "
      ]
     },
     "execution_count": 3,
     "metadata": {},
     "output_type": "execute_result"
    }
   ],
   "source": [
    "train.head(5)"
   ]
  },
  {
   "cell_type": "markdown",
   "metadata": {},
   "source": [
    "Feature Breakdown:\n",
    "\n",
    "- Categorical: Survived, Pclass, Sex, Embarked\n",
    "- Numerical: Age, Fare, SibSp, Parch\n",
    "- Mixed: Name, Ticket, Cabin"
   ]
  },
  {
   "cell_type": "code",
   "execution_count": 4,
   "metadata": {},
   "outputs": [
    {
     "data": {
      "text/html": [
       "<div>\n",
       "<style scoped>\n",
       "    .dataframe tbody tr th:only-of-type {\n",
       "        vertical-align: middle;\n",
       "    }\n",
       "\n",
       "    .dataframe tbody tr th {\n",
       "        vertical-align: top;\n",
       "    }\n",
       "\n",
       "    .dataframe thead th {\n",
       "        text-align: right;\n",
       "    }\n",
       "</style>\n",
       "<table border=\"1\" class=\"dataframe\">\n",
       "  <thead>\n",
       "    <tr style=\"text-align: right;\">\n",
       "      <th></th>\n",
       "      <th>PassengerId</th>\n",
       "      <th>Survived</th>\n",
       "      <th>Pclass</th>\n",
       "      <th>Age</th>\n",
       "      <th>SibSp</th>\n",
       "      <th>Parch</th>\n",
       "      <th>Fare</th>\n",
       "    </tr>\n",
       "  </thead>\n",
       "  <tbody>\n",
       "    <tr>\n",
       "      <th>count</th>\n",
       "      <td>891.000000</td>\n",
       "      <td>891.000000</td>\n",
       "      <td>891.000000</td>\n",
       "      <td>714.000000</td>\n",
       "      <td>891.000000</td>\n",
       "      <td>891.000000</td>\n",
       "      <td>891.000000</td>\n",
       "    </tr>\n",
       "    <tr>\n",
       "      <th>mean</th>\n",
       "      <td>446.000000</td>\n",
       "      <td>0.383838</td>\n",
       "      <td>2.308642</td>\n",
       "      <td>29.699118</td>\n",
       "      <td>0.523008</td>\n",
       "      <td>0.381594</td>\n",
       "      <td>32.204208</td>\n",
       "    </tr>\n",
       "    <tr>\n",
       "      <th>std</th>\n",
       "      <td>257.353842</td>\n",
       "      <td>0.486592</td>\n",
       "      <td>0.836071</td>\n",
       "      <td>14.526497</td>\n",
       "      <td>1.102743</td>\n",
       "      <td>0.806057</td>\n",
       "      <td>49.693429</td>\n",
       "    </tr>\n",
       "    <tr>\n",
       "      <th>min</th>\n",
       "      <td>1.000000</td>\n",
       "      <td>0.000000</td>\n",
       "      <td>1.000000</td>\n",
       "      <td>0.420000</td>\n",
       "      <td>0.000000</td>\n",
       "      <td>0.000000</td>\n",
       "      <td>0.000000</td>\n",
       "    </tr>\n",
       "    <tr>\n",
       "      <th>25%</th>\n",
       "      <td>223.500000</td>\n",
       "      <td>0.000000</td>\n",
       "      <td>2.000000</td>\n",
       "      <td>20.125000</td>\n",
       "      <td>0.000000</td>\n",
       "      <td>0.000000</td>\n",
       "      <td>7.910400</td>\n",
       "    </tr>\n",
       "    <tr>\n",
       "      <th>50%</th>\n",
       "      <td>446.000000</td>\n",
       "      <td>0.000000</td>\n",
       "      <td>3.000000</td>\n",
       "      <td>28.000000</td>\n",
       "      <td>0.000000</td>\n",
       "      <td>0.000000</td>\n",
       "      <td>14.454200</td>\n",
       "    </tr>\n",
       "    <tr>\n",
       "      <th>75%</th>\n",
       "      <td>668.500000</td>\n",
       "      <td>1.000000</td>\n",
       "      <td>3.000000</td>\n",
       "      <td>38.000000</td>\n",
       "      <td>1.000000</td>\n",
       "      <td>0.000000</td>\n",
       "      <td>31.000000</td>\n",
       "    </tr>\n",
       "    <tr>\n",
       "      <th>max</th>\n",
       "      <td>891.000000</td>\n",
       "      <td>1.000000</td>\n",
       "      <td>3.000000</td>\n",
       "      <td>80.000000</td>\n",
       "      <td>8.000000</td>\n",
       "      <td>6.000000</td>\n",
       "      <td>512.329200</td>\n",
       "    </tr>\n",
       "  </tbody>\n",
       "</table>\n",
       "</div>"
      ],
      "text/plain": [
       "       PassengerId    Survived      Pclass         Age       SibSp  \\\n",
       "count   891.000000  891.000000  891.000000  714.000000  891.000000   \n",
       "mean    446.000000    0.383838    2.308642   29.699118    0.523008   \n",
       "std     257.353842    0.486592    0.836071   14.526497    1.102743   \n",
       "min       1.000000    0.000000    1.000000    0.420000    0.000000   \n",
       "25%     223.500000    0.000000    2.000000   20.125000    0.000000   \n",
       "50%     446.000000    0.000000    3.000000   28.000000    0.000000   \n",
       "75%     668.500000    1.000000    3.000000   38.000000    1.000000   \n",
       "max     891.000000    1.000000    3.000000   80.000000    8.000000   \n",
       "\n",
       "            Parch        Fare  \n",
       "count  891.000000  891.000000  \n",
       "mean     0.381594   32.204208  \n",
       "std      0.806057   49.693429  \n",
       "min      0.000000    0.000000  \n",
       "25%      0.000000    7.910400  \n",
       "50%      0.000000   14.454200  \n",
       "75%      0.000000   31.000000  \n",
       "max      6.000000  512.329200  "
      ]
     },
     "execution_count": 4,
     "metadata": {},
     "output_type": "execute_result"
    }
   ],
   "source": [
    "train.describe()"
   ]
  },
  {
   "cell_type": "code",
   "execution_count": 5,
   "metadata": {},
   "outputs": [
    {
     "data": {
      "text/plain": [
       "<matplotlib.axes._subplots.AxesSubplot at 0x1a20af4ba8>"
      ]
     },
     "execution_count": 5,
     "metadata": {},
     "output_type": "execute_result"
    },
    {
     "data": {
      "image/png": "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\n",
      "text/plain": [
       "<Figure size 432x288 with 1 Axes>"
      ]
     },
     "metadata": {
      "needs_background": "light"
     },
     "output_type": "display_data"
    }
   ],
   "source": [
    "sns.heatmap(train.isnull(), cbar=False)"
   ]
  },
  {
   "cell_type": "markdown",
   "metadata": {},
   "source": [
    "Assumptions:\n",
    "- `passengerId` has no influence on the data -> drop\n",
    "- `Cabin` is missing most of its values and therefore cannot be imputed -> drop\n",
    "- `Ticket` is alphanumerical (difficult to work with) and 23% of values aren't unique -> drop?\n",
    "- `Name` is a mixture of names and titles, seemingly doesn't affect survival -> drop?"
   ]
  },
  {
   "cell_type": "code",
   "execution_count": 6,
   "metadata": {},
   "outputs": [
    {
     "data": {
      "text/plain": [
       "<matplotlib.axes._subplots.AxesSubplot at 0x1a20f08c88>"
      ]
     },
     "execution_count": 6,
     "metadata": {},
     "output_type": "execute_result"
    },
    {
     "data": {
      "image/png": "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\n",
      "text/plain": [
       "<Figure size 432x288 with 1 Axes>"
      ]
     },
     "metadata": {
      "needs_background": "light"
     },
     "output_type": "display_data"
    }
   ],
   "source": [
    "train['Age'].hist(bins=30)"
   ]
  },
  {
   "cell_type": "code",
   "execution_count": 7,
   "metadata": {},
   "outputs": [
    {
     "data": {
      "text/plain": [
       "<matplotlib.axes._subplots.AxesSubplot at 0x1a20e61dd8>"
      ]
     },
     "execution_count": 7,
     "metadata": {},
     "output_type": "execute_result"
    },
    {
     "data": {
      "image/png": "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\n",
      "text/plain": [
       "<Figure size 432x288 with 1 Axes>"
      ]
     },
     "metadata": {
      "needs_background": "light"
     },
     "output_type": "display_data"
    }
   ],
   "source": [
    "sns.countplot(x='Survived', data=train, hue='Sex')"
   ]
  },
  {
   "cell_type": "code",
   "execution_count": 8,
   "metadata": {},
   "outputs": [
    {
     "data": {
      "text/plain": [
       "<matplotlib.axes._subplots.AxesSubplot at 0x1a210a6e48>"
      ]
     },
     "execution_count": 8,
     "metadata": {},
     "output_type": "execute_result"
    },
    {
     "data": {
      "image/png": "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\n",
      "text/plain": [
       "<Figure size 432x288 with 1 Axes>"
      ]
     },
     "metadata": {
      "needs_background": "light"
     },
     "output_type": "display_data"
    }
   ],
   "source": [
    "sns.countplot(x='Survived', data=train, hue='Embarked')"
   ]
  },
  {
   "cell_type": "code",
   "execution_count": 9,
   "metadata": {},
   "outputs": [
    {
     "data": {
      "text/plain": [
       "<matplotlib.axes._subplots.AxesSubplot at 0x1a20fc6208>"
      ]
     },
     "execution_count": 9,
     "metadata": {},
     "output_type": "execute_result"
    },
    {
     "data": {
      "image/png": "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\n",
      "text/plain": [
       "<Figure size 864x432 with 1 Axes>"
      ]
     },
     "metadata": {
      "needs_background": "light"
     },
     "output_type": "display_data"
    }
   ],
   "source": [
    "plt.figure(figsize=(12, 6))\n",
    "sns.boxplot(x='Pclass', y='Age', hue='Sex', data=train)"
   ]
  },
  {
   "cell_type": "code",
   "execution_count": 10,
   "metadata": {},
   "outputs": [
    {
     "data": {
      "text/plain": [
       "['35.0', '40.0', '28.0', '30.0', '21.5', '25.0']"
      ]
     },
     "execution_count": 10,
     "metadata": {},
     "output_type": "execute_result"
    }
   ],
   "source": [
    "medians = train.groupby(['Pclass','Sex'])['Age'].median().values\n",
    "medians = [str(np.round(s, 2)) for s in medians]\n",
    "medians"
   ]
  },
  {
   "cell_type": "markdown",
   "metadata": {},
   "source": [
    " - `age_imputation` imputes the age of a passenger with the median value for their respective Pclass and Sex.\n",
    " - `gender` hot encodes male (1) / female (0).\n",
    " - `southampton` and `queenstown` hot encodes the port of embarking."
   ]
  },
  {
   "cell_type": "code",
   "execution_count": 11,
   "metadata": {},
   "outputs": [],
   "source": [
    "def age_imputation (cols):\n",
    "    Age = cols[0]\n",
    "    Sex = cols[1]\n",
    "    Pclass = cols[2]\n",
    "    \n",
    "    if pd.isnull(Age):\n",
    "        if Pclass == 1 and Sex == 'male':\n",
    "            return 40\n",
    "        elif Pclass == 1 and Sex == 'female':\n",
    "            return 35\n",
    "        elif Pclass == 2 and Sex == 'male':\n",
    "            return 30\n",
    "        elif Pclass == 2 and Sex == 'female':\n",
    "            return 28\n",
    "        elif Pclass == 3 and Sex == 'male':\n",
    "            return 25\n",
    "        elif Pclass == 3 and Sex == 'female':\n",
    "            return 22\n",
    "    else:\n",
    "        return Age\n",
    "\n",
    "def gender (val):\n",
    "    if val == 'male':\n",
    "        return 1\n",
    "    else:\n",
    "        return 0\n",
    "\n",
    "def southampton (col):\n",
    "    Embarked = col\n",
    "    \n",
    "    if Embarked == 'S':\n",
    "        return 1\n",
    "    else:\n",
    "        return 0\n",
    "\n",
    "def queenstown (col):\n",
    "    Embarked = col\n",
    "    \n",
    "    if Embarked == 'Q':\n",
    "        return 1\n",
    "    else:\n",
    "        return 0\n",
    "    \n",
    "def title_cat (x):\n",
    "    if x == 'Mr':\n",
    "        return 1\n",
    "    elif x == 'Miss' or x == 'Mrs' or x == 'Ms' or x == 'Mme' or x == 'Lady' or x == 'Mlle':\n",
    "        return 2\n",
    "    else:\n",
    "        return 3"
   ]
  },
  {
   "cell_type": "code",
   "execution_count": 12,
   "metadata": {},
   "outputs": [],
   "source": [
    "train['Age'] = train[['Age','Sex','Pclass']].apply(age_imputation,axis=1)\n",
    "train['Sex'] = train['Sex'].apply(lambda x: gender(x))\n",
    "\n",
    "train['S'] = train['Embarked'].apply(lambda x: southampton(x))\n",
    "train['Q'] = train['Embarked'].apply(lambda x: queenstown(x))\n",
    "\n",
    "train['Title'] = train['Name'].apply(lambda x: x.split(', ')[1].split('.')[0].strip())\n",
    "train['Title'] = train['Title'].apply(lambda x: title_cat(x))"
   ]
  },
  {
   "cell_type": "code",
   "execution_count": 13,
   "metadata": {},
   "outputs": [],
   "source": [
    "train.drop(['Cabin', 'PassengerId', 'Name', 'Ticket', 'Embarked'], axis=1, inplace=True)"
   ]
  },
  {
   "cell_type": "code",
   "execution_count": 14,
   "metadata": {},
   "outputs": [
    {
     "data": {
      "text/html": [
       "<div>\n",
       "<style scoped>\n",
       "    .dataframe tbody tr th:only-of-type {\n",
       "        vertical-align: middle;\n",
       "    }\n",
       "\n",
       "    .dataframe tbody tr th {\n",
       "        vertical-align: top;\n",
       "    }\n",
       "\n",
       "    .dataframe thead th {\n",
       "        text-align: right;\n",
       "    }\n",
       "</style>\n",
       "<table border=\"1\" class=\"dataframe\">\n",
       "  <thead>\n",
       "    <tr style=\"text-align: right;\">\n",
       "      <th></th>\n",
       "      <th>Survived</th>\n",
       "      <th>Pclass</th>\n",
       "      <th>Sex</th>\n",
       "      <th>Age</th>\n",
       "      <th>SibSp</th>\n",
       "      <th>Parch</th>\n",
       "      <th>Fare</th>\n",
       "      <th>S</th>\n",
       "      <th>Q</th>\n",
       "      <th>Title</th>\n",
       "    </tr>\n",
       "  </thead>\n",
       "  <tbody>\n",
       "    <tr>\n",
       "      <th>0</th>\n",
       "      <td>0</td>\n",
       "      <td>3</td>\n",
       "      <td>1</td>\n",
       "      <td>22.0</td>\n",
       "      <td>1</td>\n",
       "      <td>0</td>\n",
       "      <td>7.2500</td>\n",
       "      <td>1</td>\n",
       "      <td>0</td>\n",
       "      <td>1</td>\n",
       "    </tr>\n",
       "    <tr>\n",
       "      <th>1</th>\n",
       "      <td>1</td>\n",
       "      <td>1</td>\n",
       "      <td>0</td>\n",
       "      <td>38.0</td>\n",
       "      <td>1</td>\n",
       "      <td>0</td>\n",
       "      <td>71.2833</td>\n",
       "      <td>0</td>\n",
       "      <td>0</td>\n",
       "      <td>2</td>\n",
       "    </tr>\n",
       "    <tr>\n",
       "      <th>2</th>\n",
       "      <td>1</td>\n",
       "      <td>3</td>\n",
       "      <td>0</td>\n",
       "      <td>26.0</td>\n",
       "      <td>0</td>\n",
       "      <td>0</td>\n",
       "      <td>7.9250</td>\n",
       "      <td>1</td>\n",
       "      <td>0</td>\n",
       "      <td>2</td>\n",
       "    </tr>\n",
       "    <tr>\n",
       "      <th>3</th>\n",
       "      <td>1</td>\n",
       "      <td>1</td>\n",
       "      <td>0</td>\n",
       "      <td>35.0</td>\n",
       "      <td>1</td>\n",
       "      <td>0</td>\n",
       "      <td>53.1000</td>\n",
       "      <td>1</td>\n",
       "      <td>0</td>\n",
       "      <td>2</td>\n",
       "    </tr>\n",
       "    <tr>\n",
       "      <th>4</th>\n",
       "      <td>0</td>\n",
       "      <td>3</td>\n",
       "      <td>1</td>\n",
       "      <td>35.0</td>\n",
       "      <td>0</td>\n",
       "      <td>0</td>\n",
       "      <td>8.0500</td>\n",
       "      <td>1</td>\n",
       "      <td>0</td>\n",
       "      <td>1</td>\n",
       "    </tr>\n",
       "    <tr>\n",
       "      <th>5</th>\n",
       "      <td>0</td>\n",
       "      <td>3</td>\n",
       "      <td>1</td>\n",
       "      <td>25.0</td>\n",
       "      <td>0</td>\n",
       "      <td>0</td>\n",
       "      <td>8.4583</td>\n",
       "      <td>0</td>\n",
       "      <td>1</td>\n",
       "      <td>1</td>\n",
       "    </tr>\n",
       "    <tr>\n",
       "      <th>6</th>\n",
       "      <td>0</td>\n",
       "      <td>1</td>\n",
       "      <td>1</td>\n",
       "      <td>54.0</td>\n",
       "      <td>0</td>\n",
       "      <td>0</td>\n",
       "      <td>51.8625</td>\n",
       "      <td>1</td>\n",
       "      <td>0</td>\n",
       "      <td>1</td>\n",
       "    </tr>\n",
       "    <tr>\n",
       "      <th>7</th>\n",
       "      <td>0</td>\n",
       "      <td>3</td>\n",
       "      <td>1</td>\n",
       "      <td>2.0</td>\n",
       "      <td>3</td>\n",
       "      <td>1</td>\n",
       "      <td>21.0750</td>\n",
       "      <td>1</td>\n",
       "      <td>0</td>\n",
       "      <td>3</td>\n",
       "    </tr>\n",
       "    <tr>\n",
       "      <th>8</th>\n",
       "      <td>1</td>\n",
       "      <td>3</td>\n",
       "      <td>0</td>\n",
       "      <td>27.0</td>\n",
       "      <td>0</td>\n",
       "      <td>2</td>\n",
       "      <td>11.1333</td>\n",
       "      <td>1</td>\n",
       "      <td>0</td>\n",
       "      <td>2</td>\n",
       "    </tr>\n",
       "    <tr>\n",
       "      <th>9</th>\n",
       "      <td>1</td>\n",
       "      <td>2</td>\n",
       "      <td>0</td>\n",
       "      <td>14.0</td>\n",
       "      <td>1</td>\n",
       "      <td>0</td>\n",
       "      <td>30.0708</td>\n",
       "      <td>0</td>\n",
       "      <td>0</td>\n",
       "      <td>2</td>\n",
       "    </tr>\n",
       "  </tbody>\n",
       "</table>\n",
       "</div>"
      ],
      "text/plain": [
       "   Survived  Pclass  Sex   Age  SibSp  Parch     Fare  S  Q  Title\n",
       "0         0       3    1  22.0      1      0   7.2500  1  0      1\n",
       "1         1       1    0  38.0      1      0  71.2833  0  0      2\n",
       "2         1       3    0  26.0      0      0   7.9250  1  0      2\n",
       "3         1       1    0  35.0      1      0  53.1000  1  0      2\n",
       "4         0       3    1  35.0      0      0   8.0500  1  0      1\n",
       "5         0       3    1  25.0      0      0   8.4583  0  1      1\n",
       "6         0       1    1  54.0      0      0  51.8625  1  0      1\n",
       "7         0       3    1   2.0      3      1  21.0750  1  0      3\n",
       "8         1       3    0  27.0      0      2  11.1333  1  0      2\n",
       "9         1       2    0  14.0      1      0  30.0708  0  0      2"
      ]
     },
     "execution_count": 14,
     "metadata": {},
     "output_type": "execute_result"
    }
   ],
   "source": [
    "train.head(10)"
   ]
  },
  {
   "cell_type": "code",
   "execution_count": 15,
   "metadata": {},
   "outputs": [
    {
     "data": {
      "text/plain": [
       "<matplotlib.axes._subplots.AxesSubplot at 0x1a2144ff98>"
      ]
     },
     "execution_count": 15,
     "metadata": {},
     "output_type": "execute_result"
    },
    {
     "data": {
      "image/png": "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\n",
      "text/plain": [
       "<Figure size 432x288 with 2 Axes>"
      ]
     },
     "metadata": {
      "needs_background": "light"
     },
     "output_type": "display_data"
    }
   ],
   "source": [
    "sns.heatmap(train.corr(), annot= True)"
   ]
  },
  {
   "cell_type": "code",
   "execution_count": 16,
   "metadata": {},
   "outputs": [],
   "source": [
    "train.to_csv('data/train_clean.csv')"
   ]
  },
  {
   "cell_type": "markdown",
   "metadata": {},
   "source": [
    "### Machine Learning Models\n",
    "\n",
    "1. Logistic Regression - Tiago\n",
    "2. Random Forest Classification - Adesh\n",
    "3. Support Vector Machine - Raman\n",
    "4. Neural Network - Adesh\n",
    "___"
   ]
  },
  {
   "cell_type": "markdown",
   "metadata": {},
   "source": [
    "**Neural Network using Keras - Adesh**"
   ]
  },
  {
   "cell_type": "markdown",
   "metadata": {},
   "source": [
    "Splitting data into `X_train` and `y_train`, scaling the data, and using Keras for Neural Network."
   ]
  },
  {
   "cell_type": "code",
   "execution_count": 17,
   "metadata": {},
   "outputs": [
    {
     "name": "stderr",
     "output_type": "stream",
     "text": [
      "/anaconda3/lib/python3.7/site-packages/sklearn/preprocessing/data.py:645: DataConversionWarning: Data with input dtype int64, float64 were all converted to float64 by StandardScaler.\n",
      "  return self.partial_fit(X, y)\n",
      "/anaconda3/lib/python3.7/site-packages/sklearn/base.py:464: DataConversionWarning: Data with input dtype int64, float64 were all converted to float64 by StandardScaler.\n",
      "  return self.fit(X, **fit_params).transform(X)\n"
     ]
    }
   ],
   "source": [
    "from sklearn.preprocessing import StandardScaler\n",
    "\n",
    "X_train = train.iloc[:, 1:10]\n",
    "y_train = train.iloc[:, 0]\n",
    "\n",
    "sc = StandardScaler()\n",
    "X_train = sc.fit_transform(X_train)"
   ]
  },
  {
   "cell_type": "code",
   "execution_count": 18,
   "metadata": {},
   "outputs": [
    {
     "name": "stderr",
     "output_type": "stream",
     "text": [
      "Using TensorFlow backend.\n",
      "WARNING: Logging before flag parsing goes to stderr.\n",
      "W0814 11:24:11.285120 4539381184 deprecation_wrapper.py:119] From /anaconda3/lib/python3.7/site-packages/keras/backend/tensorflow_backend.py:74: The name tf.get_default_graph is deprecated. Please use tf.compat.v1.get_default_graph instead.\n",
      "\n",
      "W0814 11:24:11.297944 4539381184 deprecation_wrapper.py:119] From /anaconda3/lib/python3.7/site-packages/keras/backend/tensorflow_backend.py:517: The name tf.placeholder is deprecated. Please use tf.compat.v1.placeholder instead.\n",
      "\n",
      "W0814 11:24:11.300104 4539381184 deprecation_wrapper.py:119] From /anaconda3/lib/python3.7/site-packages/keras/backend/tensorflow_backend.py:4115: The name tf.random_normal is deprecated. Please use tf.random.normal instead.\n",
      "\n",
      "W0814 11:24:11.333997 4539381184 deprecation_wrapper.py:119] From /anaconda3/lib/python3.7/site-packages/keras/optimizers.py:790: The name tf.train.Optimizer is deprecated. Please use tf.compat.v1.train.Optimizer instead.\n",
      "\n",
      "W0814 11:24:11.351258 4539381184 deprecation_wrapper.py:119] From /anaconda3/lib/python3.7/site-packages/keras/backend/tensorflow_backend.py:3376: The name tf.log is deprecated. Please use tf.math.log instead.\n",
      "\n",
      "W0814 11:24:11.355638 4539381184 deprecation.py:323] From /anaconda3/lib/python3.7/site-packages/tensorflow/python/ops/nn_impl.py:180: add_dispatch_support.<locals>.wrapper (from tensorflow.python.ops.array_ops) is deprecated and will be removed in a future version.\n",
      "Instructions for updating:\n",
      "Use tf.where in 2.0, which has the same broadcast rule as np.where\n",
      "W0814 11:24:11.500791 4539381184 deprecation_wrapper.py:119] From /anaconda3/lib/python3.7/site-packages/keras/backend/tensorflow_backend.py:986: The name tf.assign_add is deprecated. Please use tf.compat.v1.assign_add instead.\n",
      "\n"
     ]
    },
    {
     "name": "stdout",
     "output_type": "stream",
     "text": [
      "Epoch 1/256\n",
      "891/891 [==============================] - 0s 290us/step - loss: 0.6928 - acc: 0.5679\n",
      "Epoch 2/256\n",
      "891/891 [==============================] - 0s 9us/step - loss: 0.6920 - acc: 0.6162\n",
      "Epoch 3/256\n",
      "891/891 [==============================] - 0s 10us/step - loss: 0.6913 - acc: 0.6162\n",
      "Epoch 4/256\n",
      "891/891 [==============================] - 0s 15us/step - loss: 0.6904 - acc: 0.6162\n",
      "Epoch 5/256\n",
      "891/891 [==============================] - 0s 9us/step - loss: 0.6896 - acc: 0.6162\n",
      "Epoch 6/256\n",
      "891/891 [==============================] - 0s 10us/step - loss: 0.6886 - acc: 0.6162\n",
      "Epoch 7/256\n",
      "891/891 [==============================] - 0s 9us/step - loss: 0.6875 - acc: 0.6162\n",
      "Epoch 8/256\n",
      "891/891 [==============================] - 0s 11us/step - loss: 0.6862 - acc: 0.6162\n",
      "Epoch 9/256\n",
      "891/891 [==============================] - 0s 10us/step - loss: 0.6847 - acc: 0.6162\n",
      "Epoch 10/256\n",
      "891/891 [==============================] - 0s 10us/step - loss: 0.6830 - acc: 0.6162\n",
      "Epoch 11/256\n",
      "891/891 [==============================] - 0s 10us/step - loss: 0.6809 - acc: 0.6364\n",
      "Epoch 12/256\n",
      "891/891 [==============================] - 0s 10us/step - loss: 0.6784 - acc: 0.6880\n",
      "Epoch 13/256\n",
      "891/891 [==============================] - 0s 10us/step - loss: 0.6755 - acc: 0.7643\n",
      "Epoch 14/256\n",
      "891/891 [==============================] - 0s 15us/step - loss: 0.6722 - acc: 0.8058\n",
      "Epoch 15/256\n",
      "891/891 [==============================] - 0s 10us/step - loss: 0.6683 - acc: 0.8294\n",
      "Epoch 16/256\n",
      "891/891 [==============================] - 0s 10us/step - loss: 0.6641 - acc: 0.8193\n",
      "Epoch 17/256\n",
      "891/891 [==============================] - 0s 10us/step - loss: 0.6595 - acc: 0.8171\n",
      "Epoch 18/256\n",
      "891/891 [==============================] - 0s 9us/step - loss: 0.6542 - acc: 0.8193\n",
      "Epoch 19/256\n",
      "891/891 [==============================] - 0s 10us/step - loss: 0.6489 - acc: 0.8126\n",
      "Epoch 20/256\n",
      "891/891 [==============================] - 0s 10us/step - loss: 0.6433 - acc: 0.8103\n",
      "Epoch 21/256\n",
      "891/891 [==============================] - 0s 11us/step - loss: 0.6372 - acc: 0.8092\n",
      "Epoch 22/256\n",
      "891/891 [==============================] - 0s 9us/step - loss: 0.6312 - acc: 0.8058\n",
      "Epoch 23/256\n",
      "891/891 [==============================] - 0s 10us/step - loss: 0.6249 - acc: 0.8058\n",
      "Epoch 24/256\n",
      "891/891 [==============================] - 0s 11us/step - loss: 0.6187 - acc: 0.8070\n",
      "Epoch 25/256\n",
      "891/891 [==============================] - 0s 11us/step - loss: 0.6128 - acc: 0.8058\n",
      "Epoch 26/256\n",
      "891/891 [==============================] - 0s 9us/step - loss: 0.6068 - acc: 0.8070\n",
      "Epoch 27/256\n",
      "891/891 [==============================] - 0s 8us/step - loss: 0.6016 - acc: 0.8092\n",
      "Epoch 28/256\n",
      "891/891 [==============================] - 0s 9us/step - loss: 0.5962 - acc: 0.8081\n",
      "Epoch 29/256\n",
      "891/891 [==============================] - 0s 8us/step - loss: 0.5916 - acc: 0.8081\n",
      "Epoch 30/256\n",
      "891/891 [==============================] - 0s 10us/step - loss: 0.5868 - acc: 0.8081\n",
      "Epoch 31/256\n",
      "891/891 [==============================] - 0s 9us/step - loss: 0.5829 - acc: 0.8092\n",
      "Epoch 32/256\n",
      "891/891 [==============================] - 0s 10us/step - loss: 0.5788 - acc: 0.8114\n",
      "Epoch 33/256\n",
      "891/891 [==============================] - 0s 9us/step - loss: 0.5754 - acc: 0.8114\n",
      "Epoch 34/256\n",
      "891/891 [==============================] - 0s 11us/step - loss: 0.5721 - acc: 0.8114\n",
      "Epoch 35/256\n",
      "891/891 [==============================] - 0s 9us/step - loss: 0.5691 - acc: 0.8148\n",
      "Epoch 36/256\n",
      "891/891 [==============================] - 0s 13us/step - loss: 0.5664 - acc: 0.8148\n",
      "Epoch 37/256\n",
      "891/891 [==============================] - 0s 10us/step - loss: 0.5638 - acc: 0.8137\n",
      "Epoch 38/256\n",
      "891/891 [==============================] - 0s 9us/step - loss: 0.5613 - acc: 0.8137\n",
      "Epoch 39/256\n",
      "891/891 [==============================] - 0s 9us/step - loss: 0.5588 - acc: 0.8148\n",
      "Epoch 40/256\n",
      "891/891 [==============================] - 0s 9us/step - loss: 0.5565 - acc: 0.8137\n",
      "Epoch 41/256\n",
      "891/891 [==============================] - 0s 10us/step - loss: 0.5542 - acc: 0.8148\n",
      "Epoch 42/256\n",
      "891/891 [==============================] - 0s 9us/step - loss: 0.5520 - acc: 0.8137\n",
      "Epoch 43/256\n",
      "891/891 [==============================] - 0s 10us/step - loss: 0.5500 - acc: 0.8137\n",
      "Epoch 44/256\n",
      "891/891 [==============================] - 0s 8us/step - loss: 0.5480 - acc: 0.8137\n",
      "Epoch 45/256\n",
      "891/891 [==============================] - 0s 10us/step - loss: 0.5459 - acc: 0.8137\n",
      "Epoch 46/256\n",
      "891/891 [==============================] - 0s 10us/step - loss: 0.5442 - acc: 0.8137\n",
      "Epoch 47/256\n",
      "891/891 [==============================] - 0s 13us/step - loss: 0.5422 - acc: 0.8137\n",
      "Epoch 48/256\n",
      "891/891 [==============================] - 0s 10us/step - loss: 0.5404 - acc: 0.8148\n",
      "Epoch 49/256\n",
      "891/891 [==============================] - 0s 8us/step - loss: 0.5386 - acc: 0.8159\n",
      "Epoch 50/256\n",
      "891/891 [==============================] - 0s 10us/step - loss: 0.5369 - acc: 0.8159\n",
      "Epoch 51/256\n",
      "891/891 [==============================] - 0s 9us/step - loss: 0.5351 - acc: 0.8148\n",
      "Epoch 52/256\n",
      "891/891 [==============================] - 0s 10us/step - loss: 0.5334 - acc: 0.8148\n",
      "Epoch 53/256\n",
      "891/891 [==============================] - 0s 9us/step - loss: 0.5318 - acc: 0.8148\n",
      "Epoch 54/256\n",
      "891/891 [==============================] - 0s 9us/step - loss: 0.5302 - acc: 0.8171\n",
      "Epoch 55/256\n",
      "891/891 [==============================] - 0s 10us/step - loss: 0.5286 - acc: 0.8171\n",
      "Epoch 56/256\n",
      "891/891 [==============================] - 0s 9us/step - loss: 0.5270 - acc: 0.8182\n",
      "Epoch 57/256\n",
      "891/891 [==============================] - 0s 9us/step - loss: 0.5255 - acc: 0.8193\n",
      "Epoch 58/256\n",
      "891/891 [==============================] - 0s 12us/step - loss: 0.5240 - acc: 0.8193\n",
      "Epoch 59/256\n",
      "891/891 [==============================] - 0s 10us/step - loss: 0.5226 - acc: 0.8193\n",
      "Epoch 60/256\n",
      "891/891 [==============================] - 0s 9us/step - loss: 0.5211 - acc: 0.8193\n",
      "Epoch 61/256\n",
      "891/891 [==============================] - 0s 10us/step - loss: 0.5197 - acc: 0.8193\n",
      "Epoch 62/256\n",
      "891/891 [==============================] - 0s 9us/step - loss: 0.5183 - acc: 0.8193\n",
      "Epoch 63/256\n",
      "891/891 [==============================] - 0s 9us/step - loss: 0.5169 - acc: 0.8193\n",
      "Epoch 64/256\n",
      "891/891 [==============================] - 0s 9us/step - loss: 0.5156 - acc: 0.8193\n",
      "Epoch 65/256\n",
      "891/891 [==============================] - 0s 8us/step - loss: 0.5142 - acc: 0.8193\n",
      "Epoch 66/256\n",
      "891/891 [==============================] - 0s 9us/step - loss: 0.5130 - acc: 0.8193\n",
      "Epoch 67/256\n",
      "891/891 [==============================] - 0s 10us/step - loss: 0.5117 - acc: 0.8193\n",
      "Epoch 68/256\n",
      "891/891 [==============================] - 0s 9us/step - loss: 0.5104 - acc: 0.8204\n",
      "Epoch 69/256\n",
      "891/891 [==============================] - 0s 13us/step - loss: 0.5092 - acc: 0.8227\n",
      "Epoch 70/256\n",
      "891/891 [==============================] - 0s 10us/step - loss: 0.5081 - acc: 0.8215\n",
      "Epoch 71/256\n",
      "891/891 [==============================] - 0s 9us/step - loss: 0.5067 - acc: 0.8227\n",
      "Epoch 72/256\n",
      "891/891 [==============================] - 0s 9us/step - loss: 0.5055 - acc: 0.8227\n",
      "Epoch 73/256\n",
      "891/891 [==============================] - 0s 8us/step - loss: 0.5043 - acc: 0.8227\n",
      "Epoch 74/256\n",
      "891/891 [==============================] - 0s 9us/step - loss: 0.5032 - acc: 0.8238\n",
      "Epoch 75/256\n",
      "891/891 [==============================] - 0s 10us/step - loss: 0.5021 - acc: 0.8238\n",
      "Epoch 76/256\n",
      "891/891 [==============================] - 0s 8us/step - loss: 0.5010 - acc: 0.8227\n",
      "Epoch 77/256\n",
      "891/891 [==============================] - 0s 8us/step - loss: 0.4999 - acc: 0.8227\n",
      "Epoch 78/256\n",
      "891/891 [==============================] - 0s 10us/step - loss: 0.4988 - acc: 0.8227\n",
      "Epoch 79/256\n",
      "891/891 [==============================] - 0s 9us/step - loss: 0.4976 - acc: 0.8249\n",
      "Epoch 80/256\n",
      "891/891 [==============================] - 0s 10us/step - loss: 0.4966 - acc: 0.8249\n",
      "Epoch 81/256\n",
      "891/891 [==============================] - 0s 10us/step - loss: 0.4956 - acc: 0.8249\n",
      "Epoch 82/256\n",
      "891/891 [==============================] - 0s 8us/step - loss: 0.4947 - acc: 0.8260\n",
      "Epoch 83/256\n",
      "891/891 [==============================] - 0s 9us/step - loss: 0.4936 - acc: 0.8260\n",
      "Epoch 84/256\n",
      "891/891 [==============================] - 0s 9us/step - loss: 0.4926 - acc: 0.8249\n",
      "Epoch 85/256\n",
      "891/891 [==============================] - 0s 8us/step - loss: 0.4916 - acc: 0.8260\n",
      "Epoch 86/256\n",
      "891/891 [==============================] - 0s 8us/step - loss: 0.4906 - acc: 0.8260\n",
      "Epoch 87/256\n",
      "891/891 [==============================] - 0s 8us/step - loss: 0.4898 - acc: 0.8260\n",
      "Epoch 88/256\n",
      "891/891 [==============================] - 0s 9us/step - loss: 0.4888 - acc: 0.8260\n",
      "Epoch 89/256\n",
      "891/891 [==============================] - 0s 13us/step - loss: 0.4879 - acc: 0.8260\n",
      "Epoch 90/256\n",
      "891/891 [==============================] - 0s 14us/step - loss: 0.4870 - acc: 0.8260\n",
      "Epoch 91/256\n",
      "891/891 [==============================] - 0s 12us/step - loss: 0.4861 - acc: 0.8260\n",
      "Epoch 92/256\n",
      "891/891 [==============================] - 0s 8us/step - loss: 0.4853 - acc: 0.8260\n",
      "Epoch 93/256\n",
      "891/891 [==============================] - 0s 10us/step - loss: 0.4844 - acc: 0.8260\n",
      "Epoch 94/256\n",
      "891/891 [==============================] - 0s 9us/step - loss: 0.4835 - acc: 0.8272\n",
      "Epoch 95/256\n",
      "891/891 [==============================] - 0s 8us/step - loss: 0.4827 - acc: 0.8294\n",
      "Epoch 96/256\n",
      "891/891 [==============================] - 0s 9us/step - loss: 0.4818 - acc: 0.8283\n",
      "Epoch 97/256\n",
      "891/891 [==============================] - 0s 9us/step - loss: 0.4811 - acc: 0.8272\n",
      "Epoch 98/256\n",
      "891/891 [==============================] - 0s 8us/step - loss: 0.4802 - acc: 0.8272\n",
      "Epoch 99/256\n",
      "891/891 [==============================] - 0s 8us/step - loss: 0.4794 - acc: 0.8283\n",
      "Epoch 100/256\n",
      "891/891 [==============================] - 0s 9us/step - loss: 0.4787 - acc: 0.8283\n",
      "Epoch 101/256\n",
      "891/891 [==============================] - 0s 9us/step - loss: 0.4779 - acc: 0.8283\n",
      "Epoch 102/256\n",
      "891/891 [==============================] - 0s 13us/step - loss: 0.4771 - acc: 0.8283\n",
      "Epoch 103/256\n",
      "891/891 [==============================] - 0s 7us/step - loss: 0.4764 - acc: 0.8283\n",
      "Epoch 104/256\n",
      "891/891 [==============================] - 0s 8us/step - loss: 0.4756 - acc: 0.8283\n",
      "Epoch 105/256\n",
      "891/891 [==============================] - 0s 8us/step - loss: 0.4749 - acc: 0.8283\n",
      "Epoch 106/256\n",
      "891/891 [==============================] - 0s 8us/step - loss: 0.4741 - acc: 0.8272\n",
      "Epoch 107/256\n",
      "891/891 [==============================] - 0s 8us/step - loss: 0.4735 - acc: 0.8260\n",
      "Epoch 108/256\n",
      "891/891 [==============================] - 0s 8us/step - loss: 0.4728 - acc: 0.8272\n",
      "Epoch 109/256\n",
      "891/891 [==============================] - 0s 9us/step - loss: 0.4720 - acc: 0.8260\n",
      "Epoch 110/256\n",
      "891/891 [==============================] - 0s 9us/step - loss: 0.4714 - acc: 0.8260\n",
      "Epoch 111/256\n",
      "891/891 [==============================] - 0s 10us/step - loss: 0.4707 - acc: 0.8260\n",
      "Epoch 112/256\n",
      "891/891 [==============================] - 0s 8us/step - loss: 0.4701 - acc: 0.8260\n",
      "Epoch 113/256\n",
      "891/891 [==============================] - 0s 8us/step - loss: 0.4693 - acc: 0.8260\n",
      "Epoch 114/256\n",
      "891/891 [==============================] - 0s 12us/step - loss: 0.4687 - acc: 0.8260\n",
      "Epoch 115/256\n",
      "891/891 [==============================] - 0s 8us/step - loss: 0.4681 - acc: 0.8260\n",
      "Epoch 116/256\n",
      "891/891 [==============================] - 0s 11us/step - loss: 0.4675 - acc: 0.8272\n",
      "Epoch 117/256\n",
      "891/891 [==============================] - 0s 8us/step - loss: 0.4668 - acc: 0.8272\n",
      "Epoch 118/256\n",
      "891/891 [==============================] - 0s 8us/step - loss: 0.4662 - acc: 0.8272\n",
      "Epoch 119/256\n",
      "891/891 [==============================] - 0s 8us/step - loss: 0.4656 - acc: 0.8272\n",
      "Epoch 120/256\n",
      "891/891 [==============================] - 0s 9us/step - loss: 0.4650 - acc: 0.8272\n",
      "Epoch 121/256\n",
      "891/891 [==============================] - 0s 8us/step - loss: 0.4644 - acc: 0.8272\n",
      "Epoch 122/256\n",
      "891/891 [==============================] - 0s 9us/step - loss: 0.4638 - acc: 0.8272\n",
      "Epoch 123/256\n",
      "891/891 [==============================] - 0s 8us/step - loss: 0.4633 - acc: 0.8272\n",
      "Epoch 124/256\n",
      "891/891 [==============================] - 0s 9us/step - loss: 0.4626 - acc: 0.8260\n",
      "Epoch 125/256\n",
      "891/891 [==============================] - 0s 13us/step - loss: 0.4621 - acc: 0.8260\n",
      "Epoch 126/256\n",
      "891/891 [==============================] - 0s 8us/step - loss: 0.4615 - acc: 0.8260\n",
      "Epoch 127/256\n",
      "891/891 [==============================] - 0s 8us/step - loss: 0.4609 - acc: 0.8283\n",
      "Epoch 128/256\n",
      "891/891 [==============================] - 0s 10us/step - loss: 0.4604 - acc: 0.8272\n",
      "Epoch 129/256\n",
      "891/891 [==============================] - 0s 9us/step - loss: 0.4600 - acc: 0.8272\n",
      "Epoch 130/256\n",
      "891/891 [==============================] - 0s 8us/step - loss: 0.4593 - acc: 0.8260\n",
      "Epoch 131/256\n",
      "891/891 [==============================] - 0s 8us/step - loss: 0.4588 - acc: 0.8283\n",
      "Epoch 132/256\n",
      "891/891 [==============================] - 0s 9us/step - loss: 0.4583 - acc: 0.8283\n",
      "Epoch 133/256\n",
      "891/891 [==============================] - 0s 9us/step - loss: 0.4578 - acc: 0.8305\n",
      "Epoch 134/256\n",
      "891/891 [==============================] - 0s 8us/step - loss: 0.4572 - acc: 0.8283\n",
      "Epoch 135/256\n",
      "891/891 [==============================] - 0s 8us/step - loss: 0.4567 - acc: 0.8272\n",
      "Epoch 136/256\n",
      "891/891 [==============================] - 0s 13us/step - loss: 0.4562 - acc: 0.8283\n",
      "Epoch 137/256\n",
      "891/891 [==============================] - 0s 8us/step - loss: 0.4557 - acc: 0.8272\n",
      "Epoch 138/256\n",
      "891/891 [==============================] - 0s 8us/step - loss: 0.4551 - acc: 0.8260\n",
      "Epoch 139/256\n",
      "891/891 [==============================] - 0s 9us/step - loss: 0.4547 - acc: 0.8294\n",
      "Epoch 140/256\n",
      "891/891 [==============================] - 0s 8us/step - loss: 0.4541 - acc: 0.8283\n",
      "Epoch 141/256\n",
      "891/891 [==============================] - 0s 8us/step - loss: 0.4537 - acc: 0.8272\n",
      "Epoch 142/256\n",
      "891/891 [==============================] - 0s 8us/step - loss: 0.4530 - acc: 0.8260\n",
      "Epoch 143/256\n",
      "891/891 [==============================] - 0s 9us/step - loss: 0.4525 - acc: 0.8272\n",
      "Epoch 144/256\n",
      "891/891 [==============================] - 0s 9us/step - loss: 0.4520 - acc: 0.8272\n",
      "Epoch 145/256\n",
      "891/891 [==============================] - 0s 8us/step - loss: 0.4516 - acc: 0.8260\n",
      "Epoch 146/256\n",
      "891/891 [==============================] - 0s 8us/step - loss: 0.4511 - acc: 0.8260\n",
      "Epoch 147/256\n",
      "891/891 [==============================] - 0s 8us/step - loss: 0.4505 - acc: 0.8272\n",
      "Epoch 148/256\n",
      "891/891 [==============================] - 0s 11us/step - loss: 0.4500 - acc: 0.8260\n",
      "Epoch 149/256\n",
      "891/891 [==============================] - 0s 8us/step - loss: 0.4495 - acc: 0.8249\n",
      "Epoch 150/256\n",
      "891/891 [==============================] - 0s 8us/step - loss: 0.4489 - acc: 0.8249\n",
      "Epoch 151/256\n",
      "891/891 [==============================] - 0s 8us/step - loss: 0.4484 - acc: 0.8249\n",
      "Epoch 152/256\n",
      "891/891 [==============================] - 0s 9us/step - loss: 0.4479 - acc: 0.8249\n",
      "Epoch 153/256\n",
      "891/891 [==============================] - 0s 8us/step - loss: 0.4475 - acc: 0.8249\n",
      "Epoch 154/256\n",
      "891/891 [==============================] - 0s 8us/step - loss: 0.4469 - acc: 0.8260\n",
      "Epoch 155/256\n",
      "891/891 [==============================] - 0s 9us/step - loss: 0.4464 - acc: 0.8260\n",
      "Epoch 156/256\n",
      "891/891 [==============================] - 0s 8us/step - loss: 0.4460 - acc: 0.8260\n",
      "Epoch 157/256\n",
      "891/891 [==============================] - 0s 9us/step - loss: 0.4455 - acc: 0.8260\n",
      "Epoch 158/256\n",
      "891/891 [==============================] - 0s 9us/step - loss: 0.4451 - acc: 0.8260\n",
      "Epoch 159/256\n",
      "891/891 [==============================] - 0s 9us/step - loss: 0.4446 - acc: 0.8260\n",
      "Epoch 160/256\n",
      "891/891 [==============================] - 0s 13us/step - loss: 0.4441 - acc: 0.8260\n",
      "Epoch 161/256\n",
      "891/891 [==============================] - 0s 8us/step - loss: 0.4438 - acc: 0.8260\n",
      "Epoch 162/256\n",
      "891/891 [==============================] - 0s 9us/step - loss: 0.4432 - acc: 0.8260\n",
      "Epoch 163/256\n",
      "891/891 [==============================] - 0s 9us/step - loss: 0.4428 - acc: 0.8260\n",
      "Epoch 164/256\n",
      "891/891 [==============================] - 0s 8us/step - loss: 0.4424 - acc: 0.8260\n",
      "Epoch 165/256\n",
      "891/891 [==============================] - 0s 8us/step - loss: 0.4419 - acc: 0.8260\n",
      "Epoch 166/256\n",
      "891/891 [==============================] - 0s 8us/step - loss: 0.4415 - acc: 0.8260\n",
      "Epoch 167/256\n",
      "891/891 [==============================] - 0s 8us/step - loss: 0.4410 - acc: 0.8260\n",
      "Epoch 168/256\n",
      "891/891 [==============================] - 0s 9us/step - loss: 0.4405 - acc: 0.8260\n",
      "Epoch 169/256\n",
      "891/891 [==============================] - 0s 8us/step - loss: 0.4401 - acc: 0.8260\n",
      "Epoch 170/256\n",
      "891/891 [==============================] - 0s 8us/step - loss: 0.4397 - acc: 0.8260\n",
      "Epoch 171/256\n",
      "891/891 [==============================] - 0s 8us/step - loss: 0.4393 - acc: 0.8272\n",
      "Epoch 172/256\n",
      "891/891 [==============================] - 0s 14us/step - loss: 0.4388 - acc: 0.8260\n",
      "Epoch 173/256\n",
      "891/891 [==============================] - 0s 8us/step - loss: 0.4385 - acc: 0.8272\n",
      "Epoch 174/256\n",
      "891/891 [==============================] - 0s 9us/step - loss: 0.4380 - acc: 0.8272\n",
      "Epoch 175/256\n",
      "891/891 [==============================] - 0s 8us/step - loss: 0.4376 - acc: 0.8272\n",
      "Epoch 176/256\n",
      "891/891 [==============================] - 0s 9us/step - loss: 0.4372 - acc: 0.8272\n",
      "Epoch 177/256\n",
      "891/891 [==============================] - 0s 14us/step - loss: 0.4369 - acc: 0.8260\n",
      "Epoch 178/256\n",
      "891/891 [==============================] - 0s 11us/step - loss: 0.4363 - acc: 0.8260\n",
      "Epoch 179/256\n",
      "891/891 [==============================] - 0s 10us/step - loss: 0.4359 - acc: 0.8272\n",
      "Epoch 180/256\n",
      "891/891 [==============================] - 0s 8us/step - loss: 0.4356 - acc: 0.8272\n",
      "Epoch 181/256\n",
      "891/891 [==============================] - 0s 9us/step - loss: 0.4352 - acc: 0.8272\n",
      "Epoch 182/256\n",
      "891/891 [==============================] - 0s 10us/step - loss: 0.4348 - acc: 0.8260\n",
      "Epoch 183/256\n",
      "891/891 [==============================] - 0s 12us/step - loss: 0.4345 - acc: 0.8272\n",
      "Epoch 184/256\n",
      "891/891 [==============================] - 0s 8us/step - loss: 0.4341 - acc: 0.8283\n",
      "Epoch 185/256\n",
      "891/891 [==============================] - 0s 12us/step - loss: 0.4337 - acc: 0.8283\n",
      "Epoch 186/256\n",
      "891/891 [==============================] - 0s 9us/step - loss: 0.4334 - acc: 0.8272\n",
      "Epoch 187/256\n",
      "891/891 [==============================] - 0s 8us/step - loss: 0.4330 - acc: 0.8272\n",
      "Epoch 188/256\n",
      "891/891 [==============================] - 0s 8us/step - loss: 0.4327 - acc: 0.8283\n",
      "Epoch 189/256\n",
      "891/891 [==============================] - 0s 8us/step - loss: 0.4323 - acc: 0.8272\n",
      "Epoch 190/256\n",
      "891/891 [==============================] - 0s 8us/step - loss: 0.4319 - acc: 0.8272\n",
      "Epoch 191/256\n",
      "891/891 [==============================] - 0s 9us/step - loss: 0.4316 - acc: 0.8272\n",
      "Epoch 192/256\n",
      "891/891 [==============================] - 0s 8us/step - loss: 0.4312 - acc: 0.8272\n",
      "Epoch 193/256\n",
      "891/891 [==============================] - 0s 9us/step - loss: 0.4309 - acc: 0.8283\n",
      "Epoch 194/256\n",
      "891/891 [==============================] - 0s 11us/step - loss: 0.4306 - acc: 0.8283\n",
      "Epoch 195/256\n",
      "891/891 [==============================] - 0s 10us/step - loss: 0.4303 - acc: 0.8283\n",
      "Epoch 196/256\n",
      "891/891 [==============================] - 0s 8us/step - loss: 0.4300 - acc: 0.8294\n",
      "Epoch 197/256\n",
      "891/891 [==============================] - 0s 11us/step - loss: 0.4296 - acc: 0.8294\n",
      "Epoch 198/256\n",
      "891/891 [==============================] - 0s 8us/step - loss: 0.4293 - acc: 0.8283\n",
      "Epoch 199/256\n",
      "891/891 [==============================] - 0s 8us/step - loss: 0.4290 - acc: 0.8283\n",
      "Epoch 200/256\n",
      "891/891 [==============================] - 0s 9us/step - loss: 0.4287 - acc: 0.8283\n",
      "Epoch 201/256\n",
      "891/891 [==============================] - 0s 8us/step - loss: 0.4284 - acc: 0.8272\n",
      "Epoch 202/256\n",
      "891/891 [==============================] - 0s 8us/step - loss: 0.4281 - acc: 0.8283\n",
      "Epoch 203/256\n",
      "891/891 [==============================] - 0s 10us/step - loss: 0.4279 - acc: 0.8294\n",
      "Epoch 204/256\n",
      "891/891 [==============================] - 0s 8us/step - loss: 0.4275 - acc: 0.8294\n",
      "Epoch 205/256\n",
      "891/891 [==============================] - 0s 8us/step - loss: 0.4272 - acc: 0.8294\n",
      "Epoch 206/256\n",
      "891/891 [==============================] - 0s 13us/step - loss: 0.4270 - acc: 0.8283\n",
      "Epoch 207/256\n",
      "891/891 [==============================] - 0s 8us/step - loss: 0.4268 - acc: 0.8294\n",
      "Epoch 208/256\n",
      "891/891 [==============================] - 0s 10us/step - loss: 0.4264 - acc: 0.8294\n",
      "Epoch 209/256\n",
      "891/891 [==============================] - 0s 10us/step - loss: 0.4261 - acc: 0.8294\n",
      "Epoch 210/256\n",
      "891/891 [==============================] - 0s 8us/step - loss: 0.4258 - acc: 0.8305\n",
      "Epoch 211/256\n",
      "891/891 [==============================] - 0s 9us/step - loss: 0.4256 - acc: 0.8305\n",
      "Epoch 212/256\n",
      "891/891 [==============================] - 0s 8us/step - loss: 0.4253 - acc: 0.8305\n",
      "Epoch 213/256\n",
      "891/891 [==============================] - 0s 8us/step - loss: 0.4250 - acc: 0.8305\n",
      "Epoch 214/256\n",
      "891/891 [==============================] - 0s 9us/step - loss: 0.4249 - acc: 0.8305\n",
      "Epoch 215/256\n",
      "891/891 [==============================] - 0s 9us/step - loss: 0.4245 - acc: 0.8305\n",
      "Epoch 216/256\n",
      "891/891 [==============================] - 0s 8us/step - loss: 0.4242 - acc: 0.8294\n",
      "Epoch 217/256\n",
      "891/891 [==============================] - 0s 10us/step - loss: 0.4239 - acc: 0.8283\n",
      "Epoch 218/256\n",
      "891/891 [==============================] - 0s 10us/step - loss: 0.4238 - acc: 0.8272\n",
      "Epoch 219/256\n",
      "891/891 [==============================] - 0s 9us/step - loss: 0.4236 - acc: 0.8294\n",
      "Epoch 220/256\n",
      "891/891 [==============================] - 0s 9us/step - loss: 0.4233 - acc: 0.8283\n",
      "Epoch 221/256\n",
      "891/891 [==============================] - 0s 9us/step - loss: 0.4231 - acc: 0.8283\n",
      "Epoch 222/256\n",
      "891/891 [==============================] - 0s 8us/step - loss: 0.4227 - acc: 0.8294\n",
      "Epoch 223/256\n",
      "891/891 [==============================] - 0s 9us/step - loss: 0.4225 - acc: 0.8283\n",
      "Epoch 224/256\n",
      "891/891 [==============================] - 0s 9us/step - loss: 0.4223 - acc: 0.8283\n",
      "Epoch 225/256\n",
      "891/891 [==============================] - 0s 9us/step - loss: 0.4219 - acc: 0.8283\n",
      "Epoch 226/256\n",
      "891/891 [==============================] - 0s 8us/step - loss: 0.4217 - acc: 0.8283\n",
      "Epoch 227/256\n",
      "891/891 [==============================] - 0s 9us/step - loss: 0.4215 - acc: 0.8305\n",
      "Epoch 228/256\n",
      "891/891 [==============================] - 0s 8us/step - loss: 0.4214 - acc: 0.8272\n",
      "Epoch 229/256\n",
      "891/891 [==============================] - 0s 10us/step - loss: 0.4210 - acc: 0.8260\n",
      "Epoch 230/256\n",
      "891/891 [==============================] - 0s 11us/step - loss: 0.4208 - acc: 0.8260\n",
      "Epoch 231/256\n",
      "891/891 [==============================] - 0s 9us/step - loss: 0.4204 - acc: 0.8272\n",
      "Epoch 232/256\n",
      "891/891 [==============================] - 0s 10us/step - loss: 0.4202 - acc: 0.8272\n",
      "Epoch 233/256\n",
      "891/891 [==============================] - 0s 9us/step - loss: 0.4199 - acc: 0.8294\n",
      "Epoch 234/256\n",
      "891/891 [==============================] - 0s 9us/step - loss: 0.4197 - acc: 0.8272\n",
      "Epoch 235/256\n",
      "891/891 [==============================] - 0s 8us/step - loss: 0.4196 - acc: 0.8294\n",
      "Epoch 236/256\n",
      "891/891 [==============================] - 0s 9us/step - loss: 0.4192 - acc: 0.8294\n",
      "Epoch 237/256\n",
      "891/891 [==============================] - 0s 8us/step - loss: 0.4191 - acc: 0.8283\n",
      "Epoch 238/256\n",
      "891/891 [==============================] - 0s 10us/step - loss: 0.4188 - acc: 0.8294\n",
      "Epoch 239/256\n",
      "891/891 [==============================] - 0s 9us/step - loss: 0.4186 - acc: 0.8305\n",
      "Epoch 240/256\n",
      "891/891 [==============================] - 0s 11us/step - loss: 0.4184 - acc: 0.8294\n",
      "Epoch 241/256\n",
      "891/891 [==============================] - 0s 11us/step - loss: 0.4183 - acc: 0.8305\n",
      "Epoch 242/256\n",
      "891/891 [==============================] - 0s 8us/step - loss: 0.4179 - acc: 0.8283\n",
      "Epoch 243/256\n",
      "891/891 [==============================] - 0s 8us/step - loss: 0.4178 - acc: 0.8283\n",
      "Epoch 244/256\n",
      "891/891 [==============================] - 0s 8us/step - loss: 0.4174 - acc: 0.8283\n",
      "Epoch 245/256\n",
      "891/891 [==============================] - 0s 9us/step - loss: 0.4172 - acc: 0.8294\n",
      "Epoch 246/256\n",
      "891/891 [==============================] - 0s 8us/step - loss: 0.4171 - acc: 0.8316\n",
      "Epoch 247/256\n",
      "891/891 [==============================] - 0s 8us/step - loss: 0.4168 - acc: 0.8305\n",
      "Epoch 248/256\n",
      "891/891 [==============================] - 0s 8us/step - loss: 0.4166 - acc: 0.8305\n",
      "Epoch 249/256\n",
      "891/891 [==============================] - 0s 8us/step - loss: 0.4164 - acc: 0.8305\n",
      "Epoch 250/256\n",
      "891/891 [==============================] - 0s 8us/step - loss: 0.4161 - acc: 0.8305\n",
      "Epoch 251/256\n",
      "891/891 [==============================] - 0s 10us/step - loss: 0.4159 - acc: 0.8316\n",
      "Epoch 252/256\n",
      "891/891 [==============================] - 0s 11us/step - loss: 0.4158 - acc: 0.8328\n",
      "Epoch 253/256\n",
      "891/891 [==============================] - 0s 9us/step - loss: 0.4157 - acc: 0.8328\n",
      "Epoch 254/256\n",
      "891/891 [==============================] - 0s 8us/step - loss: 0.4154 - acc: 0.8316\n",
      "Epoch 255/256\n",
      "891/891 [==============================] - 0s 8us/step - loss: 0.4151 - acc: 0.8305\n",
      "Epoch 256/256\n",
      "891/891 [==============================] - 0s 8us/step - loss: 0.4150 - acc: 0.8305\n",
      "891/891 [==============================] - 0s 45us/step\n"
     ]
    },
    {
     "data": {
      "text/plain": [
       "[0.41472639198656436, 0.8316498318505207]"
      ]
     },
     "execution_count": 18,
     "metadata": {},
     "output_type": "execute_result"
    }
   ],
   "source": [
    "from keras import Sequential\n",
    "from keras.layers import Dense\n",
    "\n",
    "classifier = Sequential()\n",
    "\n",
    "# Creating Hidden layers\n",
    "classifier.add(Dense(4, activation='relu', kernel_initializer='random_normal', input_dim=9))\n",
    "classifier.add(Dense(4, activation='relu', kernel_initializer='random_normal'))\n",
    "\n",
    "# Output Layer\n",
    "classifier.add(Dense(1, activation='sigmoid', kernel_initializer='random_normal'))\n",
    "\n",
    "# Compiling the Neural Network\n",
    "classifier.compile(optimizer ='adam',loss='binary_crossentropy', metrics =['accuracy'])\n",
    "\n",
    "# Fitting the data to the training dataset\n",
    "classifier.fit(X_train, y_train, batch_size=128, epochs=256)\n",
    "\n",
    "# Evaluating Model\n",
    "eval_model=classifier.evaluate(X_train, y_train)\n",
    "eval_model"
   ]
  },
  {
   "cell_type": "code",
   "execution_count": 19,
   "metadata": {},
   "outputs": [
    {
     "data": {
      "image/png": "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\n",
      "text/plain": [
       "<Figure size 432x288 with 1 Axes>"
      ]
     },
     "metadata": {
      "needs_background": "light"
     },
     "output_type": "display_data"
    }
   ],
   "source": [
    "# Plotting Training Metrics\n",
    "plt.plot(classifier.history.history['acc'])\n",
    "plt.plot(classifier.history.history['loss'])\n",
    "plt.title('Training Metrics')\n",
    "plt.xlabel('Epoch')\n",
    "plt.legend(['Accuracy', 'Loss'], loc='upper left')\n",
    "plt.show()"
   ]
  },
  {
   "cell_type": "markdown",
   "metadata": {},
   "source": [
    "Importing testing set and making it look like the training set."
   ]
  },
  {
   "cell_type": "code",
<<<<<<< HEAD
   "execution_count": 1,
   "metadata": {},
   "outputs": [
    {
     "ename": "NameError",
     "evalue": "name 'pd' is not defined",
     "output_type": "error",
     "traceback": [
      "\u001b[0;31m---------------------------------------------------------------------------\u001b[0m",
      "\u001b[0;31mNameError\u001b[0m                                 Traceback (most recent call last)",
      "\u001b[0;32m<ipython-input-1-ebb893bfe3e8>\u001b[0m in \u001b[0;36m<module>\u001b[0;34m\u001b[0m\n\u001b[0;32m----> 1\u001b[0;31m \u001b[0mX_test\u001b[0m \u001b[0;34m=\u001b[0m \u001b[0mpd\u001b[0m\u001b[0;34m.\u001b[0m\u001b[0mread_csv\u001b[0m\u001b[0;34m(\u001b[0m\u001b[0;34m'data/test.csv'\u001b[0m\u001b[0;34m)\u001b[0m\u001b[0;34m\u001b[0m\u001b[0;34m\u001b[0m\u001b[0m\n\u001b[0m\u001b[1;32m      2\u001b[0m \u001b[0mX_test\u001b[0m\u001b[0;34m[\u001b[0m\u001b[0;34m'Age'\u001b[0m\u001b[0;34m]\u001b[0m \u001b[0;34m=\u001b[0m \u001b[0mX_test\u001b[0m\u001b[0;34m[\u001b[0m\u001b[0;34m[\u001b[0m\u001b[0;34m'Age'\u001b[0m\u001b[0;34m,\u001b[0m\u001b[0;34m'Sex'\u001b[0m\u001b[0;34m,\u001b[0m\u001b[0;34m'Pclass'\u001b[0m\u001b[0;34m]\u001b[0m\u001b[0;34m]\u001b[0m\u001b[0;34m.\u001b[0m\u001b[0mapply\u001b[0m\u001b[0;34m(\u001b[0m\u001b[0mage_imputation\u001b[0m\u001b[0;34m,\u001b[0m\u001b[0maxis\u001b[0m\u001b[0;34m=\u001b[0m\u001b[0;36m1\u001b[0m\u001b[0;34m)\u001b[0m\u001b[0;34m\u001b[0m\u001b[0;34m\u001b[0m\u001b[0m\n\u001b[1;32m      3\u001b[0m \u001b[0mX_test\u001b[0m\u001b[0;34m[\u001b[0m\u001b[0;34m'Sex'\u001b[0m\u001b[0;34m]\u001b[0m \u001b[0;34m=\u001b[0m \u001b[0mX_test\u001b[0m\u001b[0;34m[\u001b[0m\u001b[0;34m'Sex'\u001b[0m\u001b[0;34m]\u001b[0m\u001b[0;34m.\u001b[0m\u001b[0mapply\u001b[0m\u001b[0;34m(\u001b[0m\u001b[0;32mlambda\u001b[0m \u001b[0mx\u001b[0m\u001b[0;34m:\u001b[0m \u001b[0mgender\u001b[0m\u001b[0;34m(\u001b[0m\u001b[0mx\u001b[0m\u001b[0;34m)\u001b[0m\u001b[0;34m)\u001b[0m\u001b[0;34m\u001b[0m\u001b[0;34m\u001b[0m\u001b[0m\n\u001b[1;32m      4\u001b[0m \u001b[0mX_test\u001b[0m\u001b[0;34m[\u001b[0m\u001b[0;34m'S'\u001b[0m\u001b[0;34m]\u001b[0m \u001b[0;34m=\u001b[0m \u001b[0mX_test\u001b[0m\u001b[0;34m[\u001b[0m\u001b[0;34m'Embarked'\u001b[0m\u001b[0;34m]\u001b[0m\u001b[0;34m.\u001b[0m\u001b[0mapply\u001b[0m\u001b[0;34m(\u001b[0m\u001b[0;32mlambda\u001b[0m \u001b[0mx\u001b[0m\u001b[0;34m:\u001b[0m \u001b[0msouthampton\u001b[0m\u001b[0;34m(\u001b[0m\u001b[0mx\u001b[0m\u001b[0;34m)\u001b[0m\u001b[0;34m)\u001b[0m\u001b[0;34m\u001b[0m\u001b[0;34m\u001b[0m\u001b[0m\n\u001b[1;32m      5\u001b[0m \u001b[0mX_test\u001b[0m\u001b[0;34m[\u001b[0m\u001b[0;34m'Q'\u001b[0m\u001b[0;34m]\u001b[0m \u001b[0;34m=\u001b[0m \u001b[0mX_test\u001b[0m\u001b[0;34m[\u001b[0m\u001b[0;34m'Embarked'\u001b[0m\u001b[0;34m]\u001b[0m\u001b[0;34m.\u001b[0m\u001b[0mapply\u001b[0m\u001b[0;34m(\u001b[0m\u001b[0;32mlambda\u001b[0m \u001b[0mx\u001b[0m\u001b[0;34m:\u001b[0m \u001b[0mqueenstown\u001b[0m\u001b[0;34m(\u001b[0m\u001b[0mx\u001b[0m\u001b[0;34m)\u001b[0m\u001b[0;34m)\u001b[0m\u001b[0;34m\u001b[0m\u001b[0;34m\u001b[0m\u001b[0m\n",
      "\u001b[0;31mNameError\u001b[0m: name 'pd' is not defined"
=======
   "execution_count": 20,
   "metadata": {},
   "outputs": [
    {
     "name": "stderr",
     "output_type": "stream",
     "text": [
      "/anaconda3/lib/python3.7/site-packages/sklearn/preprocessing/data.py:645: DataConversionWarning: Data with input dtype int64, float64 were all converted to float64 by StandardScaler.\n",
      "  return self.partial_fit(X, y)\n",
      "/anaconda3/lib/python3.7/site-packages/sklearn/base.py:464: DataConversionWarning: Data with input dtype int64, float64 were all converted to float64 by StandardScaler.\n",
      "  return self.fit(X, **fit_params).transform(X)\n"
>>>>>>> a39cf472555d630dd2fbeae16750e47625a07c9c
     ]
    }
   ],
   "source": [
    "X_test = pd.read_csv('data/test.csv')\n",
    "X_test['Age'] = X_test[['Age','Sex','Pclass']].apply(age_imputation,axis=1)\n",
    "X_test['Sex'] = X_test['Sex'].apply(lambda x: gender(x))\n",
    "X_test['S'] = X_test['Embarked'].apply(lambda x: southampton(x))\n",
    "X_test['Q'] = X_test['Embarked'].apply(lambda x: queenstown(x))\n",
    "X_test['Title'] = X_test['Name'].apply(lambda x: x.split(', ')[1].split('.')[0].strip())\n",
    "X_test['Title'] = X_test['Title'].apply(lambda x: title_cat(x))\n",
    "X_test.drop(['Cabin', 'PassengerId', 'Name', 'Ticket', 'Embarked'], axis=1, inplace=True)\n",
    "\n",
    "sc_test = StandardScaler()\n",
    "X_test = sc_test.fit_transform(X_test)\n",
    "\n",
    "y_test = pd.read_csv('data/gender_submission.csv')\n",
    "y_test.drop(['PassengerId'],axis=1,inplace=True)"
   ]
  },
  {
   "cell_type": "markdown",
   "metadata": {},
   "source": [
    "Using model to predict values."
   ]
  },
  {
   "cell_type": "code",
   "execution_count": 21,
   "metadata": {},
   "outputs": [
    {
     "name": "stderr",
     "output_type": "stream",
     "text": [
      "/anaconda3/lib/python3.7/site-packages/ipykernel_launcher.py:2: RuntimeWarning: invalid value encountered in greater\n",
      "  \n"
     ]
    }
   ],
   "source": [
    "y_pred_nn = classifier.predict(X_test)\n",
    "y_pred_nn = y_pred_nn > 0.5"
   ]
  },
  {
   "cell_type": "markdown",
   "metadata": {},
   "source": [
    "Confusion matrix and ROC curve for model accuracy."
   ]
  },
  {
   "cell_type": "code",
   "execution_count": 22,
   "metadata": {},
   "outputs": [
    {
     "data": {
      "image/png": "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\n",
      "text/plain": [
       "<Figure size 576x432 with 2 Axes>"
      ]
     },
     "metadata": {
      "needs_background": "light"
     },
     "output_type": "display_data"
    }
   ],
   "source": [
    "from sklearn.metrics import confusion_matrix\n",
    "from plotting import plot_confusion_matrix\n",
    "\n",
    "from sklearn.metrics import roc_curve\n",
    "from sklearn.metrics import roc_auc_score\n",
    "\n",
    "cm_nn = confusion_matrix(y_test, y_pred_nn)\n",
    "fpr, tpr, thresholds = roc_curve(y_test, y_pred_nn)\n",
    "\n",
    "plot_confusion_matrix(cm_nn, ['Died', 'Survived'])"
   ]
  },
  {
   "cell_type": "code",
   "execution_count": 23,
   "metadata": {},
   "outputs": [
    {
     "data": {
      "image/png": "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\n",
      "text/plain": [
       "<Figure size 432x288 with 1 Axes>"
      ]
     },
     "metadata": {
      "needs_background": "light"
     },
     "output_type": "display_data"
    },
    {
     "data": {
      "text/plain": [
       "0.8905075187969925"
      ]
     },
     "execution_count": 23,
     "metadata": {},
     "output_type": "execute_result"
    }
   ],
   "source": [
    "plt.plot(fpr,tpr)\n",
    "plt.xlabel('False positive rate')\n",
    "plt.ylabel('True positive rate')\n",
    "plt.title('ROC curve - Neural Network')\n",
    "plt.show()\n",
    "\n",
    "roc_auc_score(y_test, y_pred_nn)"
   ]
  },
  {
   "cell_type": "markdown",
   "metadata": {},
   "source": [
    "___\n",
    "**Random Forest Classification - Adesh**"
   ]
  },
  {
   "cell_type": "code",
   "execution_count": 24,
   "metadata": {},
   "outputs": [
    {
     "name": "stderr",
     "output_type": "stream",
     "text": [
      "/anaconda3/lib/python3.7/site-packages/sklearn/ensemble/forest.py:246: FutureWarning: The default value of n_estimators will change from 10 in version 0.20 to 100 in 0.22.\n",
      "  \"10 in version 0.20 to 100 in 0.22.\", FutureWarning)\n"
     ]
    }
   ],
   "source": [
    "from sklearn.ensemble import RandomForestClassifier\n",
    "\n",
    "rfc = RandomForestClassifier(random_state=0, n_jobs=-1)\n",
    "model = rfc.fit(X_train, y_train)"
   ]
  },
  {
   "cell_type": "code",
   "execution_count": 25,
   "metadata": {},
   "outputs": [],
   "source": [
    "y_pred_rfc = model.predict(np.nan_to_num(X_test))"
   ]
  },
  {
   "cell_type": "code",
   "execution_count": 26,
   "metadata": {},
   "outputs": [
    {
     "data": {
      "image/png": "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\n",
      "text/plain": [
       "<Figure size 576x432 with 2 Axes>"
      ]
     },
     "metadata": {
      "needs_background": "light"
     },
     "output_type": "display_data"
    }
   ],
   "source": [
    "cmrfc = confusion_matrix(y_test, y_pred_rfc)\n",
    "fpr_rfc, tpr_rfc, thresholds_rfc = roc_curve(y_test, y_pred_rfc)\n",
    "\n",
    "plot_confusion_matrix(cmrfc, ['Died', 'Survived'])"
   ]
  },
  {
   "cell_type": "code",
   "execution_count": 27,
   "metadata": {},
   "outputs": [
    {
     "data": {
      "image/png": "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\n",
      "text/plain": [
       "<Figure size 432x288 with 1 Axes>"
      ]
     },
     "metadata": {
      "needs_background": "light"
     },
     "output_type": "display_data"
    },
    {
     "data": {
      "text/plain": [
       "0.7908834586466166"
      ]
     },
     "execution_count": 27,
     "metadata": {},
     "output_type": "execute_result"
    }
   ],
   "source": [
    "plt.plot(fpr_rfc,tpr_rfc)\n",
    "plt.xlabel('False positive rate')\n",
    "plt.ylabel('True positive rate')\n",
    "plt.title('ROC curve - Random Forest Classifier')\n",
    "plt.show()\n",
    "\n",
    "roc_auc_score(y_test, y_pred_rfc)"
   ]
  },
  {
   "cell_type": "markdown",
   "metadata": {},
   "source": [
    "___"
   ]
  },
  {
   "cell_type": "code",
   "execution_count": null,
   "metadata": {},
   "outputs": [],
   "source": []
  }
 ],
 "metadata": {
  "kernelspec": {
   "display_name": "Python 3",
   "language": "python",
   "name": "python3"
  },
  "language_info": {
   "codemirror_mode": {
    "name": "ipython",
    "version": 3
   },
   "file_extension": ".py",
   "mimetype": "text/x-python",
   "name": "python",
   "nbconvert_exporter": "python",
   "pygments_lexer": "ipython3",
   "version": "3.7.3"
  }
 },
 "nbformat": 4,
 "nbformat_minor": 4
}
