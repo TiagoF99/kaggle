{
 "cells": [
  {
   "cell_type": "code",
   "execution_count": 1,
   "metadata": {},
   "outputs": [],
   "source": [
    "import numpy as np\n",
    "import pandas as pd\n",
    "\n",
    "import matplotlib.pyplot as plt\n",
    "import seaborn as sns\n",
    "#sns.set_style('whitegrid')\n",
    "\n",
    "%matplotlib inline"
   ]
  },
  {
   "cell_type": "code",
   "execution_count": 2,
   "metadata": {},
   "outputs": [],
   "source": [
    "train = pd.read_csv('data/train.csv')"
   ]
  },
  {
   "cell_type": "markdown",
   "metadata": {},
   "source": [
    "### Exploratory Data Analysis\n",
    "Data Exploration and Cleaning - Adesh"
   ]
  },
  {
   "cell_type": "code",
   "execution_count": 3,
   "metadata": {},
   "outputs": [
    {
     "data": {
      "text/html": [
       "<div>\n",
       "<style scoped>\n",
       "    .dataframe tbody tr th:only-of-type {\n",
       "        vertical-align: middle;\n",
       "    }\n",
       "\n",
       "    .dataframe tbody tr th {\n",
       "        vertical-align: top;\n",
       "    }\n",
       "\n",
       "    .dataframe thead th {\n",
       "        text-align: right;\n",
       "    }\n",
       "</style>\n",
       "<table border=\"1\" class=\"dataframe\">\n",
       "  <thead>\n",
       "    <tr style=\"text-align: right;\">\n",
       "      <th></th>\n",
       "      <th>PassengerId</th>\n",
       "      <th>Survived</th>\n",
       "      <th>Pclass</th>\n",
       "      <th>Name</th>\n",
       "      <th>Sex</th>\n",
       "      <th>Age</th>\n",
       "      <th>SibSp</th>\n",
       "      <th>Parch</th>\n",
       "      <th>Ticket</th>\n",
       "      <th>Fare</th>\n",
       "      <th>Cabin</th>\n",
       "      <th>Embarked</th>\n",
       "    </tr>\n",
       "  </thead>\n",
       "  <tbody>\n",
       "    <tr>\n",
       "      <th>0</th>\n",
       "      <td>1</td>\n",
       "      <td>0</td>\n",
       "      <td>3</td>\n",
       "      <td>Braund, Mr. Owen Harris</td>\n",
       "      <td>male</td>\n",
       "      <td>22.0</td>\n",
       "      <td>1</td>\n",
       "      <td>0</td>\n",
       "      <td>A/5 21171</td>\n",
       "      <td>7.2500</td>\n",
       "      <td>NaN</td>\n",
       "      <td>S</td>\n",
       "    </tr>\n",
       "    <tr>\n",
       "      <th>1</th>\n",
       "      <td>2</td>\n",
       "      <td>1</td>\n",
       "      <td>1</td>\n",
       "      <td>Cumings, Mrs. John Bradley (Florence Briggs Th...</td>\n",
       "      <td>female</td>\n",
       "      <td>38.0</td>\n",
       "      <td>1</td>\n",
       "      <td>0</td>\n",
       "      <td>PC 17599</td>\n",
       "      <td>71.2833</td>\n",
       "      <td>C85</td>\n",
       "      <td>C</td>\n",
       "    </tr>\n",
       "    <tr>\n",
       "      <th>2</th>\n",
       "      <td>3</td>\n",
       "      <td>1</td>\n",
       "      <td>3</td>\n",
       "      <td>Heikkinen, Miss. Laina</td>\n",
       "      <td>female</td>\n",
       "      <td>26.0</td>\n",
       "      <td>0</td>\n",
       "      <td>0</td>\n",
       "      <td>STON/O2. 3101282</td>\n",
       "      <td>7.9250</td>\n",
       "      <td>NaN</td>\n",
       "      <td>S</td>\n",
       "    </tr>\n",
       "    <tr>\n",
       "      <th>3</th>\n",
       "      <td>4</td>\n",
       "      <td>1</td>\n",
       "      <td>1</td>\n",
       "      <td>Futrelle, Mrs. Jacques Heath (Lily May Peel)</td>\n",
       "      <td>female</td>\n",
       "      <td>35.0</td>\n",
       "      <td>1</td>\n",
       "      <td>0</td>\n",
       "      <td>113803</td>\n",
       "      <td>53.1000</td>\n",
       "      <td>C123</td>\n",
       "      <td>S</td>\n",
       "    </tr>\n",
       "    <tr>\n",
       "      <th>4</th>\n",
       "      <td>5</td>\n",
       "      <td>0</td>\n",
       "      <td>3</td>\n",
       "      <td>Allen, Mr. William Henry</td>\n",
       "      <td>male</td>\n",
       "      <td>35.0</td>\n",
       "      <td>0</td>\n",
       "      <td>0</td>\n",
       "      <td>373450</td>\n",
       "      <td>8.0500</td>\n",
       "      <td>NaN</td>\n",
       "      <td>S</td>\n",
       "    </tr>\n",
       "  </tbody>\n",
       "</table>\n",
       "</div>"
      ],
      "text/plain": [
       "   PassengerId  Survived  Pclass  \\\n",
       "0            1         0       3   \n",
       "1            2         1       1   \n",
       "2            3         1       3   \n",
       "3            4         1       1   \n",
       "4            5         0       3   \n",
       "\n",
       "                                                Name     Sex   Age  SibSp  \\\n",
       "0                            Braund, Mr. Owen Harris    male  22.0      1   \n",
       "1  Cumings, Mrs. John Bradley (Florence Briggs Th...  female  38.0      1   \n",
       "2                             Heikkinen, Miss. Laina  female  26.0      0   \n",
       "3       Futrelle, Mrs. Jacques Heath (Lily May Peel)  female  35.0      1   \n",
       "4                           Allen, Mr. William Henry    male  35.0      0   \n",
       "\n",
       "   Parch            Ticket     Fare Cabin Embarked  \n",
       "0      0         A/5 21171   7.2500   NaN        S  \n",
       "1      0          PC 17599  71.2833   C85        C  \n",
       "2      0  STON/O2. 3101282   7.9250   NaN        S  \n",
       "3      0            113803  53.1000  C123        S  \n",
       "4      0            373450   8.0500   NaN        S  "
      ]
     },
     "execution_count": 3,
     "metadata": {},
     "output_type": "execute_result"
    }
   ],
   "source": [
    "train.head(5)"
   ]
  },
  {
   "cell_type": "markdown",
   "metadata": {},
   "source": [
    "Feature Breakdown:\n",
    "\n",
    "- Categorical: Survived, Pclass, Sex, Embarked\n",
    "- Numerical: Age, Fare, SibSp, Parch\n",
    "- Mixed: Name, Ticket, Cabin"
   ]
  },
  {
   "cell_type": "code",
   "execution_count": 4,
   "metadata": {},
   "outputs": [
    {
     "data": {
      "text/html": [
       "<div>\n",
       "<style scoped>\n",
       "    .dataframe tbody tr th:only-of-type {\n",
       "        vertical-align: middle;\n",
       "    }\n",
       "\n",
       "    .dataframe tbody tr th {\n",
       "        vertical-align: top;\n",
       "    }\n",
       "\n",
       "    .dataframe thead th {\n",
       "        text-align: right;\n",
       "    }\n",
       "</style>\n",
       "<table border=\"1\" class=\"dataframe\">\n",
       "  <thead>\n",
       "    <tr style=\"text-align: right;\">\n",
       "      <th></th>\n",
       "      <th>PassengerId</th>\n",
       "      <th>Survived</th>\n",
       "      <th>Pclass</th>\n",
       "      <th>Age</th>\n",
       "      <th>SibSp</th>\n",
       "      <th>Parch</th>\n",
       "      <th>Fare</th>\n",
       "    </tr>\n",
       "  </thead>\n",
       "  <tbody>\n",
       "    <tr>\n",
       "      <th>count</th>\n",
       "      <td>891.000000</td>\n",
       "      <td>891.000000</td>\n",
       "      <td>891.000000</td>\n",
       "      <td>714.000000</td>\n",
       "      <td>891.000000</td>\n",
       "      <td>891.000000</td>\n",
       "      <td>891.000000</td>\n",
       "    </tr>\n",
       "    <tr>\n",
       "      <th>mean</th>\n",
       "      <td>446.000000</td>\n",
       "      <td>0.383838</td>\n",
       "      <td>2.308642</td>\n",
       "      <td>29.699118</td>\n",
       "      <td>0.523008</td>\n",
       "      <td>0.381594</td>\n",
       "      <td>32.204208</td>\n",
       "    </tr>\n",
       "    <tr>\n",
       "      <th>std</th>\n",
       "      <td>257.353842</td>\n",
       "      <td>0.486592</td>\n",
       "      <td>0.836071</td>\n",
       "      <td>14.526497</td>\n",
       "      <td>1.102743</td>\n",
       "      <td>0.806057</td>\n",
       "      <td>49.693429</td>\n",
       "    </tr>\n",
       "    <tr>\n",
       "      <th>min</th>\n",
       "      <td>1.000000</td>\n",
       "      <td>0.000000</td>\n",
       "      <td>1.000000</td>\n",
       "      <td>0.420000</td>\n",
       "      <td>0.000000</td>\n",
       "      <td>0.000000</td>\n",
       "      <td>0.000000</td>\n",
       "    </tr>\n",
       "    <tr>\n",
       "      <th>25%</th>\n",
       "      <td>223.500000</td>\n",
       "      <td>0.000000</td>\n",
       "      <td>2.000000</td>\n",
       "      <td>20.125000</td>\n",
       "      <td>0.000000</td>\n",
       "      <td>0.000000</td>\n",
       "      <td>7.910400</td>\n",
       "    </tr>\n",
       "    <tr>\n",
       "      <th>50%</th>\n",
       "      <td>446.000000</td>\n",
       "      <td>0.000000</td>\n",
       "      <td>3.000000</td>\n",
       "      <td>28.000000</td>\n",
       "      <td>0.000000</td>\n",
       "      <td>0.000000</td>\n",
       "      <td>14.454200</td>\n",
       "    </tr>\n",
       "    <tr>\n",
       "      <th>75%</th>\n",
       "      <td>668.500000</td>\n",
       "      <td>1.000000</td>\n",
       "      <td>3.000000</td>\n",
       "      <td>38.000000</td>\n",
       "      <td>1.000000</td>\n",
       "      <td>0.000000</td>\n",
       "      <td>31.000000</td>\n",
       "    </tr>\n",
       "    <tr>\n",
       "      <th>max</th>\n",
       "      <td>891.000000</td>\n",
       "      <td>1.000000</td>\n",
       "      <td>3.000000</td>\n",
       "      <td>80.000000</td>\n",
       "      <td>8.000000</td>\n",
       "      <td>6.000000</td>\n",
       "      <td>512.329200</td>\n",
       "    </tr>\n",
       "  </tbody>\n",
       "</table>\n",
       "</div>"
      ],
      "text/plain": [
       "       PassengerId    Survived      Pclass         Age       SibSp  \\\n",
       "count   891.000000  891.000000  891.000000  714.000000  891.000000   \n",
       "mean    446.000000    0.383838    2.308642   29.699118    0.523008   \n",
       "std     257.353842    0.486592    0.836071   14.526497    1.102743   \n",
       "min       1.000000    0.000000    1.000000    0.420000    0.000000   \n",
       "25%     223.500000    0.000000    2.000000   20.125000    0.000000   \n",
       "50%     446.000000    0.000000    3.000000   28.000000    0.000000   \n",
       "75%     668.500000    1.000000    3.000000   38.000000    1.000000   \n",
       "max     891.000000    1.000000    3.000000   80.000000    8.000000   \n",
       "\n",
       "            Parch        Fare  \n",
       "count  891.000000  891.000000  \n",
       "mean     0.381594   32.204208  \n",
       "std      0.806057   49.693429  \n",
       "min      0.000000    0.000000  \n",
       "25%      0.000000    7.910400  \n",
       "50%      0.000000   14.454200  \n",
       "75%      0.000000   31.000000  \n",
       "max      6.000000  512.329200  "
      ]
     },
     "execution_count": 4,
     "metadata": {},
     "output_type": "execute_result"
    }
   ],
   "source": [
    "train.describe()"
   ]
  },
  {
   "cell_type": "code",
   "execution_count": 5,
   "metadata": {},
   "outputs": [
    {
     "data": {
      "text/plain": [
       "<matplotlib.axes._subplots.AxesSubplot at 0x14276a41f48>"
      ]
     },
     "execution_count": 5,
     "metadata": {},
     "output_type": "execute_result"
    },
    {
     "data": {
      "image/png": "[encoded data removed]",
      "text/plain": [
       "<Figure size 432x288 with 1 Axes>"
      ]
     },
     "metadata": {
      "needs_background": "light"
     },
     "output_type": "display_data"
    }
   ],
   "source": [
    "sns.heatmap(train.isnull(), cbar=False)"
   ]
  },
  {
   "cell_type": "markdown",
   "metadata": {},
   "source": [
    "Assumptions:\n",
    "- `passengerId` has no influence on the data -> drop\n",
    "- `Cabin` is missing most of its values and therefore cannot be imputed -> drop\n",
    "- `Ticket` is alphanumerical (difficult to work with) and 23% of values aren't unique -> drop?\n",
    "- `Name` is a mixture of names and titles, seemingly doesn't affect survival -> drop?"
   ]
  },
  {
   "cell_type": "code",
   "execution_count": 6,
   "metadata": {},
   "outputs": [
    {
     "data": {
      "text/plain": [
       "<matplotlib.axes._subplots.AxesSubplot at 0x14276dad648>"
      ]
     },
     "execution_count": 6,
     "metadata": {},
     "output_type": "execute_result"
    },
    {
     "data": {
      "image/png": "[encoded data removed]",
      "text/plain": [
       "<Figure size 432x288 with 1 Axes>"
      ]
     },
     "metadata": {
      "needs_background": "light"
     },
     "output_type": "display_data"
    }
   ],
   "source": [
    "train['Age'].hist(bins=30)"
   ]
  },
  {
   "cell_type": "code",
   "execution_count": 7,
   "metadata": {},
   "outputs": [
    {
     "data": {
      "text/plain": [
       "<matplotlib.axes._subplots.AxesSubplot at 0x14276e9ca08>"
      ]
     },
     "execution_count": 7,
     "metadata": {},
     "output_type": "execute_result"
    },
    {
     "data": {
      "image/png": "[encoded data removed]",
      "text/plain": [
       "<Figure size 432x288 with 1 Axes>"
      ]
     },
     "metadata": {
      "needs_background": "light"
     },
     "output_type": "display_data"
    }
   ],
   "source": [
    "sns.countplot(x='Survived', data=train, hue='Sex')"
   ]
  },
  {
   "cell_type": "code",
   "execution_count": 8,
   "metadata": {},
   "outputs": [
    {
     "data": {
      "text/plain": [
       "<matplotlib.axes._subplots.AxesSubplot at 0x14276f12ec8>"
      ]
     },
     "execution_count": 8,
     "metadata": {},
     "output_type": "execute_result"
    },
    {
     "data": {
      "image/png": "[encoded data removed]",
      "text/plain": [
       "<Figure size 432x288 with 1 Axes>"
      ]
     },
     "metadata": {
      "needs_background": "light"
     },
     "output_type": "display_data"
    }
   ],
   "source": [
    "sns.countplot(x='Survived', data=train, hue='Embarked')"
   ]
  },
  {
   "cell_type": "code",
   "execution_count": 9,
   "metadata": {},
   "outputs": [
    {
     "data": {
      "text/plain": [
       "<matplotlib.axes._subplots.AxesSubplot at 0x14274d4f1c8>"
      ]
     },
     "execution_count": 9,
     "metadata": {},
     "output_type": "execute_result"
    },
    {
     "data": {
      "image/png": "[encoded data removed]",
      "text/plain": [
       "<Figure size 864x432 with 1 Axes>"
      ]
     },
     "metadata": {
      "needs_background": "light"
     },
     "output_type": "display_data"
    }
   ],
   "source": [
    "plt.figure(figsize=(12, 6))\n",
    "sns.boxplot(x='Pclass', y='Age', hue='Sex', data=train)"
   ]
  },
  {
   "cell_type": "code",
   "execution_count": 10,
   "metadata": {},
   "outputs": [
    {
     "data": {
      "text/plain": [
       "['35.0', '40.0', '28.0', '30.0', '21.5', '25.0']"
      ]
     },
     "execution_count": 10,
     "metadata": {},
     "output_type": "execute_result"
    }
   ],
   "source": [
    "medians = train.groupby(['Pclass','Sex'])['Age'].median().values\n",
    "medians = [str(np.round(s, 2)) for s in medians]\n",
    "medians"
   ]
  },
  {
   "cell_type": "markdown",
   "metadata": {},
   "source": [
    " - `age_imputation` imputes the age of a passenger with the median value for their respective Pclass and Sex.\n",
    " - `gender` hot encodes male (1) / female (0).\n",
    " - `southampton` and `queenstown` hot encodes the port of embarking."
   ]
  },
  {
   "cell_type": "code",
   "execution_count": 11,
   "metadata": {},
   "outputs": [],
   "source": [
    "def age_imputation (cols):\n",
    "    Age = cols[0]\n",
    "    Sex = cols[1]\n",
    "    Pclass = cols[2]\n",
    "    \n",
    "    if pd.isnull(Age):\n",
    "        if Pclass == 1 and Sex == 'male':\n",
    "            return 40\n",
    "        elif Pclass == 1 and Sex == 'female':\n",
    "            return 35\n",
    "        elif Pclass == 2 and Sex == 'male':\n",
    "            return 30\n",
    "        elif Pclass == 2 and Sex == 'female':\n",
    "            return 28\n",
    "        elif Pclass == 3 and Sex == 'male':\n",
    "            return 25\n",
    "        elif Pclass == 3 and Sex == 'female':\n",
    "            return 22\n",
    "    else:\n",
    "        return Age"
   ]
  },
  {
   "cell_type": "code",
   "execution_count": 12,
   "metadata": {},
   "outputs": [],
   "source": [
    "def gender (val):\n",
    "    if val == 'male':\n",
    "        return 1\n",
    "    else:\n",
    "        return 0"
   ]
  },
  {
   "cell_type": "code",
   "execution_count": 13,
   "metadata": {},
   "outputs": [],
   "source": [
    "def southampton (col):\n",
    "    Embarked = col\n",
    "    \n",
    "    if Embarked == 'S':\n",
    "        return 1\n",
    "    else:\n",
    "        return 0\n",
    "\n",
    "def queenstown (col):\n",
    "    Embarked = col\n",
    "    \n",
    "    if Embarked == 'Q':\n",
    "        return 1\n",
    "    else:\n",
    "        return 0"
   ]
  },
  {
   "cell_type": "code",
   "execution_count": 14,
   "metadata": {},
   "outputs": [],
   "source": [
    "def title_cat (x):\n",
    "    if x == 'Mr':\n",
    "        return 1\n",
    "    elif x == 'Miss' or x == 'Mrs' or x == 'Ms' or x == 'Mme' or x == 'Lady' or x == 'Mlle':\n",
    "        return 2\n",
    "    else:\n",
    "        return 3"
   ]
  },
  {
   "cell_type": "code",
   "execution_count": 15,
   "metadata": {},
   "outputs": [],
   "source": [
    "train['Age'] = train[['Age','Sex','Pclass']].apply(age_imputation,axis=1)"
   ]
  },
  {
   "cell_type": "code",
   "execution_count": 16,
   "metadata": {},
   "outputs": [],
   "source": [
    "train['Sex'] = train['Sex'].apply(lambda x: gender(x))"
   ]
  },
  {
   "cell_type": "code",
   "execution_count": 17,
   "metadata": {},
   "outputs": [],
   "source": [
    "train['S'] = train['Embarked'].apply(lambda x: southampton(x))\n",
    "train['Q'] = train['Embarked'].apply(lambda x: queenstown(x))"
   ]
  },
  {
   "cell_type": "code",
   "execution_count": 18,
   "metadata": {},
   "outputs": [],
   "source": [
    "train['Title'] = train['Name'].apply(lambda x: x.split(', ')[1].split('.')[0].strip())\n",
    "train['Title'] = train['Title'].apply(lambda x: title_cat(x))"
   ]
  },
  {
   "cell_type": "code",
   "execution_count": 19,
   "metadata": {},
   "outputs": [],
   "source": [
    "train.drop(['Cabin', 'PassengerId', 'Name', 'Ticket', 'Embarked'], axis=1, inplace=True)"
   ]
  },
  {
   "cell_type": "code",
   "execution_count": 20,
   "metadata": {},
   "outputs": [
    {
     "data": {
      "text/html": [
       "<div>\n",
       "<style scoped>\n",
       "    .dataframe tbody tr th:only-of-type {\n",
       "        vertical-align: middle;\n",
       "    }\n",
       "\n",
       "    .dataframe tbody tr th {\n",
       "        vertical-align: top;\n",
       "    }\n",
       "\n",
       "    .dataframe thead th {\n",
       "        text-align: right;\n",
       "    }\n",
       "</style>\n",
       "<table border=\"1\" class=\"dataframe\">\n",
       "  <thead>\n",
       "    <tr style=\"text-align: right;\">\n",
       "      <th></th>\n",
       "      <th>Survived</th>\n",
       "      <th>Pclass</th>\n",
       "      <th>Sex</th>\n",
       "      <th>Age</th>\n",
       "      <th>SibSp</th>\n",
       "      <th>Parch</th>\n",
       "      <th>Fare</th>\n",
       "      <th>S</th>\n",
       "      <th>Q</th>\n",
       "      <th>Title</th>\n",
       "    </tr>\n",
       "  </thead>\n",
       "  <tbody>\n",
       "    <tr>\n",
       "      <th>0</th>\n",
       "      <td>0</td>\n",
       "      <td>3</td>\n",
       "      <td>1</td>\n",
       "      <td>22.0</td>\n",
       "      <td>1</td>\n",
       "      <td>0</td>\n",
       "      <td>7.2500</td>\n",
       "      <td>1</td>\n",
       "      <td>0</td>\n",
       "      <td>1</td>\n",
       "    </tr>\n",
       "    <tr>\n",
       "      <th>1</th>\n",
       "      <td>1</td>\n",
       "      <td>1</td>\n",
       "      <td>0</td>\n",
       "      <td>38.0</td>\n",
       "      <td>1</td>\n",
       "      <td>0</td>\n",
       "      <td>71.2833</td>\n",
       "      <td>0</td>\n",
       "      <td>0</td>\n",
       "      <td>2</td>\n",
       "    </tr>\n",
       "    <tr>\n",
       "      <th>2</th>\n",
       "      <td>1</td>\n",
       "      <td>3</td>\n",
       "      <td>0</td>\n",
       "      <td>26.0</td>\n",
       "      <td>0</td>\n",
       "      <td>0</td>\n",
       "      <td>7.9250</td>\n",
       "      <td>1</td>\n",
       "      <td>0</td>\n",
       "      <td>2</td>\n",
       "    </tr>\n",
       "    <tr>\n",
       "      <th>3</th>\n",
       "      <td>1</td>\n",
       "      <td>1</td>\n",
       "      <td>0</td>\n",
       "      <td>35.0</td>\n",
       "      <td>1</td>\n",
       "      <td>0</td>\n",
       "      <td>53.1000</td>\n",
       "      <td>1</td>\n",
       "      <td>0</td>\n",
       "      <td>2</td>\n",
       "    </tr>\n",
       "    <tr>\n",
       "      <th>4</th>\n",
       "      <td>0</td>\n",
       "      <td>3</td>\n",
       "      <td>1</td>\n",
       "      <td>35.0</td>\n",
       "      <td>0</td>\n",
       "      <td>0</td>\n",
       "      <td>8.0500</td>\n",
       "      <td>1</td>\n",
       "      <td>0</td>\n",
       "      <td>1</td>\n",
       "    </tr>\n",
       "    <tr>\n",
       "      <th>5</th>\n",
       "      <td>0</td>\n",
       "      <td>3</td>\n",
       "      <td>1</td>\n",
       "      <td>25.0</td>\n",
       "      <td>0</td>\n",
       "      <td>0</td>\n",
       "      <td>8.4583</td>\n",
       "      <td>0</td>\n",
       "      <td>1</td>\n",
       "      <td>1</td>\n",
       "    </tr>\n",
       "    <tr>\n",
       "      <th>6</th>\n",
       "      <td>0</td>\n",
       "      <td>1</td>\n",
       "      <td>1</td>\n",
       "      <td>54.0</td>\n",
       "      <td>0</td>\n",
       "      <td>0</td>\n",
       "      <td>51.8625</td>\n",
       "      <td>1</td>\n",
       "      <td>0</td>\n",
       "      <td>1</td>\n",
       "    </tr>\n",
       "    <tr>\n",
       "      <th>7</th>\n",
       "      <td>0</td>\n",
       "      <td>3</td>\n",
       "      <td>1</td>\n",
       "      <td>2.0</td>\n",
       "      <td>3</td>\n",
       "      <td>1</td>\n",
       "      <td>21.0750</td>\n",
       "      <td>1</td>\n",
       "      <td>0</td>\n",
       "      <td>3</td>\n",
       "    </tr>\n",
       "    <tr>\n",
       "      <th>8</th>\n",
       "      <td>1</td>\n",
       "      <td>3</td>\n",
       "      <td>0</td>\n",
       "      <td>27.0</td>\n",
       "      <td>0</td>\n",
       "      <td>2</td>\n",
       "      <td>11.1333</td>\n",
       "      <td>1</td>\n",
       "      <td>0</td>\n",
       "      <td>2</td>\n",
       "    </tr>\n",
       "    <tr>\n",
       "      <th>9</th>\n",
       "      <td>1</td>\n",
       "      <td>2</td>\n",
       "      <td>0</td>\n",
       "      <td>14.0</td>\n",
       "      <td>1</td>\n",
       "      <td>0</td>\n",
       "      <td>30.0708</td>\n",
       "      <td>0</td>\n",
       "      <td>0</td>\n",
       "      <td>2</td>\n",
       "    </tr>\n",
       "  </tbody>\n",
       "</table>\n",
       "</div>"
      ],
      "text/plain": [
       "   Survived  Pclass  Sex   Age  SibSp  Parch     Fare  S  Q  Title\n",
       "0         0       3    1  22.0      1      0   7.2500  1  0      1\n",
       "1         1       1    0  38.0      1      0  71.2833  0  0      2\n",
       "2         1       3    0  26.0      0      0   7.9250  1  0      2\n",
       "3         1       1    0  35.0      1      0  53.1000  1  0      2\n",
       "4         0       3    1  35.0      0      0   8.0500  1  0      1\n",
       "5         0       3    1  25.0      0      0   8.4583  0  1      1\n",
       "6         0       1    1  54.0      0      0  51.8625  1  0      1\n",
       "7         0       3    1   2.0      3      1  21.0750  1  0      3\n",
       "8         1       3    0  27.0      0      2  11.1333  1  0      2\n",
       "9         1       2    0  14.0      1      0  30.0708  0  0      2"
      ]
     },
     "execution_count": 20,
     "metadata": {},
     "output_type": "execute_result"
    }
   ],
   "source": [
    "train.head(10)"
   ]
  },
  {
   "cell_type": "code",
   "execution_count": 21,
   "metadata": {},
   "outputs": [
    {
     "data": {
      "text/plain": [
       "<matplotlib.axes._subplots.AxesSubplot at 0x14276e9c7c8>"
      ]
     },
     "execution_count": 21,
     "metadata": {},
     "output_type": "execute_result"
    },
    {
     "data": {
      "image/png": "[encoded data removed]",
      "text/plain": [
       "<Figure size 432x288 with 2 Axes>"
      ]
     },
     "metadata": {
      "needs_background": "light"
     },
     "output_type": "display_data"
    }
   ],
   "source": [
    "sns.heatmap(train.corr(), annot= True)"
   ]
  },
  {
   "cell_type": "code",
   "execution_count": 22,
   "metadata": {},
   "outputs": [],
   "source": [
    "train.to_csv('data/train_clean.csv')"
   ]
  },
  {
   "cell_type": "markdown",
   "metadata": {},
   "source": [
    "### Machine Learning Models\n",
    "\n",
    "1. Logistic Regression - Tiago\n",
    "2. Random Forest Classification - Sadiyah\n",
    "3. Support Vector Machine - Raman\n",
    "4. Neural Network - Adesh\n",
    "___"
   ]
  },
  {
   "cell_type": "markdown",
   "metadata": {},
   "source": [
    "**Neural Network using Keras - Adesh**"
   ]
  },
  {
   "cell_type": "markdown",
   "metadata": {},
   "source": [
    "Splitting data into `X_train` and `y_train`, scaling the data, and using Keras for Neural Network."
   ]
  },
  {
   "cell_type": "code",
   "execution_count": 23,
   "metadata": {},
   "outputs": [],
   "source": [
    "X_train = train.iloc[:, 1:10]\n",
    "y_train = train.iloc[:, 0]"
   ]
  },
  {
   "cell_type": "code",
   "execution_count": 24,
   "metadata": {},
   "outputs": [],
   "source": [
    "from sklearn.preprocessing import StandardScaler\n",
    "\n",
    "sc = StandardScaler()\n",
    "X_train = sc.fit_transform(X_train)"
   ]
  },
  {
   "cell_type": "code",
   "execution_count": 25,
   "metadata": {},
   "outputs": [
    {
     "name": "stderr",
     "output_type": "stream",
     "text": [
      "Using TensorFlow backend.\n"
     ]
    }
   ],
   "source": [
    "from keras import Sequential\n",
    "from keras.layers import Dense"
   ]
  },
  {
   "cell_type": "code",
   "execution_count": 26,
   "metadata": {},
   "outputs": [
    {
     "name": "stdout",
     "output_type": "stream",
     "text": [
      "WARNING:tensorflow:From C:\\Users\\Adesh\\Anaconda3\\envs\\gputest\\lib\\site-packages\\tensorflow\\python\\framework\\op_def_library.py:263: colocate_with (from tensorflow.python.framework.ops) is deprecated and will be removed in a future version.\n",
      "Instructions for updating:\n",
      "Colocations handled automatically by placer.\n"
     ]
    }
   ],
   "source": [
    "classifier = Sequential()\n",
    "\n",
    "# Creating Hidden layers\n",
    "classifier.add(Dense(4, activation='relu', kernel_initializer='random_normal', input_dim=9))\n",
    "classifier.add(Dense(4, activation='relu', kernel_initializer='random_normal'))\n",
    "\n",
    "# Output Layer\n",
    "classifier.add(Dense(1, activation='sigmoid', kernel_initializer='random_normal'))"
   ]
  },
  {
   "cell_type": "code",
   "execution_count": 27,
   "metadata": {},
   "outputs": [],
   "source": [
    "# Compiling the Neural Network\n",
    "classifier.compile(optimizer ='adam',loss='binary_crossentropy', metrics =['accuracy'])"
   ]
  },
  {
   "cell_type": "code",
   "execution_count": 28,
   "metadata": {},
   "outputs": [
    {
     "name": "stdout",
     "output_type": "stream",
     "text": [
      "WARNING:tensorflow:From C:\\Users\\Adesh\\Anaconda3\\envs\\gputest\\lib\\site-packages\\tensorflow\\python\\ops\\math_ops.py:3066: to_int32 (from tensorflow.python.ops.math_ops) is deprecated and will be removed in a future version.\n",
      "Instructions for updating:\n",
      "Use tf.cast instead.\n",
      "Epoch 1/256\n",
      "891/891 [==============================] - 1s 2ms/step - loss: 0.6928 - acc: 0.6094\n",
      "Epoch 2/256\n",
      "891/891 [==============================] - 0s 19us/step - loss: 0.6919 - acc: 0.6162\n",
      "Epoch 3/256\n",
      "891/891 [==============================] - 0s 18us/step - loss: 0.6910 - acc: 0.6162\n",
      "Epoch 4/256\n",
      "891/891 [==============================] - 0s 18us/step - loss: 0.6900 - acc: 0.6162\n",
      "Epoch 5/256\n",
      "891/891 [==============================] - 0s 19us/step - loss: 0.6890 - acc: 0.6162\n",
      "Epoch 6/256\n",
      "891/891 [==============================] - 0s 19us/step - loss: 0.6878 - acc: 0.6162\n",
      "Epoch 7/256\n",
      "891/891 [==============================] - 0s 19us/step - loss: 0.6864 - acc: 0.6162\n",
      "Epoch 8/256\n",
      "891/891 [==============================] - 0s 17us/step - loss: 0.6846 - acc: 0.6162\n",
      "Epoch 9/256\n",
      "891/891 [==============================] - 0s 19us/step - loss: 0.6826 - acc: 0.6162\n",
      "Epoch 10/256\n",
      "891/891 [==============================] - 0s 19us/step - loss: 0.6802 - acc: 0.6162\n",
      "Epoch 11/256\n",
      "891/891 [==============================] - 0s 18us/step - loss: 0.6773 - acc: 0.6162\n",
      "Epoch 12/256\n",
      "891/891 [==============================] - 0s 18us/step - loss: 0.6741 - acc: 0.6162\n",
      "Epoch 13/256\n",
      "891/891 [==============================] - 0s 19us/step - loss: 0.6701 - acc: 0.6162\n",
      "Epoch 14/256\n",
      "891/891 [==============================] - 0s 19us/step - loss: 0.6658 - acc: 0.6162\n",
      "Epoch 15/256\n",
      "891/891 [==============================] - 0s 20us/step - loss: 0.6607 - acc: 0.6162\n",
      "Epoch 16/256\n",
      "891/891 [==============================] - 0s 19us/step - loss: 0.6549 - acc: 0.6173\n",
      "Epoch 17/256\n",
      "891/891 [==============================] - 0s 19us/step - loss: 0.6484 - acc: 0.6240\n",
      "Epoch 18/256\n",
      "891/891 [==============================] - 0s 18us/step - loss: 0.6413 - acc: 0.6712\n",
      "Epoch 19/256\n",
      "891/891 [==============================] - 0s 18us/step - loss: 0.6336 - acc: 0.7205\n",
      "Epoch 20/256\n",
      "891/891 [==============================] - 0s 18us/step - loss: 0.6251 - acc: 0.7699\n",
      "Epoch 21/256\n",
      "891/891 [==============================] - 0s 18us/step - loss: 0.6161 - acc: 0.7901\n",
      "Epoch 22/256\n",
      "891/891 [==============================] - 0s 18us/step - loss: 0.6064 - acc: 0.8081\n",
      "Epoch 23/256\n",
      "891/891 [==============================] - 0s 20us/step - loss: 0.5967 - acc: 0.8159\n",
      "Epoch 24/256\n",
      "891/891 [==============================] - 0s 19us/step - loss: 0.5863 - acc: 0.8260\n",
      "Epoch 25/256\n",
      "891/891 [==============================] - 0s 19us/step - loss: 0.5762 - acc: 0.8294\n",
      "Epoch 26/256\n",
      "891/891 [==============================] - 0s 18us/step - loss: 0.5657 - acc: 0.8294\n",
      "Epoch 27/256\n",
      "891/891 [==============================] - 0s 19us/step - loss: 0.5555 - acc: 0.8238\n",
      "Epoch 28/256\n",
      "891/891 [==============================] - 0s 18us/step - loss: 0.5451 - acc: 0.8238\n",
      "Epoch 29/256\n",
      "891/891 [==============================] - 0s 19us/step - loss: 0.5355 - acc: 0.8238\n",
      "Epoch 30/256\n",
      "891/891 [==============================] - 0s 19us/step - loss: 0.5265 - acc: 0.8204\n",
      "Epoch 31/256\n",
      "891/891 [==============================] - 0s 19us/step - loss: 0.5174 - acc: 0.8182\n",
      "Epoch 32/256\n",
      "891/891 [==============================] - 0s 19us/step - loss: 0.5091 - acc: 0.8171\n",
      "Epoch 33/256\n",
      "891/891 [==============================] - 0s 19us/step - loss: 0.5013 - acc: 0.8148\n",
      "Epoch 34/256\n",
      "891/891 [==============================] - 0s 18us/step - loss: 0.4939 - acc: 0.8137\n",
      "Epoch 35/256\n",
      "891/891 [==============================] - 0s 18us/step - loss: 0.4875 - acc: 0.8137\n",
      "Epoch 36/256\n",
      "891/891 [==============================] - 0s 18us/step - loss: 0.4811 - acc: 0.8159\n",
      "Epoch 37/256\n",
      "891/891 [==============================] - 0s 19us/step - loss: 0.4757 - acc: 0.8159\n",
      "Epoch 38/256\n",
      "891/891 [==============================] - 0s 18us/step - loss: 0.4710 - acc: 0.8171\n",
      "Epoch 39/256\n",
      "891/891 [==============================] - 0s 19us/step - loss: 0.4669 - acc: 0.8148\n",
      "Epoch 40/256\n",
      "891/891 [==============================] - 0s 18us/step - loss: 0.4633 - acc: 0.8159\n",
      "Epoch 41/256\n",
      "891/891 [==============================] - 0s 19us/step - loss: 0.4601 - acc: 0.8171\n",
      "Epoch 42/256\n",
      "891/891 [==============================] - 0s 18us/step - loss: 0.4574 - acc: 0.8159\n",
      "Epoch 43/256\n",
      "891/891 [==============================] - 0s 19us/step - loss: 0.4552 - acc: 0.8171\n",
      "Epoch 44/256\n",
      "891/891 [==============================] - 0s 19us/step - loss: 0.4534 - acc: 0.8148\n",
      "Epoch 45/256\n",
      "891/891 [==============================] - 0s 17us/step - loss: 0.4517 - acc: 0.8159\n",
      "Epoch 46/256\n",
      "891/891 [==============================] - 0s 18us/step - loss: 0.4500 - acc: 0.8159\n",
      "Epoch 47/256\n",
      "891/891 [==============================] - 0s 19us/step - loss: 0.4485 - acc: 0.8159\n",
      "Epoch 48/256\n",
      "891/891 [==============================] - 0s 19us/step - loss: 0.4472 - acc: 0.8159\n",
      "Epoch 49/256\n",
      "891/891 [==============================] - 0s 18us/step - loss: 0.4460 - acc: 0.8193\n",
      "Epoch 50/256\n",
      "891/891 [==============================] - 0s 19us/step - loss: 0.4448 - acc: 0.8204\n",
      "Epoch 51/256\n",
      "891/891 [==============================] - 0s 20us/step - loss: 0.4438 - acc: 0.8215\n",
      "Epoch 52/256\n",
      "891/891 [==============================] - 0s 19us/step - loss: 0.4429 - acc: 0.8215\n",
      "Epoch 53/256\n",
      "891/891 [==============================] - 0s 19us/step - loss: 0.4418 - acc: 0.8227\n",
      "Epoch 54/256\n",
      "891/891 [==============================] - 0s 18us/step - loss: 0.4410 - acc: 0.8238\n",
      "Epoch 55/256\n",
      "891/891 [==============================] - 0s 19us/step - loss: 0.4401 - acc: 0.8215\n",
      "Epoch 56/256\n",
      "891/891 [==============================] - 0s 18us/step - loss: 0.4394 - acc: 0.8215\n",
      "Epoch 57/256\n",
      "891/891 [==============================] - 0s 19us/step - loss: 0.4387 - acc: 0.8215\n",
      "Epoch 58/256\n",
      "891/891 [==============================] - 0s 19us/step - loss: 0.4380 - acc: 0.8215\n",
      "Epoch 59/256\n",
      "891/891 [==============================] - 0s 19us/step - loss: 0.4373 - acc: 0.8204\n",
      "Epoch 60/256\n",
      "891/891 [==============================] - 0s 19us/step - loss: 0.4367 - acc: 0.8204\n",
      "Epoch 61/256\n",
      "891/891 [==============================] - 0s 19us/step - loss: 0.4361 - acc: 0.8204\n",
      "Epoch 62/256\n",
      "891/891 [==============================] - 0s 19us/step - loss: 0.4354 - acc: 0.8204\n",
      "Epoch 63/256\n",
      "891/891 [==============================] - 0s 18us/step - loss: 0.4349 - acc: 0.8193\n",
      "Epoch 64/256\n",
      "891/891 [==============================] - 0s 21us/step - loss: 0.4345 - acc: 0.8193\n",
      "Epoch 65/256\n",
      "891/891 [==============================] - 0s 19us/step - loss: 0.4339 - acc: 0.8204\n",
      "Epoch 66/256\n",
      "891/891 [==============================] - 0s 18us/step - loss: 0.4331 - acc: 0.8193\n",
      "Epoch 67/256\n",
      "891/891 [==============================] - 0s 18us/step - loss: 0.4325 - acc: 0.8204\n",
      "Epoch 68/256\n",
      "891/891 [==============================] - 0s 18us/step - loss: 0.4321 - acc: 0.8204\n",
      "Epoch 69/256\n",
      "891/891 [==============================] - 0s 18us/step - loss: 0.4315 - acc: 0.8204\n",
      "Epoch 70/256\n",
      "891/891 [==============================] - 0s 19us/step - loss: 0.4311 - acc: 0.8204\n",
      "Epoch 71/256\n",
      "891/891 [==============================] - 0s 18us/step - loss: 0.4307 - acc: 0.8204\n",
      "Epoch 72/256\n",
      "891/891 [==============================] - 0s 18us/step - loss: 0.4301 - acc: 0.8193\n",
      "Epoch 73/256\n",
      "891/891 [==============================] - 0s 20us/step - loss: 0.4296 - acc: 0.8204\n",
      "Epoch 74/256\n",
      "891/891 [==============================] - 0s 18us/step - loss: 0.4291 - acc: 0.8204\n",
      "Epoch 75/256\n",
      "891/891 [==============================] - 0s 19us/step - loss: 0.4286 - acc: 0.8204\n",
      "Epoch 76/256\n",
      "891/891 [==============================] - 0s 18us/step - loss: 0.4283 - acc: 0.8182\n",
      "Epoch 77/256\n",
      "891/891 [==============================] - 0s 19us/step - loss: 0.4277 - acc: 0.8182\n",
      "Epoch 78/256\n",
      "891/891 [==============================] - 0s 18us/step - loss: 0.4274 - acc: 0.8193\n",
      "Epoch 79/256\n",
      "891/891 [==============================] - 0s 19us/step - loss: 0.4270 - acc: 0.8204\n",
      "Epoch 80/256\n",
      "891/891 [==============================] - 0s 19us/step - loss: 0.4266 - acc: 0.8204\n",
      "Epoch 81/256\n",
      "891/891 [==============================] - 0s 17us/step - loss: 0.4262 - acc: 0.8204\n",
      "Epoch 82/256\n",
      "891/891 [==============================] - 0s 24us/step - loss: 0.4257 - acc: 0.8215\n",
      "Epoch 83/256\n",
      "891/891 [==============================] - 0s 19us/step - loss: 0.4254 - acc: 0.8215\n",
      "Epoch 84/256\n",
      "891/891 [==============================] - 0s 18us/step - loss: 0.4249 - acc: 0.8215\n",
      "Epoch 85/256\n",
      "891/891 [==============================] - 0s 19us/step - loss: 0.4245 - acc: 0.8215\n",
      "Epoch 86/256\n",
      "891/891 [==============================] - 0s 17us/step - loss: 0.4241 - acc: 0.8204\n",
      "Epoch 87/256\n",
      "891/891 [==============================] - 0s 18us/step - loss: 0.4237 - acc: 0.8204\n",
      "Epoch 88/256\n",
      "891/891 [==============================] - 0s 17us/step - loss: 0.4233 - acc: 0.8215\n",
      "Epoch 89/256\n",
      "891/891 [==============================] - 0s 19us/step - loss: 0.4229 - acc: 0.8215\n",
      "Epoch 90/256\n",
      "891/891 [==============================] - 0s 19us/step - loss: 0.4224 - acc: 0.8215\n",
      "Epoch 91/256\n",
      "891/891 [==============================] - 0s 18us/step - loss: 0.4219 - acc: 0.8204\n",
      "Epoch 92/256\n",
      "891/891 [==============================] - 0s 17us/step - loss: 0.4212 - acc: 0.8215\n",
      "Epoch 93/256\n",
      "891/891 [==============================] - 0s 19us/step - loss: 0.4207 - acc: 0.8227\n",
      "Epoch 94/256\n",
      "891/891 [==============================] - 0s 18us/step - loss: 0.4200 - acc: 0.8238\n",
      "Epoch 95/256\n",
      "891/891 [==============================] - 0s 18us/step - loss: 0.4193 - acc: 0.8238\n",
      "Epoch 96/256\n",
      "891/891 [==============================] - 0s 18us/step - loss: 0.4187 - acc: 0.8238\n",
      "Epoch 97/256\n",
      "891/891 [==============================] - 0s 18us/step - loss: 0.4182 - acc: 0.8238\n",
      "Epoch 98/256\n",
      "891/891 [==============================] - 0s 18us/step - loss: 0.4178 - acc: 0.8227\n",
      "Epoch 99/256\n",
      "891/891 [==============================] - 0s 19us/step - loss: 0.4174 - acc: 0.8238\n",
      "Epoch 100/256\n",
      "891/891 [==============================] - 0s 18us/step - loss: 0.4171 - acc: 0.8238\n",
      "Epoch 101/256\n",
      "891/891 [==============================] - 0s 18us/step - loss: 0.4167 - acc: 0.8238\n",
      "Epoch 102/256\n",
      "891/891 [==============================] - 0s 19us/step - loss: 0.4163 - acc: 0.8238\n",
      "Epoch 103/256\n",
      "891/891 [==============================] - 0s 19us/step - loss: 0.4160 - acc: 0.8249\n",
      "Epoch 104/256\n",
      "891/891 [==============================] - 0s 19us/step - loss: 0.4157 - acc: 0.8238\n",
      "Epoch 105/256\n",
      "891/891 [==============================] - 0s 18us/step - loss: 0.4154 - acc: 0.8249\n",
      "Epoch 106/256\n",
      "891/891 [==============================] - 0s 18us/step - loss: 0.4151 - acc: 0.8260\n",
      "Epoch 107/256\n",
      "891/891 [==============================] - 0s 19us/step - loss: 0.4149 - acc: 0.8249\n",
      "Epoch 108/256\n",
      "891/891 [==============================] - 0s 19us/step - loss: 0.4146 - acc: 0.8260\n",
      "Epoch 109/256\n",
      "891/891 [==============================] - 0s 17us/step - loss: 0.4143 - acc: 0.8260\n",
      "Epoch 110/256\n",
      "891/891 [==============================] - 0s 19us/step - loss: 0.4141 - acc: 0.8260\n",
      "Epoch 111/256\n",
      "891/891 [==============================] - 0s 19us/step - loss: 0.4138 - acc: 0.8260\n",
      "Epoch 112/256\n",
      "891/891 [==============================] - 0s 17us/step - loss: 0.4135 - acc: 0.8272\n",
      "Epoch 113/256\n",
      "891/891 [==============================] - 0s 18us/step - loss: 0.4133 - acc: 0.8249\n",
      "Epoch 114/256\n",
      "891/891 [==============================] - 0s 18us/step - loss: 0.4133 - acc: 0.8260\n",
      "Epoch 115/256\n",
      "891/891 [==============================] - 0s 19us/step - loss: 0.4129 - acc: 0.8260\n",
      "Epoch 116/256\n",
      "891/891 [==============================] - 0s 18us/step - loss: 0.4126 - acc: 0.8272\n",
      "Epoch 117/256\n",
      "891/891 [==============================] - 0s 19us/step - loss: 0.4124 - acc: 0.8260\n",
      "Epoch 118/256\n",
      "891/891 [==============================] - 0s 17us/step - loss: 0.4122 - acc: 0.8272\n",
      "Epoch 119/256\n",
      "891/891 [==============================] - 0s 18us/step - loss: 0.4120 - acc: 0.8272\n",
      "Epoch 120/256\n",
      "891/891 [==============================] - 0s 18us/step - loss: 0.4117 - acc: 0.8272\n",
      "Epoch 121/256\n",
      "891/891 [==============================] - 0s 17us/step - loss: 0.4116 - acc: 0.8272\n",
      "Epoch 122/256\n",
      "891/891 [==============================] - 0s 18us/step - loss: 0.4113 - acc: 0.8272\n",
      "Epoch 123/256\n",
      "891/891 [==============================] - 0s 18us/step - loss: 0.4112 - acc: 0.8272\n",
      "Epoch 124/256\n",
      "891/891 [==============================] - 0s 18us/step - loss: 0.4110 - acc: 0.8283\n",
      "Epoch 125/256\n",
      "891/891 [==============================] - 0s 18us/step - loss: 0.4109 - acc: 0.8283\n",
      "Epoch 126/256\n",
      "891/891 [==============================] - 0s 19us/step - loss: 0.4106 - acc: 0.8283\n",
      "Epoch 127/256\n",
      "891/891 [==============================] - 0s 18us/step - loss: 0.4104 - acc: 0.8283\n",
      "Epoch 128/256\n",
      "891/891 [==============================] - 0s 18us/step - loss: 0.4102 - acc: 0.8283\n",
      "Epoch 129/256\n",
      "891/891 [==============================] - 0s 18us/step - loss: 0.4100 - acc: 0.8283\n",
      "Epoch 130/256\n",
      "891/891 [==============================] - 0s 18us/step - loss: 0.4099 - acc: 0.8260\n",
      "Epoch 131/256\n",
      "891/891 [==============================] - 0s 18us/step - loss: 0.4096 - acc: 0.8283\n",
      "Epoch 132/256\n",
      "891/891 [==============================] - 0s 17us/step - loss: 0.4095 - acc: 0.8294\n",
      "Epoch 133/256\n",
      "891/891 [==============================] - 0s 18us/step - loss: 0.4093 - acc: 0.8294\n",
      "Epoch 134/256\n",
      "891/891 [==============================] - 0s 18us/step - loss: 0.4091 - acc: 0.8283\n",
      "Epoch 135/256\n",
      "891/891 [==============================] - 0s 19us/step - loss: 0.4089 - acc: 0.8283\n",
      "Epoch 136/256\n",
      "891/891 [==============================] - 0s 21us/step - loss: 0.4087 - acc: 0.8305\n",
      "Epoch 137/256\n",
      "891/891 [==============================] - 0s 18us/step - loss: 0.4086 - acc: 0.8283\n",
      "Epoch 138/256\n",
      "891/891 [==============================] - 0s 19us/step - loss: 0.4084 - acc: 0.8272\n",
      "Epoch 139/256\n",
      "891/891 [==============================] - 0s 18us/step - loss: 0.4082 - acc: 0.8272\n",
      "Epoch 140/256\n",
      "891/891 [==============================] - 0s 18us/step - loss: 0.4081 - acc: 0.8272\n",
      "Epoch 141/256\n",
      "891/891 [==============================] - 0s 19us/step - loss: 0.4079 - acc: 0.8272\n",
      "Epoch 142/256\n",
      "891/891 [==============================] - 0s 19us/step - loss: 0.4078 - acc: 0.8272\n",
      "Epoch 143/256\n",
      "891/891 [==============================] - 0s 21us/step - loss: 0.4075 - acc: 0.8283\n",
      "Epoch 144/256\n",
      "891/891 [==============================] - 0s 18us/step - loss: 0.4074 - acc: 0.8283\n",
      "Epoch 145/256\n",
      "891/891 [==============================] - 0s 19us/step - loss: 0.4073 - acc: 0.8305\n",
      "Epoch 146/256\n",
      "891/891 [==============================] - 0s 18us/step - loss: 0.4071 - acc: 0.8305\n",
      "Epoch 147/256\n",
      "891/891 [==============================] - 0s 18us/step - loss: 0.4069 - acc: 0.8294\n",
      "Epoch 148/256\n",
      "891/891 [==============================] - 0s 18us/step - loss: 0.4067 - acc: 0.8305\n",
      "Epoch 149/256\n",
      "891/891 [==============================] - 0s 18us/step - loss: 0.4066 - acc: 0.8316\n",
      "Epoch 150/256\n",
      "891/891 [==============================] - 0s 18us/step - loss: 0.4065 - acc: 0.8316\n",
      "Epoch 151/256\n",
      "891/891 [==============================] - 0s 19us/step - loss: 0.4062 - acc: 0.8316\n",
      "Epoch 152/256\n",
      "891/891 [==============================] - 0s 18us/step - loss: 0.4062 - acc: 0.8328\n",
      "Epoch 153/256\n",
      "891/891 [==============================] - 0s 17us/step - loss: 0.4058 - acc: 0.8316\n",
      "Epoch 154/256\n",
      "891/891 [==============================] - 0s 17us/step - loss: 0.4058 - acc: 0.8328\n",
      "Epoch 155/256\n",
      "891/891 [==============================] - 0s 17us/step - loss: 0.4055 - acc: 0.8328\n",
      "Epoch 156/256\n",
      "891/891 [==============================] - 0s 18us/step - loss: 0.4053 - acc: 0.8328\n",
      "Epoch 157/256\n",
      "891/891 [==============================] - 0s 19us/step - loss: 0.4051 - acc: 0.8328\n",
      "Epoch 158/256\n",
      "891/891 [==============================] - 0s 19us/step - loss: 0.4050 - acc: 0.8328\n",
      "Epoch 159/256\n",
      "891/891 [==============================] - 0s 18us/step - loss: 0.4049 - acc: 0.8328\n",
      "Epoch 160/256\n",
      "891/891 [==============================] - 0s 18us/step - loss: 0.4048 - acc: 0.8316\n",
      "Epoch 161/256\n",
      "891/891 [==============================] - 0s 17us/step - loss: 0.4046 - acc: 0.8316\n",
      "Epoch 162/256\n",
      "891/891 [==============================] - 0s 17us/step - loss: 0.4044 - acc: 0.8328\n",
      "Epoch 163/256\n",
      "891/891 [==============================] - 0s 18us/step - loss: 0.4044 - acc: 0.8339\n",
      "Epoch 164/256\n",
      "891/891 [==============================] - 0s 18us/step - loss: 0.4042 - acc: 0.8328\n",
      "Epoch 165/256\n",
      "891/891 [==============================] - 0s 19us/step - loss: 0.4041 - acc: 0.8328\n",
      "Epoch 166/256\n",
      "891/891 [==============================] - 0s 22us/step - loss: 0.4040 - acc: 0.8328\n",
      "Epoch 167/256\n",
      "891/891 [==============================] - 0s 21us/step - loss: 0.4039 - acc: 0.8339\n",
      "Epoch 168/256\n",
      "891/891 [==============================] - 0s 25us/step - loss: 0.4037 - acc: 0.8328\n",
      "Epoch 169/256\n",
      "891/891 [==============================] - 0s 20us/step - loss: 0.4037 - acc: 0.8339\n",
      "Epoch 170/256\n",
      "891/891 [==============================] - 0s 21us/step - loss: 0.4035 - acc: 0.8328\n",
      "Epoch 171/256\n",
      "891/891 [==============================] - 0s 21us/step - loss: 0.4033 - acc: 0.8350\n",
      "Epoch 172/256\n",
      "891/891 [==============================] - 0s 20us/step - loss: 0.4032 - acc: 0.8350\n",
      "Epoch 173/256\n",
      "891/891 [==============================] - 0s 21us/step - loss: 0.4031 - acc: 0.8350\n",
      "Epoch 174/256\n",
      "891/891 [==============================] - 0s 22us/step - loss: 0.4030 - acc: 0.8350\n",
      "Epoch 175/256\n",
      "891/891 [==============================] - 0s 22us/step - loss: 0.4029 - acc: 0.8339\n",
      "Epoch 176/256\n",
      "891/891 [==============================] - 0s 22us/step - loss: 0.4028 - acc: 0.8339\n",
      "Epoch 177/256\n",
      "891/891 [==============================] - 0s 21us/step - loss: 0.4027 - acc: 0.8339\n",
      "Epoch 178/256\n",
      "891/891 [==============================] - 0s 21us/step - loss: 0.4025 - acc: 0.8350\n",
      "Epoch 179/256\n",
      "891/891 [==============================] - 0s 24us/step - loss: 0.4024 - acc: 0.8339\n",
      "Epoch 180/256\n",
      "891/891 [==============================] - 0s 21us/step - loss: 0.4023 - acc: 0.8339\n",
      "Epoch 181/256\n",
      "891/891 [==============================] - 0s 22us/step - loss: 0.4022 - acc: 0.8328\n",
      "Epoch 182/256\n",
      "891/891 [==============================] - 0s 20us/step - loss: 0.4022 - acc: 0.8350\n",
      "Epoch 183/256\n",
      "891/891 [==============================] - 0s 21us/step - loss: 0.4021 - acc: 0.8350\n",
      "Epoch 184/256\n",
      "891/891 [==============================] - 0s 21us/step - loss: 0.4019 - acc: 0.8339\n",
      "Epoch 185/256\n",
      "891/891 [==============================] - 0s 24us/step - loss: 0.4019 - acc: 0.8350\n",
      "Epoch 186/256\n",
      "891/891 [==============================] - 0s 22us/step - loss: 0.4018 - acc: 0.8350\n",
      "Epoch 187/256\n",
      "891/891 [==============================] - 0s 21us/step - loss: 0.4016 - acc: 0.8350\n",
      "Epoch 188/256\n",
      "891/891 [==============================] - 0s 22us/step - loss: 0.4015 - acc: 0.8361\n",
      "Epoch 189/256\n",
      "891/891 [==============================] - 0s 21us/step - loss: 0.4015 - acc: 0.8350\n",
      "Epoch 190/256\n",
      "891/891 [==============================] - 0s 22us/step - loss: 0.4013 - acc: 0.8373\n",
      "Epoch 191/256\n",
      "891/891 [==============================] - 0s 22us/step - loss: 0.4012 - acc: 0.8361\n",
      "Epoch 192/256\n",
      "891/891 [==============================] - 0s 24us/step - loss: 0.4011 - acc: 0.8361\n",
      "Epoch 193/256\n",
      "891/891 [==============================] - 0s 21us/step - loss: 0.4012 - acc: 0.8339\n",
      "Epoch 194/256\n",
      "891/891 [==============================] - 0s 21us/step - loss: 0.4010 - acc: 0.8361\n",
      "Epoch 195/256\n",
      "891/891 [==============================] - 0s 26us/step - loss: 0.4009 - acc: 0.8373\n",
      "Epoch 196/256\n",
      "891/891 [==============================] - 0s 20us/step - loss: 0.4008 - acc: 0.8339\n",
      "Epoch 197/256\n",
      "891/891 [==============================] - 0s 22us/step - loss: 0.4007 - acc: 0.8350\n",
      "Epoch 198/256\n",
      "891/891 [==============================] - 0s 25us/step - loss: 0.4006 - acc: 0.8361\n",
      "Epoch 199/256\n",
      "891/891 [==============================] - 0s 24us/step - loss: 0.4005 - acc: 0.8384\n",
      "Epoch 200/256\n",
      "891/891 [==============================] - 0s 25us/step - loss: 0.4004 - acc: 0.8384\n",
      "Epoch 201/256\n",
      "891/891 [==============================] - 0s 27us/step - loss: 0.4005 - acc: 0.8384\n",
      "Epoch 202/256\n",
      "891/891 [==============================] - 0s 22us/step - loss: 0.4004 - acc: 0.8384\n",
      "Epoch 203/256\n",
      "891/891 [==============================] - 0s 25us/step - loss: 0.4003 - acc: 0.8384\n",
      "Epoch 204/256\n",
      "891/891 [==============================] - 0s 24us/step - loss: 0.4003 - acc: 0.8350\n",
      "Epoch 205/256\n",
      "891/891 [==============================] - 0s 21us/step - loss: 0.4001 - acc: 0.8350\n",
      "Epoch 206/256\n",
      "891/891 [==============================] - 0s 25us/step - loss: 0.4001 - acc: 0.8373\n",
      "Epoch 207/256\n",
      "891/891 [==============================] - 0s 25us/step - loss: 0.4000 - acc: 0.8373\n",
      "Epoch 208/256\n",
      "891/891 [==============================] - 0s 26us/step - loss: 0.4001 - acc: 0.8373\n",
      "Epoch 209/256\n",
      "891/891 [==============================] - 0s 24us/step - loss: 0.4000 - acc: 0.8373\n",
      "Epoch 210/256\n",
      "891/891 [==============================] - 0s 22us/step - loss: 0.3999 - acc: 0.8373\n",
      "Epoch 211/256\n",
      "891/891 [==============================] - 0s 22us/step - loss: 0.3998 - acc: 0.8373\n",
      "Epoch 212/256\n",
      "891/891 [==============================] - 0s 25us/step - loss: 0.3998 - acc: 0.8373\n",
      "Epoch 213/256\n",
      "891/891 [==============================] - 0s 21us/step - loss: 0.3997 - acc: 0.8361\n",
      "Epoch 214/256\n",
      "891/891 [==============================] - 0s 22us/step - loss: 0.3996 - acc: 0.8361\n",
      "Epoch 215/256\n",
      "891/891 [==============================] - 0s 20us/step - loss: 0.3996 - acc: 0.8384\n",
      "Epoch 216/256\n",
      "891/891 [==============================] - 0s 22us/step - loss: 0.3996 - acc: 0.8361\n",
      "Epoch 217/256\n",
      "891/891 [==============================] - 0s 22us/step - loss: 0.3995 - acc: 0.8361\n",
      "Epoch 218/256\n",
      "891/891 [==============================] - 0s 25us/step - loss: 0.3996 - acc: 0.8384\n",
      "Epoch 219/256\n",
      "891/891 [==============================] - 0s 25us/step - loss: 0.3994 - acc: 0.8384\n",
      "Epoch 220/256\n",
      "891/891 [==============================] - 0s 22us/step - loss: 0.3993 - acc: 0.8384\n",
      "Epoch 221/256\n",
      "891/891 [==============================] - 0s 25us/step - loss: 0.3993 - acc: 0.8384\n",
      "Epoch 222/256\n",
      "891/891 [==============================] - 0s 24us/step - loss: 0.3992 - acc: 0.8384\n",
      "Epoch 223/256\n",
      "891/891 [==============================] - 0s 24us/step - loss: 0.3992 - acc: 0.8373\n",
      "Epoch 224/256\n",
      "891/891 [==============================] - 0s 24us/step - loss: 0.3992 - acc: 0.8373\n",
      "Epoch 225/256\n",
      "891/891 [==============================] - 0s 25us/step - loss: 0.3991 - acc: 0.8373\n",
      "Epoch 226/256\n",
      "891/891 [==============================] - 0s 22us/step - loss: 0.3991 - acc: 0.8373\n",
      "Epoch 227/256\n",
      "891/891 [==============================] - 0s 22us/step - loss: 0.3990 - acc: 0.8384\n",
      "Epoch 228/256\n",
      "891/891 [==============================] - 0s 26us/step - loss: 0.3989 - acc: 0.8373\n",
      "Epoch 229/256\n",
      "891/891 [==============================] - 0s 22us/step - loss: 0.3989 - acc: 0.8373\n",
      "Epoch 230/256\n",
      "891/891 [==============================] - 0s 26us/step - loss: 0.3988 - acc: 0.8373\n",
      "Epoch 231/256\n",
      "891/891 [==============================] - 0s 26us/step - loss: 0.3988 - acc: 0.8361\n",
      "Epoch 232/256\n",
      "891/891 [==============================] - 0s 20us/step - loss: 0.3988 - acc: 0.8361\n",
      "Epoch 233/256\n",
      "891/891 [==============================] - 0s 26us/step - loss: 0.3988 - acc: 0.8339\n",
      "Epoch 234/256\n",
      "891/891 [==============================] - 0s 24us/step - loss: 0.3986 - acc: 0.8361\n",
      "Epoch 235/256\n",
      "891/891 [==============================] - 0s 22us/step - loss: 0.3987 - acc: 0.8373\n",
      "Epoch 236/256\n",
      "891/891 [==============================] - 0s 24us/step - loss: 0.3986 - acc: 0.8373\n",
      "Epoch 237/256\n",
      "891/891 [==============================] - 0s 22us/step - loss: 0.3985 - acc: 0.8373\n",
      "Epoch 238/256\n",
      "891/891 [==============================] - 0s 24us/step - loss: 0.3985 - acc: 0.8373\n",
      "Epoch 239/256\n",
      "891/891 [==============================] - 0s 26us/step - loss: 0.3985 - acc: 0.8373\n",
      "Epoch 240/256\n",
      "891/891 [==============================] - 0s 26us/step - loss: 0.3985 - acc: 0.8373\n",
      "Epoch 241/256\n",
      "891/891 [==============================] - 0s 24us/step - loss: 0.3984 - acc: 0.8373\n",
      "Epoch 242/256\n",
      "891/891 [==============================] - 0s 20us/step - loss: 0.3984 - acc: 0.8373\n",
      "Epoch 243/256\n",
      "891/891 [==============================] - 0s 24us/step - loss: 0.3982 - acc: 0.8373\n",
      "Epoch 244/256\n",
      "891/891 [==============================] - 0s 27us/step - loss: 0.3983 - acc: 0.8373\n",
      "Epoch 245/256\n",
      "891/891 [==============================] - 0s 25us/step - loss: 0.3982 - acc: 0.8373\n",
      "Epoch 246/256\n",
      "891/891 [==============================] - 0s 27us/step - loss: 0.3982 - acc: 0.8373\n",
      "Epoch 247/256\n",
      "891/891 [==============================] - 0s 24us/step - loss: 0.3982 - acc: 0.8373\n",
      "Epoch 248/256\n",
      "891/891 [==============================] - 0s 24us/step - loss: 0.3981 - acc: 0.8373\n",
      "Epoch 249/256\n",
      "891/891 [==============================] - 0s 19us/step - loss: 0.3981 - acc: 0.8373\n",
      "Epoch 250/256\n",
      "891/891 [==============================] - 0s 19us/step - loss: 0.3981 - acc: 0.8384\n",
      "Epoch 251/256\n",
      "891/891 [==============================] - 0s 21us/step - loss: 0.3981 - acc: 0.8384\n",
      "Epoch 252/256\n",
      "891/891 [==============================] - 0s 19us/step - loss: 0.3979 - acc: 0.8384\n",
      "Epoch 253/256\n",
      "891/891 [==============================] - 0s 25us/step - loss: 0.3980 - acc: 0.8373\n",
      "Epoch 254/256\n",
      "891/891 [==============================] - 0s 25us/step - loss: 0.3979 - acc: 0.8384\n",
      "Epoch 255/256\n",
      "891/891 [==============================] - ETA: 0s - loss: 0.3964 - acc: 0.867 - 0s 24us/step - loss: 0.3979 - acc: 0.8373\n",
      "Epoch 256/256\n",
      "891/891 [==============================] - 0s 25us/step - loss: 0.3978 - acc: 0.8373\n"
     ]
    },
    {
     "data": {
      "text/plain": [
       "<keras.callbacks.History at 0x1427d161ec8>"
      ]
     },
     "execution_count": 28,
     "metadata": {},
     "output_type": "execute_result"
    }
   ],
   "source": [
    "# Fitting the data to the training dataset\n",
    "classifier.fit(X_train, y_train, batch_size=128, epochs=256)"
   ]
  },
  {
   "cell_type": "code",
   "execution_count": 29,
   "metadata": {},
   "outputs": [
    {
     "name": "stdout",
     "output_type": "stream",
     "text": [
      "891/891 [==============================] - 0s 66us/step\n"
     ]
    },
    {
     "data": {
      "text/plain": [
       "[0.3976577958876035, 0.8383838390528019]"
      ]
     },
     "execution_count": 29,
     "metadata": {},
     "output_type": "execute_result"
    }
   ],
   "source": [
    "eval_model=classifier.evaluate(X_train, y_train)\n",
    "eval_model"
   ]
  },
  {
   "cell_type": "code",
   "execution_count": 30,
   "metadata": {},
   "outputs": [
    {
     "data": {
      "image/png": "[encoded data removed]",
      "text/plain": [
       "<Figure size 432x288 with 1 Axes>"
      ]
     },
     "metadata": {
      "needs_background": "light"
     },
     "output_type": "display_data"
    }
   ],
   "source": [
    "plt.plot(classifier.history.history['acc'])\n",
    "#plt.plot(classifier.history.history['val_acc'])\n",
    "plt.title('Model accuracy')\n",
    "plt.ylabel('Accuracy')\n",
    "plt.xlabel('Epoch')\n",
    "plt.legend(['Train', 'Test'], loc='upper left')\n",
    "plt.show()"
   ]
  },
  {
   "cell_type": "markdown",
   "metadata": {},
   "source": [
    "Importing testing set and making it look like the training set."
   ]
  },
  {
   "cell_type": "code",
   "execution_count": 31,
   "metadata": {},
   "outputs": [],
   "source": [
    "X_test = pd.read_csv('data/test.csv')\n",
    "X_test['Age'] = X_test[['Age','Sex','Pclass']].apply(age_imputation,axis=1)\n",
    "X_test['Sex'] = X_test['Sex'].apply(lambda x: gender(x))\n",
    "X_test['S'] = X_test['Embarked'].apply(lambda x: southampton(x))\n",
    "X_test['Q'] = X_test['Embarked'].apply(lambda x: queenstown(x))\n",
    "X_test['Title'] = X_test['Name'].apply(lambda x: x.split(', ')[1].split('.')[0].strip())\n",
    "X_test['Title'] = X_test['Title'].apply(lambda x: title_cat(x))\n",
    "X_test.drop(['Cabin', 'PassengerId', 'Name', 'Ticket', 'Embarked'], axis=1, inplace=True)"
   ]
  },
  {
   "cell_type": "code",
   "execution_count": 32,
   "metadata": {},
   "outputs": [
    {
     "data": {
      "text/plain": [
       "array([[ 0.87348191,  0.75592895,  0.39578146, ..., -1.35067551,\n",
       "         2.84375747, -0.79653256],\n",
       "       [ 0.87348191, -1.32287566,  1.36279485, ...,  0.74037028,\n",
       "        -0.35164743,  0.82761676],\n",
       "       [-0.31581919,  0.75592895,  2.52321092, ..., -1.35067551,\n",
       "         2.84375747, -0.79653256],\n",
       "       ...,\n",
       "       [ 0.87348191,  0.75592895,  0.70522575, ...,  0.74037028,\n",
       "        -0.35164743, -0.79653256],\n",
       "       [ 0.87348191,  0.75592895, -0.33914872, ...,  0.74037028,\n",
       "        -0.35164743, -0.79653256],\n",
       "       [ 0.87348191,  0.75592895, -0.33914872, ..., -1.35067551,\n",
       "        -0.35164743,  2.45176608]])"
      ]
     },
     "execution_count": 32,
     "metadata": {},
     "output_type": "execute_result"
    }
   ],
   "source": [
    "sc_test = StandardScaler()\n",
    "X_test = sc_test.fit_transform(X_test)\n",
    "X_test"
   ]
  },
  {
   "cell_type": "code",
   "execution_count": 33,
   "metadata": {},
   "outputs": [],
   "source": [
    "y_test = pd.read_csv('data/gender_submission.csv')\n",
    "y_test.drop(['PassengerId'],axis=1,inplace=True)"
   ]
  },
  {
   "cell_type": "markdown",
   "metadata": {},
   "source": [
    "Using model to predict values."
   ]
  },
  {
   "cell_type": "code",
   "execution_count": 34,
   "metadata": {},
   "outputs": [],
   "source": [
    "y_pred = classifier.predict(X_test)\n",
    "y_pred = y_pred > 0.5"
   ]
  },
  {
   "cell_type": "markdown",
   "metadata": {},
   "source": [
    "Confusion matrix and ROC curve for model accuracy."
   ]
  },
  {
   "cell_type": "code",
   "execution_count": 35,
   "metadata": {},
   "outputs": [],
   "source": [
    "from sklearn.metrics import confusion_matrix\n",
    "cm = confusion_matrix(y_test, y_pred)"
   ]
  },
  {
   "cell_type": "code",
   "execution_count": 36,
   "metadata": {},
   "outputs": [
    {
     "data": {
      "image/png": "[encoded data removed]",
      "text/plain": [
       "<Figure size 576x432 with 2 Axes>"
      ]
     },
     "metadata": {
      "needs_background": "light"
     },
     "output_type": "display_data"
    }
   ],
   "source": [
    "from plotting import plot_confusion_matrix\n",
    "plot_confusion_matrix(cm, ['Died', 'Survived'])"
   ]
  },
  {
   "cell_type": "code",
   "execution_count": 37,
   "metadata": {},
   "outputs": [],
   "source": [
    "from sklearn.metrics import roc_curve\n",
    "fpr, tpr, thresholds = roc_curve(y_test, y_pred)"
   ]
  },
  {
   "cell_type": "code",
   "execution_count": 38,
   "metadata": {},
   "outputs": [
    {
     "data": {
      "image/png": "[encoded data removed]",
      "text/plain": [
       "<Figure size 432x288 with 1 Axes>"
      ]
     },
     "metadata": {
      "needs_background": "light"
     },
     "output_type": "display_data"
    }
   ],
   "source": [
    "plt.plot(fpr,tpr)\n",
    "plt.xlabel('False positive rate')\n",
    "plt.ylabel('True positive rate')\n",
    "plt.title('ROC curve')\n",
    "plt.show()"
   ]
  },
  {
   "cell_type": "code",
   "execution_count": 39,
   "metadata": {},
   "outputs": [
    {
     "data": {
      "text/plain": [
       "0.8839285714285714"
      ]
     },
     "execution_count": 39,
     "metadata": {},
     "output_type": "execute_result"
    }
   ],
   "source": [
    "from sklearn.metrics import roc_auc_score\n",
    "roc_auc_score(y_test, y_pred)"
   ]
  },
  {
   "cell_type": "markdown",
   "metadata": {},
   "source": [
    "___"
   ]
  }
 ],
 "metadata": {
  "kernelspec": {
   "display_name": "gputest",
   "language": "python",
   "name": "gputest"
  },
  "language_info": {
   "codemirror_mode": {
    "name": "ipython",
    "version": 3
   },
   "file_extension": ".py",
   "mimetype": "text/x-python",
   "name": "python",
   "nbconvert_exporter": "python",
   "pygments_lexer": "ipython3",
   "version": "3.7.4"
  }
 },
 "nbformat": 4,
 "nbformat_minor": 4
}
