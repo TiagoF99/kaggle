{
 "cells": [
  {
   "cell_type": "code",
   "execution_count": 1,
   "metadata": {},
   "outputs": [],
   "source": [
    "import numpy as np\n",
    "import pandas as pd\n",
    "\n",
    "import matplotlib.pyplot as plt\n",
    "import seaborn as sns\n",
    "sns.set_style('whitegrid')\n",
    "\n",
    "%matplotlib inline"
   ]
  },
  {
   "cell_type": "code",
   "execution_count": 2,
   "metadata": {},
   "outputs": [],
   "source": [
    "train = pd.read_csv('data/train.csv')"
   ]
  },
  {
   "cell_type": "markdown",
   "metadata": {},
   "source": [
    "### Exploratory Data Analysis\n",
    "Data Exploration and Cleaning - Adesh"
   ]
  },
  {
   "cell_type": "code",
   "execution_count": 3,
   "metadata": {},
   "outputs": [
    {
     "data": {
      "text/html": [
       "<div>\n",
       "<style scoped>\n",
       "    .dataframe tbody tr th:only-of-type {\n",
       "        vertical-align: middle;\n",
       "    }\n",
       "\n",
       "    .dataframe tbody tr th {\n",
       "        vertical-align: top;\n",
       "    }\n",
       "\n",
       "    .dataframe thead th {\n",
       "        text-align: right;\n",
       "    }\n",
       "</style>\n",
       "<table border=\"1\" class=\"dataframe\">\n",
       "  <thead>\n",
       "    <tr style=\"text-align: right;\">\n",
       "      <th></th>\n",
       "      <th>PassengerId</th>\n",
       "      <th>Survived</th>\n",
       "      <th>Pclass</th>\n",
       "      <th>Name</th>\n",
       "      <th>Sex</th>\n",
       "      <th>Age</th>\n",
       "      <th>SibSp</th>\n",
       "      <th>Parch</th>\n",
       "      <th>Ticket</th>\n",
       "      <th>Fare</th>\n",
       "      <th>Cabin</th>\n",
       "      <th>Embarked</th>\n",
       "    </tr>\n",
       "  </thead>\n",
       "  <tbody>\n",
       "    <tr>\n",
       "      <th>0</th>\n",
       "      <td>1</td>\n",
       "      <td>0</td>\n",
       "      <td>3</td>\n",
       "      <td>Braund, Mr. Owen Harris</td>\n",
       "      <td>male</td>\n",
       "      <td>22.0</td>\n",
       "      <td>1</td>\n",
       "      <td>0</td>\n",
       "      <td>A/5 21171</td>\n",
       "      <td>7.2500</td>\n",
       "      <td>NaN</td>\n",
       "      <td>S</td>\n",
       "    </tr>\n",
       "    <tr>\n",
       "      <th>1</th>\n",
       "      <td>2</td>\n",
       "      <td>1</td>\n",
       "      <td>1</td>\n",
       "      <td>Cumings, Mrs. John Bradley (Florence Briggs Th...</td>\n",
       "      <td>female</td>\n",
       "      <td>38.0</td>\n",
       "      <td>1</td>\n",
       "      <td>0</td>\n",
       "      <td>PC 17599</td>\n",
       "      <td>71.2833</td>\n",
       "      <td>C85</td>\n",
       "      <td>C</td>\n",
       "    </tr>\n",
       "    <tr>\n",
       "      <th>2</th>\n",
       "      <td>3</td>\n",
       "      <td>1</td>\n",
       "      <td>3</td>\n",
       "      <td>Heikkinen, Miss. Laina</td>\n",
       "      <td>female</td>\n",
       "      <td>26.0</td>\n",
       "      <td>0</td>\n",
       "      <td>0</td>\n",
       "      <td>STON/O2. 3101282</td>\n",
       "      <td>7.9250</td>\n",
       "      <td>NaN</td>\n",
       "      <td>S</td>\n",
       "    </tr>\n",
       "    <tr>\n",
       "      <th>3</th>\n",
       "      <td>4</td>\n",
       "      <td>1</td>\n",
       "      <td>1</td>\n",
       "      <td>Futrelle, Mrs. Jacques Heath (Lily May Peel)</td>\n",
       "      <td>female</td>\n",
       "      <td>35.0</td>\n",
       "      <td>1</td>\n",
       "      <td>0</td>\n",
       "      <td>113803</td>\n",
       "      <td>53.1000</td>\n",
       "      <td>C123</td>\n",
       "      <td>S</td>\n",
       "    </tr>\n",
       "    <tr>\n",
       "      <th>4</th>\n",
       "      <td>5</td>\n",
       "      <td>0</td>\n",
       "      <td>3</td>\n",
       "      <td>Allen, Mr. William Henry</td>\n",
       "      <td>male</td>\n",
       "      <td>35.0</td>\n",
       "      <td>0</td>\n",
       "      <td>0</td>\n",
       "      <td>373450</td>\n",
       "      <td>8.0500</td>\n",
       "      <td>NaN</td>\n",
       "      <td>S</td>\n",
       "    </tr>\n",
       "  </tbody>\n",
       "</table>\n",
       "</div>"
      ],
      "text/plain": [
       "   PassengerId  Survived  Pclass  \\\n",
       "0            1         0       3   \n",
       "1            2         1       1   \n",
       "2            3         1       3   \n",
       "3            4         1       1   \n",
       "4            5         0       3   \n",
       "\n",
       "                                                Name     Sex   Age  SibSp  \\\n",
       "0                            Braund, Mr. Owen Harris    male  22.0      1   \n",
       "1  Cumings, Mrs. John Bradley (Florence Briggs Th...  female  38.0      1   \n",
       "2                             Heikkinen, Miss. Laina  female  26.0      0   \n",
       "3       Futrelle, Mrs. Jacques Heath (Lily May Peel)  female  35.0      1   \n",
       "4                           Allen, Mr. William Henry    male  35.0      0   \n",
       "\n",
       "   Parch            Ticket     Fare Cabin Embarked  \n",
       "0      0         A/5 21171   7.2500   NaN        S  \n",
       "1      0          PC 17599  71.2833   C85        C  \n",
       "2      0  STON/O2. 3101282   7.9250   NaN        S  \n",
       "3      0            113803  53.1000  C123        S  \n",
       "4      0            373450   8.0500   NaN        S  "
      ]
     },
     "execution_count": 3,
     "metadata": {},
     "output_type": "execute_result"
    }
   ],
   "source": [
    "train.head(5)"
   ]
  },
  {
   "cell_type": "markdown",
   "metadata": {},
   "source": [
    "Feature Breakdown:\n",
    "\n",
    "- Categorical: Survived, Pclass, Sex, Embarked\n",
    "- Numerical: Age, Fare, SibSp, Parch\n",
    "- Mixed: Name, Ticket, Cabin"
   ]
  },
  {
   "cell_type": "code",
   "execution_count": 4,
   "metadata": {},
   "outputs": [
    {
     "data": {
      "text/html": [
       "<div>\n",
       "<style scoped>\n",
       "    .dataframe tbody tr th:only-of-type {\n",
       "        vertical-align: middle;\n",
       "    }\n",
       "\n",
       "    .dataframe tbody tr th {\n",
       "        vertical-align: top;\n",
       "    }\n",
       "\n",
       "    .dataframe thead th {\n",
       "        text-align: right;\n",
       "    }\n",
       "</style>\n",
       "<table border=\"1\" class=\"dataframe\">\n",
       "  <thead>\n",
       "    <tr style=\"text-align: right;\">\n",
       "      <th></th>\n",
       "      <th>PassengerId</th>\n",
       "      <th>Survived</th>\n",
       "      <th>Pclass</th>\n",
       "      <th>Age</th>\n",
       "      <th>SibSp</th>\n",
       "      <th>Parch</th>\n",
       "      <th>Fare</th>\n",
       "    </tr>\n",
       "  </thead>\n",
       "  <tbody>\n",
       "    <tr>\n",
       "      <th>count</th>\n",
       "      <td>891.000000</td>\n",
       "      <td>891.000000</td>\n",
       "      <td>891.000000</td>\n",
       "      <td>714.000000</td>\n",
       "      <td>891.000000</td>\n",
       "      <td>891.000000</td>\n",
       "      <td>891.000000</td>\n",
       "    </tr>\n",
       "    <tr>\n",
       "      <th>mean</th>\n",
       "      <td>446.000000</td>\n",
       "      <td>0.383838</td>\n",
       "      <td>2.308642</td>\n",
       "      <td>29.699118</td>\n",
       "      <td>0.523008</td>\n",
       "      <td>0.381594</td>\n",
       "      <td>32.204208</td>\n",
       "    </tr>\n",
       "    <tr>\n",
       "      <th>std</th>\n",
       "      <td>257.353842</td>\n",
       "      <td>0.486592</td>\n",
       "      <td>0.836071</td>\n",
       "      <td>14.526497</td>\n",
       "      <td>1.102743</td>\n",
       "      <td>0.806057</td>\n",
       "      <td>49.693429</td>\n",
       "    </tr>\n",
       "    <tr>\n",
       "      <th>min</th>\n",
       "      <td>1.000000</td>\n",
       "      <td>0.000000</td>\n",
       "      <td>1.000000</td>\n",
       "      <td>0.420000</td>\n",
       "      <td>0.000000</td>\n",
       "      <td>0.000000</td>\n",
       "      <td>0.000000</td>\n",
       "    </tr>\n",
       "    <tr>\n",
       "      <th>25%</th>\n",
       "      <td>223.500000</td>\n",
       "      <td>0.000000</td>\n",
       "      <td>2.000000</td>\n",
       "      <td>20.125000</td>\n",
       "      <td>0.000000</td>\n",
       "      <td>0.000000</td>\n",
       "      <td>7.910400</td>\n",
       "    </tr>\n",
       "    <tr>\n",
       "      <th>50%</th>\n",
       "      <td>446.000000</td>\n",
       "      <td>0.000000</td>\n",
       "      <td>3.000000</td>\n",
       "      <td>28.000000</td>\n",
       "      <td>0.000000</td>\n",
       "      <td>0.000000</td>\n",
       "      <td>14.454200</td>\n",
       "    </tr>\n",
       "    <tr>\n",
       "      <th>75%</th>\n",
       "      <td>668.500000</td>\n",
       "      <td>1.000000</td>\n",
       "      <td>3.000000</td>\n",
       "      <td>38.000000</td>\n",
       "      <td>1.000000</td>\n",
       "      <td>0.000000</td>\n",
       "      <td>31.000000</td>\n",
       "    </tr>\n",
       "    <tr>\n",
       "      <th>max</th>\n",
       "      <td>891.000000</td>\n",
       "      <td>1.000000</td>\n",
       "      <td>3.000000</td>\n",
       "      <td>80.000000</td>\n",
       "      <td>8.000000</td>\n",
       "      <td>6.000000</td>\n",
       "      <td>512.329200</td>\n",
       "    </tr>\n",
       "  </tbody>\n",
       "</table>\n",
       "</div>"
      ],
      "text/plain": [
       "       PassengerId    Survived      Pclass         Age       SibSp  \\\n",
       "count   891.000000  891.000000  891.000000  714.000000  891.000000   \n",
       "mean    446.000000    0.383838    2.308642   29.699118    0.523008   \n",
       "std     257.353842    0.486592    0.836071   14.526497    1.102743   \n",
       "min       1.000000    0.000000    1.000000    0.420000    0.000000   \n",
       "25%     223.500000    0.000000    2.000000   20.125000    0.000000   \n",
       "50%     446.000000    0.000000    3.000000   28.000000    0.000000   \n",
       "75%     668.500000    1.000000    3.000000   38.000000    1.000000   \n",
       "max     891.000000    1.000000    3.000000   80.000000    8.000000   \n",
       "\n",
       "            Parch        Fare  \n",
       "count  891.000000  891.000000  \n",
       "mean     0.381594   32.204208  \n",
       "std      0.806057   49.693429  \n",
       "min      0.000000    0.000000  \n",
       "25%      0.000000    7.910400  \n",
       "50%      0.000000   14.454200  \n",
       "75%      0.000000   31.000000  \n",
       "max      6.000000  512.329200  "
      ]
     },
     "execution_count": 4,
     "metadata": {},
     "output_type": "execute_result"
    }
   ],
   "source": [
    "train.describe()"
   ]
  },
  {
   "cell_type": "code",
   "execution_count": 5,
   "metadata": {},
   "outputs": [
    {
     "data": {
      "text/plain": [
       "<matplotlib.axes._subplots.AxesSubplot at 0x2b17e154b48>"
      ]
     },
     "execution_count": 5,
     "metadata": {},
     "output_type": "execute_result"
    },
    {
     "data": {
      "image/png": "[encoded data removed]",
      "text/plain": [
       "<Figure size 432x288 with 1 Axes>"
      ]
     },
     "metadata": {
      "needs_background": "light"
     },
     "output_type": "display_data"
    }
   ],
   "source": [
    "sns.heatmap(train.isnull(), cbar=False)"
   ]
  },
  {
   "cell_type": "markdown",
   "metadata": {},
   "source": [
    "Assumptions:\n",
    "- `passengerId` has no influence on the data -> drop\n",
    "- `Cabin` is missing most of its values and therefore cannot be imputed -> drop\n",
    "- `Ticket` is alphanumerical (difficult to work with) and 23% of values aren't unique -> drop?\n",
    "- `Name` is a mixture of names and titles, seemingly doesn't affect survival -> drop?"
   ]
  },
  {
   "cell_type": "code",
   "execution_count": 6,
   "metadata": {},
   "outputs": [
    {
     "data": {
      "text/plain": [
       "<matplotlib.axes._subplots.AxesSubplot at 0x2b17f5a38c8>"
      ]
     },
     "execution_count": 6,
     "metadata": {},
     "output_type": "execute_result"
    },
    {
     "data": {
      "image/png": "[encoded data removed]",
      "text/plain": [
       "<Figure size 432x288 with 1 Axes>"
      ]
     },
     "metadata": {
      "needs_background": "light"
     },
     "output_type": "display_data"
    }
   ],
   "source": [
    "train['Age'].hist(bins=30)"
   ]
  },
  {
   "cell_type": "code",
   "execution_count": 7,
   "metadata": {},
   "outputs": [
    {
     "data": {
      "text/plain": [
       "<matplotlib.axes._subplots.AxesSubplot at 0x2b17f5df748>"
      ]
     },
     "execution_count": 7,
     "metadata": {},
     "output_type": "execute_result"
    },
    {
     "data": {
      "image/png": "[encoded data removed]",
      "text/plain": [
       "<Figure size 432x288 with 1 Axes>"
      ]
     },
     "metadata": {
      "needs_background": "light"
     },
     "output_type": "display_data"
    }
   ],
   "source": [
    "sns.countplot(x='Survived', data=train, hue='Sex')"
   ]
  },
  {
   "cell_type": "code",
   "execution_count": 8,
   "metadata": {},
   "outputs": [
    {
     "data": {
      "text/plain": [
       "<matplotlib.axes._subplots.AxesSubplot at 0x2b17f702808>"
      ]
     },
     "execution_count": 8,
     "metadata": {},
     "output_type": "execute_result"
    },
    {
     "data": {
      "image/png": "[encoded data removed]",
      "text/plain": [
       "<Figure size 432x288 with 1 Axes>"
      ]
     },
     "metadata": {
      "needs_background": "light"
     },
     "output_type": "display_data"
    }
   ],
   "source": [
    "sns.countplot(x='Survived', data=train, hue='Embarked')"
   ]
  },
  {
   "cell_type": "code",
   "execution_count": 9,
   "metadata": {},
   "outputs": [
    {
     "data": {
      "text/plain": [
       "<matplotlib.axes._subplots.AxesSubplot at 0x2b17f6483c8>"
      ]
     },
     "execution_count": 9,
     "metadata": {},
     "output_type": "execute_result"
    },
    {
     "data": {
      "image/png": "[encoded data removed]",
      "text/plain": [
       "<Figure size 864x432 with 1 Axes>"
      ]
     },
     "metadata": {
      "needs_background": "light"
     },
     "output_type": "display_data"
    }
   ],
   "source": [
    "plt.figure(figsize=(12, 6))\n",
    "sns.boxplot(x='Pclass', y='Age', hue='Sex', data=train)"
   ]
  },
  {
   "cell_type": "code",
   "execution_count": 10,
   "metadata": {},
   "outputs": [
    {
     "data": {
      "text/plain": [
       "['35.0', '40.0', '28.0', '30.0', '21.5', '25.0']"
      ]
     },
     "execution_count": 10,
     "metadata": {},
     "output_type": "execute_result"
    }
   ],
   "source": [
    "medians = train.groupby(['Pclass','Sex'])['Age'].median().values\n",
    "medians = [str(np.round(s, 2)) for s in medians]\n",
    "medians"
   ]
  },
  {
   "cell_type": "markdown",
   "metadata": {},
   "source": [
    " - `age_imputation` imputes the age of a passenger with the median value for their respective Pclass and Sex.\n",
    " - `gender` hot encodes male (1) / female (0).\n",
    " - `southampton` and `queenstown` hot encodes the port of embarking."
   ]
  },
  {
   "cell_type": "code",
   "execution_count": 11,
   "metadata": {},
   "outputs": [],
   "source": [
    "def age_imputation (cols):\n",
    "    Age = cols[0]\n",
    "    Sex = cols[1]\n",
    "    Pclass = cols[2]\n",
    "    \n",
    "    if pd.isnull(Age):\n",
    "        if Pclass == 1 and Sex == 'male':\n",
    "            return 40\n",
    "        elif Pclass == 1 and Sex == 'female':\n",
    "            return 35\n",
    "        elif Pclass == 2 and Sex == 'male':\n",
    "            return 30\n",
    "        elif Pclass == 2 and Sex == 'female':\n",
    "            return 28\n",
    "        elif Pclass == 3 and Sex == 'male':\n",
    "            return 25\n",
    "        elif Pclass == 3 and Sex == 'female':\n",
    "            return 22\n",
    "    else:\n",
    "        return Age"
   ]
  },
  {
   "cell_type": "code",
   "execution_count": 12,
   "metadata": {},
   "outputs": [],
   "source": [
    "def gender (val):\n",
    "    if val == 'male':\n",
    "        return 1\n",
    "    else:\n",
    "        return 0"
   ]
  },
  {
   "cell_type": "code",
   "execution_count": 13,
   "metadata": {},
   "outputs": [],
   "source": [
    "def southampton (col):\n",
    "    Embarked = col\n",
    "    \n",
    "    if Embarked == 'S':\n",
    "        return 1\n",
    "    else:\n",
    "        return 0\n",
    "\n",
    "def queenstown (col):\n",
    "    Embarked = col\n",
    "    \n",
    "    if Embarked == 'Q':\n",
    "        return 1\n",
    "    else:\n",
    "        return 0"
   ]
  },
  {
   "cell_type": "code",
   "execution_count": 14,
   "metadata": {},
   "outputs": [],
   "source": [
    "train['Age'] = train[['Age','Sex','Pclass']].apply(age_imputation,axis=1)"
   ]
  },
  {
   "cell_type": "code",
   "execution_count": 15,
   "metadata": {},
   "outputs": [],
   "source": [
    "train['Sex'] = train['Sex'].apply(lambda x: gender(x))"
   ]
  },
  {
   "cell_type": "code",
   "execution_count": 16,
   "metadata": {},
   "outputs": [],
   "source": [
    "train['S'] = train['Embarked'].apply(lambda x: southampton(x))\n",
    "train['Q'] = train['Embarked'].apply(lambda x: queenstown(x))"
   ]
  },
  {
   "cell_type": "code",
   "execution_count": 17,
   "metadata": {},
   "outputs": [],
   "source": [
    "train.drop(['Cabin', 'PassengerId', 'Name', 'Ticket', 'Embarked'], axis=1, inplace=True)"
   ]
  },
  {
   "cell_type": "code",
   "execution_count": 18,
   "metadata": {},
   "outputs": [
    {
     "data": {
      "text/html": [
       "<div>\n",
       "<style scoped>\n",
       "    .dataframe tbody tr th:only-of-type {\n",
       "        vertical-align: middle;\n",
       "    }\n",
       "\n",
       "    .dataframe tbody tr th {\n",
       "        vertical-align: top;\n",
       "    }\n",
       "\n",
       "    .dataframe thead th {\n",
       "        text-align: right;\n",
       "    }\n",
       "</style>\n",
       "<table border=\"1\" class=\"dataframe\">\n",
       "  <thead>\n",
       "    <tr style=\"text-align: right;\">\n",
       "      <th></th>\n",
       "      <th>Survived</th>\n",
       "      <th>Pclass</th>\n",
       "      <th>Sex</th>\n",
       "      <th>Age</th>\n",
       "      <th>SibSp</th>\n",
       "      <th>Parch</th>\n",
       "      <th>Fare</th>\n",
       "      <th>S</th>\n",
       "      <th>Q</th>\n",
       "    </tr>\n",
       "  </thead>\n",
       "  <tbody>\n",
       "    <tr>\n",
       "      <th>0</th>\n",
       "      <td>0</td>\n",
       "      <td>3</td>\n",
       "      <td>1</td>\n",
       "      <td>22.0</td>\n",
       "      <td>1</td>\n",
       "      <td>0</td>\n",
       "      <td>7.2500</td>\n",
       "      <td>1</td>\n",
       "      <td>0</td>\n",
       "    </tr>\n",
       "    <tr>\n",
       "      <th>1</th>\n",
       "      <td>1</td>\n",
       "      <td>1</td>\n",
       "      <td>0</td>\n",
       "      <td>38.0</td>\n",
       "      <td>1</td>\n",
       "      <td>0</td>\n",
       "      <td>71.2833</td>\n",
       "      <td>0</td>\n",
       "      <td>0</td>\n",
       "    </tr>\n",
       "    <tr>\n",
       "      <th>2</th>\n",
       "      <td>1</td>\n",
       "      <td>3</td>\n",
       "      <td>0</td>\n",
       "      <td>26.0</td>\n",
       "      <td>0</td>\n",
       "      <td>0</td>\n",
       "      <td>7.9250</td>\n",
       "      <td>1</td>\n",
       "      <td>0</td>\n",
       "    </tr>\n",
       "    <tr>\n",
       "      <th>3</th>\n",
       "      <td>1</td>\n",
       "      <td>1</td>\n",
       "      <td>0</td>\n",
       "      <td>35.0</td>\n",
       "      <td>1</td>\n",
       "      <td>0</td>\n",
       "      <td>53.1000</td>\n",
       "      <td>1</td>\n",
       "      <td>0</td>\n",
       "    </tr>\n",
       "    <tr>\n",
       "      <th>4</th>\n",
       "      <td>0</td>\n",
       "      <td>3</td>\n",
       "      <td>1</td>\n",
       "      <td>35.0</td>\n",
       "      <td>0</td>\n",
       "      <td>0</td>\n",
       "      <td>8.0500</td>\n",
       "      <td>1</td>\n",
       "      <td>0</td>\n",
       "    </tr>\n",
       "    <tr>\n",
       "      <th>5</th>\n",
       "      <td>0</td>\n",
       "      <td>3</td>\n",
       "      <td>1</td>\n",
       "      <td>25.0</td>\n",
       "      <td>0</td>\n",
       "      <td>0</td>\n",
       "      <td>8.4583</td>\n",
       "      <td>0</td>\n",
       "      <td>1</td>\n",
       "    </tr>\n",
       "    <tr>\n",
       "      <th>6</th>\n",
       "      <td>0</td>\n",
       "      <td>1</td>\n",
       "      <td>1</td>\n",
       "      <td>54.0</td>\n",
       "      <td>0</td>\n",
       "      <td>0</td>\n",
       "      <td>51.8625</td>\n",
       "      <td>1</td>\n",
       "      <td>0</td>\n",
       "    </tr>\n",
       "    <tr>\n",
       "      <th>7</th>\n",
       "      <td>0</td>\n",
       "      <td>3</td>\n",
       "      <td>1</td>\n",
       "      <td>2.0</td>\n",
       "      <td>3</td>\n",
       "      <td>1</td>\n",
       "      <td>21.0750</td>\n",
       "      <td>1</td>\n",
       "      <td>0</td>\n",
       "    </tr>\n",
       "    <tr>\n",
       "      <th>8</th>\n",
       "      <td>1</td>\n",
       "      <td>3</td>\n",
       "      <td>0</td>\n",
       "      <td>27.0</td>\n",
       "      <td>0</td>\n",
       "      <td>2</td>\n",
       "      <td>11.1333</td>\n",
       "      <td>1</td>\n",
       "      <td>0</td>\n",
       "    </tr>\n",
       "    <tr>\n",
       "      <th>9</th>\n",
       "      <td>1</td>\n",
       "      <td>2</td>\n",
       "      <td>0</td>\n",
       "      <td>14.0</td>\n",
       "      <td>1</td>\n",
       "      <td>0</td>\n",
       "      <td>30.0708</td>\n",
       "      <td>0</td>\n",
       "      <td>0</td>\n",
       "    </tr>\n",
       "  </tbody>\n",
       "</table>\n",
       "</div>"
      ],
      "text/plain": [
       "   Survived  Pclass  Sex   Age  SibSp  Parch     Fare  S  Q\n",
       "0         0       3    1  22.0      1      0   7.2500  1  0\n",
       "1         1       1    0  38.0      1      0  71.2833  0  0\n",
       "2         1       3    0  26.0      0      0   7.9250  1  0\n",
       "3         1       1    0  35.0      1      0  53.1000  1  0\n",
       "4         0       3    1  35.0      0      0   8.0500  1  0\n",
       "5         0       3    1  25.0      0      0   8.4583  0  1\n",
       "6         0       1    1  54.0      0      0  51.8625  1  0\n",
       "7         0       3    1   2.0      3      1  21.0750  1  0\n",
       "8         1       3    0  27.0      0      2  11.1333  1  0\n",
       "9         1       2    0  14.0      1      0  30.0708  0  0"
      ]
     },
     "execution_count": 18,
     "metadata": {},
     "output_type": "execute_result"
    }
   ],
   "source": [
    "train.head(10)"
   ]
  },
  {
   "cell_type": "code",
   "execution_count": 19,
   "metadata": {},
   "outputs": [
    {
     "data": {
      "text/plain": [
       "<matplotlib.axes._subplots.AxesSubplot at 0x2b17f852348>"
      ]
     },
     "execution_count": 19,
     "metadata": {},
     "output_type": "execute_result"
    },
    {
     "data": {
      "image/png": "[encoded data removed]",
      "text/plain": [
       "<Figure size 432x288 with 2 Axes>"
      ]
     },
     "metadata": {
      "needs_background": "light"
     },
     "output_type": "display_data"
    }
   ],
   "source": [
    "sns.heatmap(train.corr(), annot= True)"
   ]
  },
  {
   "cell_type": "markdown",
   "metadata": {},
   "source": [
    "### Machine Learning Models\n",
    "\n",
    "1. Logistic Regression - Tiago\n",
    "2. Random Forest Classification - Sadiyah\n",
    "3. Support Vector Machine - Raman\n",
    "4. Neural Network - Adesh\n",
    "___"
   ]
  },
  {
   "cell_type": "markdown",
   "metadata": {},
   "source": [
    "**Neural Network using Keras**"
   ]
  },
  {
   "cell_type": "code",
   "execution_count": 20,
   "metadata": {},
   "outputs": [],
   "source": [
    "X = train.iloc[:, 1:9]\n",
    "y = train.iloc[:, 0]"
   ]
  },
  {
   "cell_type": "code",
   "execution_count": 21,
   "metadata": {},
   "outputs": [
    {
     "data": {
      "text/plain": [
       "array([[ 0.82737724,  0.73769513, -0.53719199, ..., -0.50244517,\n",
       "         0.61930636, -0.30756234],\n",
       "       [-1.56610693, -1.35557354,  0.6672755 , ...,  0.78684529,\n",
       "        -1.61470971, -0.30756234],\n",
       "       [ 0.82737724, -1.35557354, -0.23607512, ..., -0.48885426,\n",
       "         0.61930636, -0.30756234],\n",
       "       ...,\n",
       "       [ 0.82737724, -1.35557354, -0.53719199, ..., -0.17626324,\n",
       "         0.61930636, -0.30756234],\n",
       "       [-1.56610693,  0.73769513, -0.23607512, ..., -0.04438104,\n",
       "        -1.61470971, -0.30756234],\n",
       "       [ 0.82737724,  0.73769513,  0.21560019, ..., -0.49237783,\n",
       "        -1.61470971,  3.25137334]])"
      ]
     },
     "execution_count": 21,
     "metadata": {},
     "output_type": "execute_result"
    }
   ],
   "source": [
    "from sklearn.preprocessing import StandardScaler\n",
    "\n",
    "sc = StandardScaler()\n",
    "X = sc.fit_transform(X)\n",
    "X"
   ]
  },
  {
   "cell_type": "code",
   "execution_count": 22,
   "metadata": {},
   "outputs": [
    {
     "name": "stderr",
     "output_type": "stream",
     "text": [
      "Using TensorFlow backend.\n"
     ]
    }
   ],
   "source": [
    "from keras import Sequential\n",
    "from keras.layers import Dense"
   ]
  },
  {
   "cell_type": "code",
   "execution_count": 23,
   "metadata": {},
   "outputs": [
    {
     "name": "stdout",
     "output_type": "stream",
     "text": [
      "WARNING:tensorflow:From C:\\Users\\Adesh\\Anaconda3\\envs\\gputest\\lib\\site-packages\\tensorflow\\python\\framework\\op_def_library.py:263: colocate_with (from tensorflow.python.framework.ops) is deprecated and will be removed in a future version.\n",
      "Instructions for updating:\n",
      "Colocations handled automatically by placer.\n"
     ]
    }
   ],
   "source": [
    "classifier = Sequential()\n",
    "\n",
    "# Creating hidden layers\n",
    "classifier.add(Dense(4, activation='relu', kernel_initializer='random_normal', input_dim=8))\n",
    "classifier.add(Dense(4, activation='relu', kernel_initializer='random_normal'))\n",
    "\n",
    "#Output Layer\n",
    "classifier.add(Dense(1, activation='sigmoid', kernel_initializer='random_normal'))"
   ]
  },
  {
   "cell_type": "code",
   "execution_count": 24,
   "metadata": {},
   "outputs": [],
   "source": [
    "#Compiling the neural network\n",
    "classifier.compile(optimizer ='adam',loss='binary_crossentropy', metrics =['accuracy'])"
   ]
  },
  {
   "cell_type": "code",
   "execution_count": 25,
   "metadata": {
    "collapsed": true,
    "jupyter": {
     "outputs_hidden": true
    }
   },
   "outputs": [
    {
     "name": "stdout",
     "output_type": "stream",
     "text": [
      "WARNING:tensorflow:From C:\\Users\\Adesh\\Anaconda3\\envs\\gputest\\lib\\site-packages\\tensorflow\\python\\ops\\math_ops.py:3066: to_int32 (from tensorflow.python.ops.math_ops) is deprecated and will be removed in a future version.\n",
      "Instructions for updating:\n",
      "Use tf.cast instead.\n",
      "Epoch 1/256\n",
      "891/891 [==============================] - 1s 1ms/step - loss: 0.6927 - acc: 0.6162\n",
      "Epoch 2/256\n",
      "891/891 [==============================] - 0s 20us/step - loss: 0.6919 - acc: 0.6162\n",
      "Epoch 3/256\n",
      "891/891 [==============================] - 0s 21us/step - loss: 0.6909 - acc: 0.6162\n",
      "Epoch 4/256\n",
      "891/891 [==============================] - 0s 21us/step - loss: 0.6900 - acc: 0.6162\n",
      "Epoch 5/256\n",
      "891/891 [==============================] - 0s 19us/step - loss: 0.6889 - acc: 0.6162\n",
      "Epoch 6/256\n",
      "891/891 [==============================] - 0s 20us/step - loss: 0.6877 - acc: 0.6162\n",
      "Epoch 7/256\n",
      "891/891 [==============================] - 0s 18us/step - loss: 0.6862 - acc: 0.6162\n",
      "Epoch 8/256\n",
      "891/891 [==============================] - 0s 19us/step - loss: 0.6846 - acc: 0.6162\n",
      "Epoch 9/256\n",
      "891/891 [==============================] - 0s 18us/step - loss: 0.6824 - acc: 0.6162\n",
      "Epoch 10/256\n",
      "891/891 [==============================] - 0s 20us/step - loss: 0.6797 - acc: 0.6162\n",
      "Epoch 11/256\n",
      "891/891 [==============================] - 0s 19us/step - loss: 0.6763 - acc: 0.6162\n",
      "Epoch 12/256\n",
      "891/891 [==============================] - 0s 19us/step - loss: 0.6721 - acc: 0.6162\n",
      "Epoch 13/256\n",
      "891/891 [==============================] - 0s 19us/step - loss: 0.6678 - acc: 0.6162\n",
      "Epoch 14/256\n",
      "891/891 [==============================] - 0s 18us/step - loss: 0.6625 - acc: 0.6162\n",
      "Epoch 15/256\n",
      "891/891 [==============================] - 0s 19us/step - loss: 0.6568 - acc: 0.6162\n",
      "Epoch 16/256\n",
      "891/891 [==============================] - 0s 19us/step - loss: 0.6505 - acc: 0.6162\n",
      "Epoch 17/256\n",
      "891/891 [==============================] - 0s 19us/step - loss: 0.6440 - acc: 0.6162\n",
      "Epoch 18/256\n",
      "891/891 [==============================] - 0s 19us/step - loss: 0.6371 - acc: 0.6162\n",
      "Epoch 19/256\n",
      "891/891 [==============================] - 0s 19us/step - loss: 0.6300 - acc: 0.6162\n",
      "Epoch 20/256\n",
      "891/891 [==============================] - 0s 20us/step - loss: 0.6232 - acc: 0.6162\n",
      "Epoch 21/256\n",
      "891/891 [==============================] - 0s 19us/step - loss: 0.6163 - acc: 0.6162\n",
      "Epoch 22/256\n",
      "891/891 [==============================] - 0s 17us/step - loss: 0.6103 - acc: 0.6162\n",
      "Epoch 23/256\n",
      "891/891 [==============================] - 0s 18us/step - loss: 0.6040 - acc: 0.6162\n",
      "Epoch 24/256\n",
      "891/891 [==============================] - 0s 19us/step - loss: 0.5986 - acc: 0.6162\n",
      "Epoch 25/256\n",
      "891/891 [==============================] - 0s 19us/step - loss: 0.5937 - acc: 0.6162\n",
      "Epoch 26/256\n",
      "891/891 [==============================] - 0s 18us/step - loss: 0.5893 - acc: 0.6162\n",
      "Epoch 27/256\n",
      "891/891 [==============================] - 0s 19us/step - loss: 0.5848 - acc: 0.6162\n",
      "Epoch 28/256\n",
      "891/891 [==============================] - 0s 19us/step - loss: 0.5810 - acc: 0.6162\n",
      "Epoch 29/256\n",
      "891/891 [==============================] - 0s 18us/step - loss: 0.5771 - acc: 0.6162\n",
      "Epoch 30/256\n",
      "891/891 [==============================] - 0s 18us/step - loss: 0.5735 - acc: 0.6162\n",
      "Epoch 31/256\n",
      "891/891 [==============================] - 0s 20us/step - loss: 0.5701 - acc: 0.6162\n",
      "Epoch 32/256\n",
      "891/891 [==============================] - 0s 19us/step - loss: 0.5665 - acc: 0.6162\n",
      "Epoch 33/256\n",
      "891/891 [==============================] - 0s 19us/step - loss: 0.5629 - acc: 0.6162\n",
      "Epoch 34/256\n",
      "891/891 [==============================] - 0s 19us/step - loss: 0.5592 - acc: 0.6162\n",
      "Epoch 35/256\n",
      "891/891 [==============================] - 0s 18us/step - loss: 0.5558 - acc: 0.6162\n",
      "Epoch 36/256\n",
      "891/891 [==============================] - 0s 18us/step - loss: 0.5526 - acc: 0.6162\n",
      "Epoch 37/256\n",
      "891/891 [==============================] - 0s 19us/step - loss: 0.5492 - acc: 0.6162\n",
      "Epoch 38/256\n",
      "891/891 [==============================] - 0s 19us/step - loss: 0.5459 - acc: 0.6162\n",
      "Epoch 39/256\n",
      "891/891 [==============================] - 0s 17us/step - loss: 0.5429 - acc: 0.6162\n",
      "Epoch 40/256\n",
      "891/891 [==============================] - 0s 18us/step - loss: 0.5399 - acc: 0.6162\n",
      "Epoch 41/256\n",
      "891/891 [==============================] - 0s 19us/step - loss: 0.5372 - acc: 0.6162\n",
      "Epoch 42/256\n",
      "891/891 [==============================] - 0s 19us/step - loss: 0.5350 - acc: 0.6162\n",
      "Epoch 43/256\n",
      "891/891 [==============================] - 0s 18us/step - loss: 0.5326 - acc: 0.6162\n",
      "Epoch 44/256\n",
      "891/891 [==============================] - 0s 18us/step - loss: 0.5306 - acc: 0.6162\n",
      "Epoch 45/256\n",
      "891/891 [==============================] - 0s 19us/step - loss: 0.5287 - acc: 0.7710\n",
      "Epoch 46/256\n",
      "891/891 [==============================] - 0s 18us/step - loss: 0.5271 - acc: 0.7789\n",
      "Epoch 47/256\n",
      "891/891 [==============================] - 0s 18us/step - loss: 0.5254 - acc: 0.7811\n",
      "Epoch 48/256\n",
      "891/891 [==============================] - 0s 19us/step - loss: 0.5240 - acc: 0.7845\n",
      "Epoch 49/256\n",
      "891/891 [==============================] - 0s 19us/step - loss: 0.5228 - acc: 0.7912\n",
      "Epoch 50/256\n",
      "891/891 [==============================] - 0s 19us/step - loss: 0.5215 - acc: 0.7935\n",
      "Epoch 51/256\n",
      "891/891 [==============================] - 0s 19us/step - loss: 0.5203 - acc: 0.7957\n",
      "Epoch 52/256\n",
      "891/891 [==============================] - 0s 17us/step - loss: 0.5192 - acc: 0.7969\n",
      "Epoch 53/256\n",
      "891/891 [==============================] - 0s 19us/step - loss: 0.5181 - acc: 0.7969\n",
      "Epoch 54/256\n",
      "891/891 [==============================] - 0s 19us/step - loss: 0.5171 - acc: 0.7969\n",
      "Epoch 55/256\n",
      "891/891 [==============================] - 0s 18us/step - loss: 0.5161 - acc: 0.7969\n",
      "Epoch 56/256\n",
      "891/891 [==============================] - 0s 18us/step - loss: 0.5150 - acc: 0.7957\n",
      "Epoch 57/256\n",
      "891/891 [==============================] - 0s 18us/step - loss: 0.5142 - acc: 0.7969\n",
      "Epoch 58/256\n",
      "891/891 [==============================] - 0s 19us/step - loss: 0.5134 - acc: 0.7980\n",
      "Epoch 59/256\n",
      "891/891 [==============================] - 0s 19us/step - loss: 0.5124 - acc: 0.7980\n",
      "Epoch 60/256\n",
      "891/891 [==============================] - 0s 20us/step - loss: 0.5116 - acc: 0.7991\n",
      "Epoch 61/256\n",
      "891/891 [==============================] - 0s 19us/step - loss: 0.5108 - acc: 0.8002\n",
      "Epoch 62/256\n",
      "891/891 [==============================] - 0s 18us/step - loss: 0.5100 - acc: 0.7991\n",
      "Epoch 63/256\n",
      "891/891 [==============================] - 0s 18us/step - loss: 0.5093 - acc: 0.7991\n",
      "Epoch 64/256\n",
      "891/891 [==============================] - 0s 19us/step - loss: 0.5085 - acc: 0.7991\n",
      "Epoch 65/256\n",
      "891/891 [==============================] - 0s 19us/step - loss: 0.5077 - acc: 0.7980\n",
      "Epoch 66/256\n",
      "891/891 [==============================] - 0s 18us/step - loss: 0.5070 - acc: 0.7991\n",
      "Epoch 67/256\n",
      "891/891 [==============================] - 0s 19us/step - loss: 0.5063 - acc: 0.7991\n",
      "Epoch 68/256\n",
      "891/891 [==============================] - 0s 19us/step - loss: 0.5056 - acc: 0.8002\n",
      "Epoch 69/256\n",
      "891/891 [==============================] - 0s 19us/step - loss: 0.5048 - acc: 0.7980\n",
      "Epoch 70/256\n",
      "891/891 [==============================] - 0s 20us/step - loss: 0.5042 - acc: 0.8013\n",
      "Epoch 71/256\n",
      "891/891 [==============================] - 0s 18us/step - loss: 0.5035 - acc: 0.8002\n",
      "Epoch 72/256\n",
      "891/891 [==============================] - 0s 18us/step - loss: 0.5029 - acc: 0.8002\n",
      "Epoch 73/256\n",
      "891/891 [==============================] - 0s 18us/step - loss: 0.5022 - acc: 0.8025\n",
      "Epoch 74/256\n",
      "891/891 [==============================] - 0s 18us/step - loss: 0.5017 - acc: 0.8013\n",
      "Epoch 75/256\n",
      "891/891 [==============================] - 0s 18us/step - loss: 0.5011 - acc: 0.8025\n",
      "Epoch 76/256\n",
      "891/891 [==============================] - 0s 18us/step - loss: 0.5005 - acc: 0.8036\n",
      "Epoch 77/256\n",
      "891/891 [==============================] - 0s 19us/step - loss: 0.4998 - acc: 0.8047\n",
      "Epoch 78/256\n",
      "891/891 [==============================] - 0s 18us/step - loss: 0.4992 - acc: 0.8047\n",
      "Epoch 79/256\n",
      "891/891 [==============================] - 0s 18us/step - loss: 0.4987 - acc: 0.8058\n",
      "Epoch 80/256\n",
      "891/891 [==============================] - 0s 18us/step - loss: 0.4982 - acc: 0.8081\n",
      "Epoch 81/256\n",
      "891/891 [==============================] - 0s 19us/step - loss: 0.4976 - acc: 0.8092\n",
      "Epoch 82/256\n",
      "891/891 [==============================] - 0s 19us/step - loss: 0.4971 - acc: 0.8092\n",
      "Epoch 83/256\n",
      "891/891 [==============================] - ETA: 0s - loss: 0.5192 - acc: 0.789 - 0s 18us/step - loss: 0.4965 - acc: 0.8092\n",
      "Epoch 84/256\n",
      "891/891 [==============================] - 0s 18us/step - loss: 0.4960 - acc: 0.8092\n",
      "Epoch 85/256\n",
      "891/891 [==============================] - 0s 19us/step - loss: 0.4955 - acc: 0.8103\n",
      "Epoch 86/256\n",
      "891/891 [==============================] - 0s 18us/step - loss: 0.4950 - acc: 0.8126\n",
      "Epoch 87/256\n",
      "891/891 [==============================] - 0s 19us/step - loss: 0.4945 - acc: 0.8148\n",
      "Epoch 88/256\n",
      "891/891 [==============================] - 0s 18us/step - loss: 0.4940 - acc: 0.8148\n",
      "Epoch 89/256\n",
      "891/891 [==============================] - 0s 19us/step - loss: 0.4935 - acc: 0.8148\n",
      "Epoch 90/256\n",
      "891/891 [==============================] - 0s 19us/step - loss: 0.4930 - acc: 0.8148\n",
      "Epoch 91/256\n",
      "891/891 [==============================] - 0s 20us/step - loss: 0.4925 - acc: 0.8148\n",
      "Epoch 92/256\n",
      "891/891 [==============================] - 0s 19us/step - loss: 0.4920 - acc: 0.8148\n",
      "Epoch 93/256\n",
      "891/891 [==============================] - 0s 18us/step - loss: 0.4915 - acc: 0.8148\n",
      "Epoch 94/256\n",
      "891/891 [==============================] - 0s 19us/step - loss: 0.4911 - acc: 0.8159\n",
      "Epoch 95/256\n",
      "891/891 [==============================] - 0s 18us/step - loss: 0.4907 - acc: 0.8182\n",
      "Epoch 96/256\n",
      "891/891 [==============================] - 0s 18us/step - loss: 0.4903 - acc: 0.8182\n",
      "Epoch 97/256\n",
      "891/891 [==============================] - 0s 19us/step - loss: 0.4898 - acc: 0.8182\n",
      "Epoch 98/256\n",
      "891/891 [==============================] - 0s 18us/step - loss: 0.4894 - acc: 0.8182\n",
      "Epoch 99/256\n",
      "891/891 [==============================] - 0s 18us/step - loss: 0.4889 - acc: 0.8182\n",
      "Epoch 100/256\n",
      "891/891 [==============================] - 0s 19us/step - loss: 0.4884 - acc: 0.8193\n",
      "Epoch 101/256\n",
      "891/891 [==============================] - 0s 18us/step - loss: 0.4880 - acc: 0.8182\n",
      "Epoch 102/256\n",
      "891/891 [==============================] - 0s 19us/step - loss: 0.4876 - acc: 0.8204\n",
      "Epoch 103/256\n",
      "891/891 [==============================] - 0s 18us/step - loss: 0.4872 - acc: 0.8204\n",
      "Epoch 104/256\n",
      "891/891 [==============================] - 0s 18us/step - loss: 0.4868 - acc: 0.8204\n",
      "Epoch 105/256\n",
      "891/891 [==============================] - 0s 19us/step - loss: 0.4864 - acc: 0.8204\n",
      "Epoch 106/256\n",
      "891/891 [==============================] - 0s 20us/step - loss: 0.4860 - acc: 0.8204\n",
      "Epoch 107/256\n",
      "891/891 [==============================] - 0s 19us/step - loss: 0.4855 - acc: 0.8204\n",
      "Epoch 108/256\n",
      "891/891 [==============================] - 0s 18us/step - loss: 0.4853 - acc: 0.8204\n",
      "Epoch 109/256\n",
      "891/891 [==============================] - 0s 18us/step - loss: 0.4848 - acc: 0.8193\n",
      "Epoch 110/256\n",
      "891/891 [==============================] - 0s 17us/step - loss: 0.4844 - acc: 0.8204\n",
      "Epoch 111/256\n",
      "891/891 [==============================] - 0s 18us/step - loss: 0.4841 - acc: 0.8193\n",
      "Epoch 112/256\n",
      "891/891 [==============================] - 0s 17us/step - loss: 0.4836 - acc: 0.8193\n",
      "Epoch 113/256\n",
      "891/891 [==============================] - 0s 19us/step - loss: 0.4832 - acc: 0.8182\n",
      "Epoch 114/256\n",
      "891/891 [==============================] - 0s 17us/step - loss: 0.4828 - acc: 0.8182\n",
      "Epoch 115/256\n",
      "891/891 [==============================] - 0s 18us/step - loss: 0.4824 - acc: 0.8182\n",
      "Epoch 116/256\n",
      "891/891 [==============================] - 0s 19us/step - loss: 0.4820 - acc: 0.8171\n",
      "Epoch 117/256\n",
      "891/891 [==============================] - 0s 18us/step - loss: 0.4816 - acc: 0.8171\n",
      "Epoch 118/256\n",
      "891/891 [==============================] - 0s 18us/step - loss: 0.4813 - acc: 0.8148\n",
      "Epoch 119/256\n",
      "891/891 [==============================] - 0s 18us/step - loss: 0.4809 - acc: 0.8137\n",
      "Epoch 120/256\n",
      "891/891 [==============================] - 0s 19us/step - loss: 0.4805 - acc: 0.8137\n",
      "Epoch 121/256\n",
      "891/891 [==============================] - 0s 19us/step - loss: 0.4801 - acc: 0.8126\n",
      "Epoch 122/256\n",
      "891/891 [==============================] - 0s 19us/step - loss: 0.4797 - acc: 0.8126\n",
      "Epoch 123/256\n",
      "891/891 [==============================] - 0s 18us/step - loss: 0.4793 - acc: 0.8126\n",
      "Epoch 124/256\n",
      "891/891 [==============================] - 0s 20us/step - loss: 0.4790 - acc: 0.8126\n",
      "Epoch 125/256\n",
      "891/891 [==============================] - 0s 18us/step - loss: 0.4786 - acc: 0.8126\n",
      "Epoch 126/256\n",
      "891/891 [==============================] - 0s 17us/step - loss: 0.4781 - acc: 0.8126\n",
      "Epoch 127/256\n",
      "891/891 [==============================] - 0s 17us/step - loss: 0.4777 - acc: 0.8126\n",
      "Epoch 128/256\n",
      "891/891 [==============================] - 0s 17us/step - loss: 0.4773 - acc: 0.8126\n",
      "Epoch 129/256\n",
      "891/891 [==============================] - 0s 18us/step - loss: 0.4769 - acc: 0.8126\n",
      "Epoch 130/256\n",
      "891/891 [==============================] - 0s 19us/step - loss: 0.4764 - acc: 0.8126\n",
      "Epoch 131/256\n",
      "891/891 [==============================] - 0s 19us/step - loss: 0.4760 - acc: 0.8137\n",
      "Epoch 132/256\n",
      "891/891 [==============================] - 0s 19us/step - loss: 0.4757 - acc: 0.8137\n",
      "Epoch 133/256\n",
      "891/891 [==============================] - 0s 17us/step - loss: 0.4752 - acc: 0.8148\n",
      "Epoch 134/256\n",
      "891/891 [==============================] - 0s 18us/step - loss: 0.4747 - acc: 0.8148\n",
      "Epoch 135/256\n",
      "891/891 [==============================] - 0s 19us/step - loss: 0.4743 - acc: 0.8137\n",
      "Epoch 136/256\n",
      "891/891 [==============================] - 0s 18us/step - loss: 0.4739 - acc: 0.8126\n",
      "Epoch 137/256\n",
      "891/891 [==============================] - 0s 19us/step - loss: 0.4735 - acc: 0.8137\n",
      "Epoch 138/256\n",
      "891/891 [==============================] - 0s 18us/step - loss: 0.4731 - acc: 0.8137\n",
      "Epoch 139/256\n",
      "891/891 [==============================] - 0s 18us/step - loss: 0.4727 - acc: 0.8137\n",
      "Epoch 140/256\n",
      "891/891 [==============================] - 0s 18us/step - loss: 0.4722 - acc: 0.8137\n",
      "Epoch 141/256\n",
      "891/891 [==============================] - 0s 19us/step - loss: 0.4718 - acc: 0.8137\n",
      "Epoch 142/256\n",
      "891/891 [==============================] - 0s 17us/step - loss: 0.4715 - acc: 0.8148\n",
      "Epoch 143/256\n",
      "891/891 [==============================] - 0s 20us/step - loss: 0.4710 - acc: 0.8148\n",
      "Epoch 144/256\n",
      "891/891 [==============================] - 0s 19us/step - loss: 0.4707 - acc: 0.8148\n",
      "Epoch 145/256\n",
      "891/891 [==============================] - 0s 19us/step - loss: 0.4703 - acc: 0.8148\n",
      "Epoch 146/256\n",
      "891/891 [==============================] - 0s 19us/step - loss: 0.4699 - acc: 0.8148\n",
      "Epoch 147/256\n",
      "891/891 [==============================] - 0s 18us/step - loss: 0.4695 - acc: 0.8159\n",
      "Epoch 148/256\n",
      "891/891 [==============================] - 0s 20us/step - loss: 0.4692 - acc: 0.8159\n",
      "Epoch 149/256\n",
      "891/891 [==============================] - 0s 19us/step - loss: 0.4689 - acc: 0.8159\n",
      "Epoch 150/256\n",
      "891/891 [==============================] - 0s 19us/step - loss: 0.4685 - acc: 0.8159\n",
      "Epoch 151/256\n",
      "891/891 [==============================] - 0s 20us/step - loss: 0.4682 - acc: 0.8159\n",
      "Epoch 152/256\n",
      "891/891 [==============================] - 0s 20us/step - loss: 0.4679 - acc: 0.8171\n",
      "Epoch 153/256\n",
      "891/891 [==============================] - 0s 18us/step - loss: 0.4675 - acc: 0.8171\n",
      "Epoch 154/256\n",
      "891/891 [==============================] - 0s 19us/step - loss: 0.4673 - acc: 0.8159\n",
      "Epoch 155/256\n",
      "891/891 [==============================] - 0s 18us/step - loss: 0.4668 - acc: 0.8148\n",
      "Epoch 156/256\n",
      "891/891 [==============================] - 0s 19us/step - loss: 0.4664 - acc: 0.8159\n",
      "Epoch 157/256\n",
      "891/891 [==============================] - 0s 19us/step - loss: 0.4662 - acc: 0.8171\n",
      "Epoch 158/256\n",
      "891/891 [==============================] - 0s 19us/step - loss: 0.4658 - acc: 0.8182\n",
      "Epoch 159/256\n",
      "891/891 [==============================] - 0s 19us/step - loss: 0.4655 - acc: 0.8182\n",
      "Epoch 160/256\n",
      "891/891 [==============================] - 0s 18us/step - loss: 0.4652 - acc: 0.8182\n",
      "Epoch 161/256\n",
      "891/891 [==============================] - 0s 18us/step - loss: 0.4650 - acc: 0.8182\n",
      "Epoch 162/256\n",
      "891/891 [==============================] - 0s 20us/step - loss: 0.4646 - acc: 0.8182\n",
      "Epoch 163/256\n",
      "891/891 [==============================] - 0s 18us/step - loss: 0.4644 - acc: 0.8193\n",
      "Epoch 164/256\n",
      "891/891 [==============================] - 0s 19us/step - loss: 0.4639 - acc: 0.8193\n",
      "Epoch 165/256\n",
      "891/891 [==============================] - 0s 18us/step - loss: 0.4636 - acc: 0.8193\n",
      "Epoch 166/256\n",
      "891/891 [==============================] - 0s 18us/step - loss: 0.4633 - acc: 0.8193\n",
      "Epoch 167/256\n",
      "891/891 [==============================] - 0s 20us/step - loss: 0.4631 - acc: 0.8182\n",
      "Epoch 168/256\n",
      "891/891 [==============================] - 0s 18us/step - loss: 0.4628 - acc: 0.8182\n",
      "Epoch 169/256\n",
      "891/891 [==============================] - 0s 18us/step - loss: 0.4625 - acc: 0.8182\n",
      "Epoch 170/256\n",
      "891/891 [==============================] - 0s 18us/step - loss: 0.4622 - acc: 0.8193\n",
      "Epoch 171/256\n",
      "891/891 [==============================] - 0s 17us/step - loss: 0.4619 - acc: 0.8193\n",
      "Epoch 172/256\n",
      "891/891 [==============================] - 0s 18us/step - loss: 0.4616 - acc: 0.8193\n",
      "Epoch 173/256\n",
      "891/891 [==============================] - 0s 19us/step - loss: 0.4613 - acc: 0.8182\n",
      "Epoch 174/256\n",
      "891/891 [==============================] - 0s 18us/step - loss: 0.4611 - acc: 0.8182\n",
      "Epoch 175/256\n",
      "891/891 [==============================] - 0s 18us/step - loss: 0.4608 - acc: 0.8182\n",
      "Epoch 176/256\n",
      "891/891 [==============================] - 0s 18us/step - loss: 0.4605 - acc: 0.8182\n",
      "Epoch 177/256\n",
      "891/891 [==============================] - 0s 17us/step - loss: 0.4601 - acc: 0.8182\n",
      "Epoch 178/256\n",
      "891/891 [==============================] - 0s 17us/step - loss: 0.4599 - acc: 0.8182\n",
      "Epoch 179/256\n",
      "891/891 [==============================] - 0s 18us/step - loss: 0.4596 - acc: 0.8182\n",
      "Epoch 180/256\n",
      "891/891 [==============================] - 0s 18us/step - loss: 0.4594 - acc: 0.8204\n",
      "Epoch 181/256\n",
      "891/891 [==============================] - 0s 18us/step - loss: 0.4591 - acc: 0.8182\n",
      "Epoch 182/256\n",
      "891/891 [==============================] - 0s 19us/step - loss: 0.4588 - acc: 0.8182\n",
      "Epoch 183/256\n",
      "891/891 [==============================] - 0s 17us/step - loss: 0.4585 - acc: 0.8182\n",
      "Epoch 184/256\n",
      "891/891 [==============================] - 0s 18us/step - loss: 0.4582 - acc: 0.8182\n",
      "Epoch 185/256\n",
      "891/891 [==============================] - 0s 19us/step - loss: 0.4579 - acc: 0.8171\n",
      "Epoch 186/256\n",
      "891/891 [==============================] - 0s 18us/step - loss: 0.4576 - acc: 0.8171\n",
      "Epoch 187/256\n",
      "891/891 [==============================] - 0s 18us/step - loss: 0.4574 - acc: 0.8171\n",
      "Epoch 188/256\n",
      "891/891 [==============================] - 0s 19us/step - loss: 0.4571 - acc: 0.8148\n",
      "Epoch 189/256\n",
      "891/891 [==============================] - 0s 19us/step - loss: 0.4568 - acc: 0.8148\n",
      "Epoch 190/256\n",
      "891/891 [==============================] - 0s 19us/step - loss: 0.4565 - acc: 0.8159\n",
      "Epoch 191/256\n",
      "891/891 [==============================] - 0s 19us/step - loss: 0.4562 - acc: 0.8159\n",
      "Epoch 192/256\n",
      "891/891 [==============================] - 0s 17us/step - loss: 0.4560 - acc: 0.8159\n",
      "Epoch 193/256\n",
      "891/891 [==============================] - 0s 18us/step - loss: 0.4557 - acc: 0.8159\n",
      "Epoch 194/256\n",
      "891/891 [==============================] - 0s 18us/step - loss: 0.4555 - acc: 0.8159\n",
      "Epoch 195/256\n",
      "891/891 [==============================] - 0s 18us/step - loss: 0.4551 - acc: 0.8159\n",
      "Epoch 196/256\n",
      "891/891 [==============================] - 0s 19us/step - loss: 0.4549 - acc: 0.8159\n",
      "Epoch 197/256\n",
      "891/891 [==============================] - 0s 18us/step - loss: 0.4546 - acc: 0.8159\n",
      "Epoch 198/256\n",
      "891/891 [==============================] - 0s 18us/step - loss: 0.4545 - acc: 0.8159\n",
      "Epoch 199/256\n",
      "891/891 [==============================] - 0s 19us/step - loss: 0.4541 - acc: 0.8159\n",
      "Epoch 200/256\n",
      "891/891 [==============================] - 0s 18us/step - loss: 0.4539 - acc: 0.8159\n",
      "Epoch 201/256\n",
      "891/891 [==============================] - 0s 19us/step - loss: 0.4536 - acc: 0.8159\n",
      "Epoch 202/256\n",
      "891/891 [==============================] - 0s 17us/step - loss: 0.4535 - acc: 0.8159\n",
      "Epoch 203/256\n",
      "891/891 [==============================] - 0s 19us/step - loss: 0.4532 - acc: 0.8159\n",
      "Epoch 204/256\n",
      "891/891 [==============================] - 0s 19us/step - loss: 0.4529 - acc: 0.8159\n",
      "Epoch 205/256\n",
      "891/891 [==============================] - 0s 18us/step - loss: 0.4526 - acc: 0.8148\n",
      "Epoch 206/256\n",
      "891/891 [==============================] - 0s 20us/step - loss: 0.4524 - acc: 0.8148\n",
      "Epoch 207/256\n",
      "891/891 [==============================] - 0s 19us/step - loss: 0.4521 - acc: 0.8148\n",
      "Epoch 208/256\n",
      "891/891 [==============================] - 0s 18us/step - loss: 0.4519 - acc: 0.8159\n",
      "Epoch 209/256\n",
      "891/891 [==============================] - 0s 18us/step - loss: 0.4517 - acc: 0.8159\n",
      "Epoch 210/256\n",
      "891/891 [==============================] - 0s 19us/step - loss: 0.4516 - acc: 0.8159\n",
      "Epoch 211/256\n",
      "891/891 [==============================] - 0s 20us/step - loss: 0.4512 - acc: 0.8159\n",
      "Epoch 212/256\n",
      "891/891 [==============================] - 0s 17us/step - loss: 0.4510 - acc: 0.8159\n",
      "Epoch 213/256\n",
      "891/891 [==============================] - 0s 18us/step - loss: 0.4508 - acc: 0.8159\n",
      "Epoch 214/256\n",
      "891/891 [==============================] - 0s 17us/step - loss: 0.4506 - acc: 0.8159\n",
      "Epoch 215/256\n",
      "891/891 [==============================] - 0s 18us/step - loss: 0.4504 - acc: 0.8159\n",
      "Epoch 216/256\n",
      "891/891 [==============================] - 0s 17us/step - loss: 0.4502 - acc: 0.8148\n",
      "Epoch 217/256\n",
      "891/891 [==============================] - 0s 20us/step - loss: 0.4499 - acc: 0.8148\n",
      "Epoch 218/256\n",
      "891/891 [==============================] - 0s 18us/step - loss: 0.4497 - acc: 0.8148\n",
      "Epoch 219/256\n",
      "891/891 [==============================] - 0s 19us/step - loss: 0.4495 - acc: 0.8148\n",
      "Epoch 220/256\n",
      "891/891 [==============================] - ETA: 0s - loss: 0.4549 - acc: 0.835 - 0s 18us/step - loss: 0.4492 - acc: 0.8148\n",
      "Epoch 221/256\n",
      "891/891 [==============================] - 0s 17us/step - loss: 0.4490 - acc: 0.8148\n",
      "Epoch 222/256\n",
      "891/891 [==============================] - 0s 19us/step - loss: 0.4488 - acc: 0.8148\n",
      "Epoch 223/256\n",
      "891/891 [==============================] - 0s 18us/step - loss: 0.4486 - acc: 0.8148\n",
      "Epoch 224/256\n",
      "891/891 [==============================] - 0s 19us/step - loss: 0.4483 - acc: 0.8148\n",
      "Epoch 225/256\n",
      "891/891 [==============================] - 0s 18us/step - loss: 0.4481 - acc: 0.8148\n",
      "Epoch 226/256\n",
      "891/891 [==============================] - 0s 19us/step - loss: 0.4480 - acc: 0.8137\n",
      "Epoch 227/256\n",
      "891/891 [==============================] - 0s 19us/step - loss: 0.4477 - acc: 0.8148\n",
      "Epoch 228/256\n",
      "891/891 [==============================] - 0s 18us/step - loss: 0.4475 - acc: 0.8148\n",
      "Epoch 229/256\n",
      "891/891 [==============================] - 0s 19us/step - loss: 0.4474 - acc: 0.8148\n",
      "Epoch 230/256\n",
      "891/891 [==============================] - 0s 19us/step - loss: 0.4471 - acc: 0.8148\n",
      "Epoch 231/256\n",
      "891/891 [==============================] - 0s 18us/step - loss: 0.4468 - acc: 0.8171\n",
      "Epoch 232/256\n",
      "891/891 [==============================] - 0s 18us/step - loss: 0.4467 - acc: 0.8148\n",
      "Epoch 233/256\n",
      "891/891 [==============================] - 0s 18us/step - loss: 0.4464 - acc: 0.8148\n",
      "Epoch 234/256\n",
      "891/891 [==============================] - 0s 17us/step - loss: 0.4462 - acc: 0.8148\n",
      "Epoch 235/256\n",
      "891/891 [==============================] - 0s 19us/step - loss: 0.4461 - acc: 0.8159\n",
      "Epoch 236/256\n",
      "891/891 [==============================] - 0s 18us/step - loss: 0.4459 - acc: 0.8159\n",
      "Epoch 237/256\n",
      "891/891 [==============================] - 0s 18us/step - loss: 0.4456 - acc: 0.8159\n",
      "Epoch 238/256\n",
      "891/891 [==============================] - 0s 18us/step - loss: 0.4455 - acc: 0.8159\n",
      "Epoch 239/256\n",
      "891/891 [==============================] - 0s 18us/step - loss: 0.4452 - acc: 0.8159\n",
      "Epoch 240/256\n",
      "891/891 [==============================] - ETA: 0s - loss: 0.4611 - acc: 0.765 - 0s 19us/step - loss: 0.4450 - acc: 0.8159\n",
      "Epoch 241/256\n",
      "891/891 [==============================] - 0s 17us/step - loss: 0.4448 - acc: 0.8159\n",
      "Epoch 242/256\n",
      "891/891 [==============================] - 0s 18us/step - loss: 0.4446 - acc: 0.8159\n",
      "Epoch 243/256\n",
      "891/891 [==============================] - 0s 18us/step - loss: 0.4444 - acc: 0.8159\n",
      "Epoch 244/256\n",
      "891/891 [==============================] - 0s 17us/step - loss: 0.4442 - acc: 0.8159\n",
      "Epoch 245/256\n",
      "891/891 [==============================] - 0s 18us/step - loss: 0.4440 - acc: 0.8159\n",
      "Epoch 246/256\n",
      "891/891 [==============================] - 0s 17us/step - loss: 0.4439 - acc: 0.8171\n",
      "Epoch 247/256\n",
      "891/891 [==============================] - 0s 17us/step - loss: 0.4436 - acc: 0.8171\n",
      "Epoch 248/256\n",
      "891/891 [==============================] - 0s 17us/step - loss: 0.4434 - acc: 0.8171\n",
      "Epoch 249/256\n",
      "891/891 [==============================] - 0s 18us/step - loss: 0.4433 - acc: 0.8171\n",
      "Epoch 250/256\n",
      "891/891 [==============================] - 0s 17us/step - loss: 0.4431 - acc: 0.8171\n",
      "Epoch 251/256\n",
      "891/891 [==============================] - 0s 19us/step - loss: 0.4429 - acc: 0.8171\n",
      "Epoch 252/256\n",
      "891/891 [==============================] - 0s 18us/step - loss: 0.4427 - acc: 0.8171\n",
      "Epoch 253/256\n",
      "891/891 [==============================] - 0s 17us/step - loss: 0.4426 - acc: 0.8171\n",
      "Epoch 254/256\n",
      "891/891 [==============================] - 0s 18us/step - loss: 0.4425 - acc: 0.8171\n",
      "Epoch 255/256\n",
      "891/891 [==============================] - 0s 17us/step - loss: 0.4421 - acc: 0.8171\n",
      "Epoch 256/256\n",
      "891/891 [==============================] - 0s 19us/step - loss: 0.4420 - acc: 0.8171\n"
     ]
    },
    {
     "data": {
      "text/plain": [
       "<keras.callbacks.History at 0x2b105a7c388>"
      ]
     },
     "execution_count": 25,
     "metadata": {},
     "output_type": "execute_result"
    }
   ],
   "source": [
    "#Fitting the data to the training dataset\n",
    "classifier.fit(X, y, batch_size=128, epochs=256)"
   ]
  },
  {
   "cell_type": "code",
   "execution_count": 26,
   "metadata": {},
   "outputs": [
    {
     "name": "stdout",
     "output_type": "stream",
     "text": [
      "891/891 [==============================] - 0s 54us/step\n"
     ]
    },
    {
     "data": {
      "text/plain": [
       "[0.44180548485414484, 0.8170594845958029]"
      ]
     },
     "execution_count": 26,
     "metadata": {},
     "output_type": "execute_result"
    }
   ],
   "source": [
    "eval_model=classifier.evaluate(X, y)\n",
    "eval_model"
   ]
  },
  {
   "cell_type": "code",
   "execution_count": 27,
   "metadata": {},
   "outputs": [],
   "source": [
    "test = pd.read_csv('data/test.csv')"
   ]
  },
  {
   "cell_type": "code",
   "execution_count": 28,
   "metadata": {},
   "outputs": [],
   "source": [
    "test['Age'] = test[['Age','Sex','Pclass']].apply(age_imputation,axis=1)\n",
    "test['Sex'] = test['Sex'].apply(lambda x: gender(x))\n",
    "test['S'] = test['Embarked'].apply(lambda x: southampton(x))\n",
    "test['Q'] = test['Embarked'].apply(lambda x: queenstown(x))\n",
    "test.drop(['Cabin', 'PassengerId', 'Name', 'Ticket', 'Embarked'], axis=1, inplace=True)"
   ]
  },
  {
   "cell_type": "code",
   "execution_count": 30,
   "metadata": {},
   "outputs": [
    {
     "data": {
      "text/plain": [
       "array([[ 0.87348191,  0.75592895,  0.39578146, ..., -0.49781052,\n",
       "        -1.35067551,  2.84375747],\n",
       "       [ 0.87348191, -1.32287566,  1.36279485, ..., -0.51265996,\n",
       "         0.74037028, -0.35164743],\n",
       "       [-0.31581919,  0.75592895,  2.52321092, ..., -0.46453181,\n",
       "        -1.35067551,  2.84375747],\n",
       "       ...,\n",
       "       [ 0.87348191,  0.75592895,  0.70522575, ..., -0.50818292,\n",
       "         0.74037028, -0.35164743],\n",
       "       [ 0.87348191,  0.75592895, -0.33914872, ..., -0.4938564 ,\n",
       "         0.74037028, -0.35164743],\n",
       "       [ 0.87348191,  0.75592895, -0.33914872, ..., -0.23762123,\n",
       "        -1.35067551, -0.35164743]])"
      ]
     },
     "execution_count": 30,
     "metadata": {},
     "output_type": "execute_result"
    }
   ],
   "source": [
    "sc_test = StandardScaler()\n",
    "X_test = sc_test.fit_transform(test)\n",
    "X_test"
   ]
  },
  {
   "cell_type": "code",
   "execution_count": 31,
   "metadata": {},
   "outputs": [],
   "source": [
    "y_pred = classifier.predict(X_test)\n",
    "y_pred = y_pred>0.5"
   ]
  },
  {
   "cell_type": "code",
   "execution_count": 33,
   "metadata": {},
   "outputs": [],
   "source": [
    "y_test = pd.read_csv('data/gender_submission.csv')\n",
    "y_test.drop(['PassengerId'],axis=1,inplace=True)"
   ]
  },
  {
   "cell_type": "code",
   "execution_count": 36,
   "metadata": {},
   "outputs": [],
   "source": [
    "from sklearn.metrics import confusion_matrix\n",
    "cm = confusion_matrix(y_test, y_pred)"
   ]
  },
  {
   "cell_type": "code",
   "execution_count": 39,
   "metadata": {},
   "outputs": [
    {
     "data": {
      "image/png": "[encoded data removed]",
      "text/plain": [
       "<Figure size 576x432 with 2 Axes>"
      ]
     },
     "metadata": {
      "needs_background": "light"
     },
     "output_type": "display_data"
    }
   ],
   "source": [
    "from plotting import plot_confusion_matrix\n",
    "plot_confusion_matrix(cm, ['False', 'True'])"
   ]
  },
  {
   "cell_type": "code",
   "execution_count": null,
   "metadata": {},
   "outputs": [],
   "source": []
  }
 ],
 "metadata": {
  "kernelspec": {
   "display_name": "gputest",
   "language": "python",
   "name": "gputest"
  },
  "language_info": {
   "codemirror_mode": {
    "name": "ipython",
    "version": 3
   },
   "file_extension": ".py",
   "mimetype": "text/x-python",
   "name": "python",
   "nbconvert_exporter": "python",
   "pygments_lexer": "ipython3",
   "version": "3.7.4"
  }
 },
 "nbformat": 4,
 "nbformat_minor": 4
}
